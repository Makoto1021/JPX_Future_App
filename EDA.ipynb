{
 "metadata": {
  "language_info": {
   "codemirror_mode": {
    "name": "ipython",
    "version": 3
   },
   "file_extension": ".py",
   "mimetype": "text/x-python",
   "name": "python",
   "nbconvert_exporter": "python",
   "pygments_lexer": "ipython3",
   "version": "3.6.10-final"
  },
  "orig_nbformat": 2,
  "kernelspec": {
   "name": "python3",
   "display_name": "Python 3.6.10 64-bit ('jpx_env': conda)",
   "metadata": {
    "interpreter": {
     "hash": "2e2390cd2c647d87e0c3f987ee04f9ab870c7ed9ffd5665fe27f3c2d915d739d"
    }
   }
  }
 },
 "nbformat": 4,
 "nbformat_minor": 2,
 "cells": [
  {
   "cell_type": "code",
   "execution_count": 1,
   "metadata": {},
   "outputs": [],
   "source": [
    "import pandas as pd\n",
    "import os\n",
    "from datetime import datetime as dt\n",
    "from datetime import timedelta\n",
    "import numpy as np\n",
    "import boto3\n",
    "from io import StringIO"
   ]
  },
  {
   "cell_type": "code",
   "execution_count": 2,
   "metadata": {},
   "outputs": [],
   "source": [
    "df = pd.DataFrame({\"a\":[1, 2, 3], \"b\":[4, 5, 6]})"
   ]
  },
  {
   "cell_type": "code",
   "execution_count": 3,
   "metadata": {},
   "outputs": [
    {
     "output_type": "execute_result",
     "data": {
      "text/plain": [
       "array([['AWSSecretKey=EufkhN6s6JeUiJdvYSDtheVxaof5lH0asQvA5VlQ']],\n",
       "      dtype=object)"
      ]
     },
     "metadata": {},
     "execution_count": 3
    }
   ],
   "source": [
    "df_cred = pd.read_csv(\"/Users/mmiyazaki/Documents/AWS/access keys/rootkey.csv\")\n",
    "df_cred.values"
   ]
  },
  {
   "cell_type": "code",
   "execution_count": 4,
   "metadata": {},
   "outputs": [],
   "source": [
    "filename = \"raw_data/test.csv\"\n",
    "bucketName = \"jpx-future-bucket\""
   ]
  },
  {
   "cell_type": "code",
   "execution_count": 12,
   "metadata": {},
   "outputs": [],
   "source": [
    "csv_buffer = StringIO()\n",
    "df.to_csv(csv_buffer)\n",
    "client = boto3.client('s3')\n",
    "response = client.put_object(\n",
    "    ACL = 'private',\n",
    "    Body = csv_buffer.getvalue(),\n",
    "    Bucket=bucketName,\n",
    "    Key=filename\n",
    ")"
   ]
  },
  {
   "cell_type": "code",
   "execution_count": 8,
   "metadata": {},
   "outputs": [
    {
     "output_type": "execute_result",
     "data": {
      "text/plain": [
       "{'ResponseMetadata': {'RequestId': '03D884B9026EA44F',\n",
       "  'HostId': 'pMT5f9BV7pWpnljEbXi+DogMcfLDMoNM8quj+gOM4ODwsDVovjHyXkwRW0pEhgOtsvYZB6pO9r8=',\n",
       "  'HTTPStatusCode': 200,\n",
       "  'HTTPHeaders': {'x-amz-id-2': 'pMT5f9BV7pWpnljEbXi+DogMcfLDMoNM8quj+gOM4ODwsDVovjHyXkwRW0pEhgOtsvYZB6pO9r8=',\n",
       "   'x-amz-request-id': '03D884B9026EA44F',\n",
       "   'date': 'Wed, 20 Jan 2021 21:51:24 GMT',\n",
       "   'etag': '\"9626787b13efe16a3703f4cc70e762fb\"',\n",
       "   'content-length': '0',\n",
       "   'server': 'AmazonS3'},\n",
       "  'RetryAttempts': 0},\n",
       " 'ETag': '\"9626787b13efe16a3703f4cc70e762fb\"'}"
      ]
     },
     "metadata": {},
     "execution_count": 8
    }
   ],
   "source": [
    "response"
   ]
  },
  {
   "cell_type": "code",
   "execution_count": 20,
   "metadata": {},
   "outputs": [
    {
     "output_type": "execute_result",
     "data": {
      "text/plain": [
       "{'ResponseMetadata': {'RequestId': 'A85ABEC3061100C7',\n",
       "  'HostId': 'fSnpTCxH4KiWt2JO74cjZdqGtDFY0K+N0SqMqEwqdC8f72ejAlS7o+euKOn1i/Ydkw5yPQn6fLs=',\n",
       "  'HTTPStatusCode': 200,\n",
       "  'HTTPHeaders': {'x-amz-id-2': 'fSnpTCxH4KiWt2JO74cjZdqGtDFY0K+N0SqMqEwqdC8f72ejAlS7o+euKOn1i/Ydkw5yPQn6fLs=',\n",
       "   'x-amz-request-id': 'A85ABEC3061100C7',\n",
       "   'date': 'Wed, 20 Jan 2021 21:43:54 GMT',\n",
       "   'etag': '\"9626787b13efe16a3703f4cc70e762fb\"',\n",
       "   'content-length': '0',\n",
       "   'server': 'AmazonS3'},\n",
       "  'RetryAttempts': 1},\n",
       " 'ETag': '\"9626787b13efe16a3703f4cc70e762fb\"'}"
      ]
     },
     "metadata": {},
     "execution_count": 20
    }
   ],
   "source": [
    "from io import StringIO  # python3 (or BytesIO for python2)\n",
    "import boto3\n",
    "\n",
    "bucket = 'jpx-future-bucket'  # already created on S3\n",
    "csv_buffer = StringIO()\n",
    "df.to_csv(csv_buffer)\n",
    "\n",
    "s3_resource = boto3.resource('s3')\n",
    "s3_resource.Object(bucket, '/raw_data/test.csv').put(Body=csv_buffer.getvalue())"
   ]
  },
  {
   "cell_type": "code",
   "execution_count": 14,
   "metadata": {},
   "outputs": [],
   "source": [
    "df_hist = pd.read_excel(\"/Users/mmiyazaki/Documents/LANCERS/JPX先物取引/JPX_Future_final_dep/完成データ/時系列データ.xlsx\", header=[0, 1, 2])\n",
    "df_hist.to_csv(\"完成データ/時系列データ.csv\")"
   ]
  },
  {
   "cell_type": "code",
   "execution_count": 15,
   "metadata": {},
   "outputs": [
    {
     "output_type": "execute_result",
     "data": {
      "text/plain": [
       "   Unnamed: 0 アメリカ系合計 アメリカ系合計.1 アメリカ系合計.2          アメリカ系合計.3  \\\n",
       "0          銘柄   Topix     Topix     Topix            日経225合計   \n",
       "1          売買      売り        買い        差引                 売り   \n",
       "2  2020-08-07    5077      7530     -2532             4761.4   \n",
       "3  2020-08-11   11841     13035     -1194             7776.5   \n",
       "4  2020-08-12    9305     16916     -7611             8667.8   \n",
       "5  2020-08-13   10687     12246      -665            12014.8   \n",
       "6  2020-08-14   10636     12278     -1642             8251.0   \n",
       "7  2020-08-20   13068     27482    -13700            12470.2   \n",
       "8  2020-08-21    4410      4869      -459  5532.799999999999   \n",
       "\n",
       "           アメリカ系合計.4           アメリカ系合計.5 アメリカ系合計.6 アメリカ系合計.7  \\\n",
       "0            日経225合計             日経225合計       総合計       総合計   \n",
       "1                 買い                  差引        売り        買い   \n",
       "2             5229.7  -468.2999999999998    6947.4    8440.7   \n",
       "3            11434.5             -2796.0   13394.5   17952.0   \n",
       "4  9255.300000000001  -587.5000000000007   11837.3   14514.3   \n",
       "5            15135.7  -469.3000000000002   16058.3   21258.7   \n",
       "6             8968.4   450.8999999999999   12318.0   15107.4   \n",
       "7            12975.2   1558.399999999999   15697.2   22295.2   \n",
       "8             4755.0   777.7999999999998    7433.3    6651.0   \n",
       "\n",
       "            アメリカ系合計.8         ...                  ヨーロッパ系合計.8 国内大手合計 国内大手合計.1  \\\n",
       "0                 総合計         ...                         総合計  Topix    Topix   \n",
       "1                  差引         ...                          差引     売り       買い   \n",
       "2             -1493.3         ...           3212.099999999997   6282     6223   \n",
       "3             -3406.0         ...           899.2999999999956  11378     4875   \n",
       "4             -2677.0         ...          -4802.200000000007  13838     7870   \n",
       "5             -1475.3         ...                     -1487.0  10776     6864   \n",
       "6  -372.5999999999999         ...          -3237.500000000001   4800     4167   \n",
       "7  -584.6000000000017         ...           637.5999999999858  10396     6244   \n",
       "8   782.2999999999997         ...                        26.5   3242     1969   \n",
       "\n",
       "  国内大手合計.2           国内大手合計.3 国内大手合計.4            国内大手合計.5 国内大手合計.6 国内大手合計.7  \\\n",
       "0    Topix            日経225合計  日経225合計             日経225合計      総合計      総合計   \n",
       "1       差引                 売り       買い                  差引       売り       買い   \n",
       "2       59             2314.8   2594.5  -279.7000000000003   4839.3   5238.5   \n",
       "3     2876             5741.5   6810.3             -2167.9  10653.5   8285.0   \n",
       "4     4827             7894.6   2223.7              2845.8  11247.6   3530.2   \n",
       "5     3912            16934.3   7174.4              5863.6  22322.3  10248.4   \n",
       "6      633             8308.3   4996.9              5954.9   9755.3   6671.4   \n",
       "7     2718  5907.799999999999   3024.8   1155.599999999999   8276.4   4408.8   \n",
       "8     1273             2832.8   4438.9             -1580.0   3743.3   4917.4   \n",
       "\n",
       "             国内大手合計.8  \n",
       "0                 総合計  \n",
       "1                  差引  \n",
       "2  -399.1999999999998  \n",
       "3             -1002.2  \n",
       "4              4712.8  \n",
       "5   7794.600000000001  \n",
       "6              6727.9  \n",
       "7   2539.599999999999  \n",
       "8             -1513.5  \n",
       "\n",
       "[9 rows x 37 columns]"
      ],
      "text/html": "<div>\n<style scoped>\n    .dataframe tbody tr th:only-of-type {\n        vertical-align: middle;\n    }\n\n    .dataframe tbody tr th {\n        vertical-align: top;\n    }\n\n    .dataframe thead th {\n        text-align: right;\n    }\n</style>\n<table border=\"1\" class=\"dataframe\">\n  <thead>\n    <tr style=\"text-align: right;\">\n      <th></th>\n      <th>Unnamed: 0</th>\n      <th>アメリカ系合計</th>\n      <th>アメリカ系合計.1</th>\n      <th>アメリカ系合計.2</th>\n      <th>アメリカ系合計.3</th>\n      <th>アメリカ系合計.4</th>\n      <th>アメリカ系合計.5</th>\n      <th>アメリカ系合計.6</th>\n      <th>アメリカ系合計.7</th>\n      <th>アメリカ系合計.8</th>\n      <th>...</th>\n      <th>ヨーロッパ系合計.8</th>\n      <th>国内大手合計</th>\n      <th>国内大手合計.1</th>\n      <th>国内大手合計.2</th>\n      <th>国内大手合計.3</th>\n      <th>国内大手合計.4</th>\n      <th>国内大手合計.5</th>\n      <th>国内大手合計.6</th>\n      <th>国内大手合計.7</th>\n      <th>国内大手合計.8</th>\n    </tr>\n  </thead>\n  <tbody>\n    <tr>\n      <th>0</th>\n      <td>銘柄</td>\n      <td>Topix</td>\n      <td>Topix</td>\n      <td>Topix</td>\n      <td>日経225合計</td>\n      <td>日経225合計</td>\n      <td>日経225合計</td>\n      <td>総合計</td>\n      <td>総合計</td>\n      <td>総合計</td>\n      <td>...</td>\n      <td>総合計</td>\n      <td>Topix</td>\n      <td>Topix</td>\n      <td>Topix</td>\n      <td>日経225合計</td>\n      <td>日経225合計</td>\n      <td>日経225合計</td>\n      <td>総合計</td>\n      <td>総合計</td>\n      <td>総合計</td>\n    </tr>\n    <tr>\n      <th>1</th>\n      <td>売買</td>\n      <td>売り</td>\n      <td>買い</td>\n      <td>差引</td>\n      <td>売り</td>\n      <td>買い</td>\n      <td>差引</td>\n      <td>売り</td>\n      <td>買い</td>\n      <td>差引</td>\n      <td>...</td>\n      <td>差引</td>\n      <td>売り</td>\n      <td>買い</td>\n      <td>差引</td>\n      <td>売り</td>\n      <td>買い</td>\n      <td>差引</td>\n      <td>売り</td>\n      <td>買い</td>\n      <td>差引</td>\n    </tr>\n    <tr>\n      <th>2</th>\n      <td>2020-08-07</td>\n      <td>5077</td>\n      <td>7530</td>\n      <td>-2532</td>\n      <td>4761.4</td>\n      <td>5229.7</td>\n      <td>-468.2999999999998</td>\n      <td>6947.4</td>\n      <td>8440.7</td>\n      <td>-1493.3</td>\n      <td>...</td>\n      <td>3212.099999999997</td>\n      <td>6282</td>\n      <td>6223</td>\n      <td>59</td>\n      <td>2314.8</td>\n      <td>2594.5</td>\n      <td>-279.7000000000003</td>\n      <td>4839.3</td>\n      <td>5238.5</td>\n      <td>-399.1999999999998</td>\n    </tr>\n    <tr>\n      <th>3</th>\n      <td>2020-08-11</td>\n      <td>11841</td>\n      <td>13035</td>\n      <td>-1194</td>\n      <td>7776.5</td>\n      <td>11434.5</td>\n      <td>-2796.0</td>\n      <td>13394.5</td>\n      <td>17952.0</td>\n      <td>-3406.0</td>\n      <td>...</td>\n      <td>899.2999999999956</td>\n      <td>11378</td>\n      <td>4875</td>\n      <td>2876</td>\n      <td>5741.5</td>\n      <td>6810.3</td>\n      <td>-2167.9</td>\n      <td>10653.5</td>\n      <td>8285.0</td>\n      <td>-1002.2</td>\n    </tr>\n    <tr>\n      <th>4</th>\n      <td>2020-08-12</td>\n      <td>9305</td>\n      <td>16916</td>\n      <td>-7611</td>\n      <td>8667.8</td>\n      <td>9255.300000000001</td>\n      <td>-587.5000000000007</td>\n      <td>11837.3</td>\n      <td>14514.3</td>\n      <td>-2677.0</td>\n      <td>...</td>\n      <td>-4802.200000000007</td>\n      <td>13838</td>\n      <td>7870</td>\n      <td>4827</td>\n      <td>7894.6</td>\n      <td>2223.7</td>\n      <td>2845.8</td>\n      <td>11247.6</td>\n      <td>3530.2</td>\n      <td>4712.8</td>\n    </tr>\n    <tr>\n      <th>5</th>\n      <td>2020-08-13</td>\n      <td>10687</td>\n      <td>12246</td>\n      <td>-665</td>\n      <td>12014.8</td>\n      <td>15135.7</td>\n      <td>-469.3000000000002</td>\n      <td>16058.3</td>\n      <td>21258.7</td>\n      <td>-1475.3</td>\n      <td>...</td>\n      <td>-1487.0</td>\n      <td>10776</td>\n      <td>6864</td>\n      <td>3912</td>\n      <td>16934.3</td>\n      <td>7174.4</td>\n      <td>5863.6</td>\n      <td>22322.3</td>\n      <td>10248.4</td>\n      <td>7794.600000000001</td>\n    </tr>\n    <tr>\n      <th>6</th>\n      <td>2020-08-14</td>\n      <td>10636</td>\n      <td>12278</td>\n      <td>-1642</td>\n      <td>8251.0</td>\n      <td>8968.4</td>\n      <td>450.8999999999999</td>\n      <td>12318.0</td>\n      <td>15107.4</td>\n      <td>-372.5999999999999</td>\n      <td>...</td>\n      <td>-3237.500000000001</td>\n      <td>4800</td>\n      <td>4167</td>\n      <td>633</td>\n      <td>8308.3</td>\n      <td>4996.9</td>\n      <td>5954.9</td>\n      <td>9755.3</td>\n      <td>6671.4</td>\n      <td>6727.9</td>\n    </tr>\n    <tr>\n      <th>7</th>\n      <td>2020-08-20</td>\n      <td>13068</td>\n      <td>27482</td>\n      <td>-13700</td>\n      <td>12470.2</td>\n      <td>12975.2</td>\n      <td>1558.399999999999</td>\n      <td>15697.2</td>\n      <td>22295.2</td>\n      <td>-584.6000000000017</td>\n      <td>...</td>\n      <td>637.5999999999858</td>\n      <td>10396</td>\n      <td>6244</td>\n      <td>2718</td>\n      <td>5907.799999999999</td>\n      <td>3024.8</td>\n      <td>1155.599999999999</td>\n      <td>8276.4</td>\n      <td>4408.8</td>\n      <td>2539.599999999999</td>\n    </tr>\n    <tr>\n      <th>8</th>\n      <td>2020-08-21</td>\n      <td>4410</td>\n      <td>4869</td>\n      <td>-459</td>\n      <td>5532.799999999999</td>\n      <td>4755.0</td>\n      <td>777.7999999999998</td>\n      <td>7433.3</td>\n      <td>6651.0</td>\n      <td>782.2999999999997</td>\n      <td>...</td>\n      <td>26.5</td>\n      <td>3242</td>\n      <td>1969</td>\n      <td>1273</td>\n      <td>2832.8</td>\n      <td>4438.9</td>\n      <td>-1580.0</td>\n      <td>3743.3</td>\n      <td>4917.4</td>\n      <td>-1513.5</td>\n    </tr>\n  </tbody>\n</table>\n<p>9 rows × 37 columns</p>\n</div>"
     },
     "metadata": {},
     "execution_count": 15
    }
   ],
   "source": [
    "pd.read_csv(\"完成データ/時系列データ.csv\")"
   ]
  },
  {
   "cell_type": "code",
   "execution_count": null,
   "metadata": {},
   "outputs": [],
   "source": []
  }
 ]
}