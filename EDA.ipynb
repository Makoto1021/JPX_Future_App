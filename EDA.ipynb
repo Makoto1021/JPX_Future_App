{
 "metadata": {
  "language_info": {
   "codemirror_mode": {
    "name": "ipython",
    "version": 3
   },
   "file_extension": ".py",
   "mimetype": "text/x-python",
   "name": "python",
   "nbconvert_exporter": "python",
   "pygments_lexer": "ipython3",
   "version": "3.6.10-final"
  },
  "orig_nbformat": 2,
  "kernelspec": {
   "name": "python3",
   "display_name": "Python 3.6.10 64-bit",
   "metadata": {
    "interpreter": {
     "hash": "2e2390cd2c647d87e0c3f987ee04f9ab870c7ed9ffd5665fe27f3c2d915d739d"
    }
   }
  }
 },
 "nbformat": 4,
 "nbformat_minor": 2,
 "cells": [
  {
   "cell_type": "code",
   "execution_count": 1,
   "metadata": {},
   "outputs": [],
   "source": [
    "import pandas as pd\n",
    "import os\n",
    "from datetime import datetime as dt\n",
    "from datetime import timedelta\n",
    "import numpy as np\n",
    "import boto3\n",
    "from io import StringIO"
   ]
  },
  {
   "cell_type": "code",
   "execution_count": 2,
   "metadata": {},
   "outputs": [],
   "source": [
    "df = pd.DataFrame({\"a\":[1, 2, 3], \"b\":[4, 5, 6]})"
   ]
  },
  {
   "cell_type": "code",
   "execution_count": 3,
   "metadata": {},
   "outputs": [
    {
     "output_type": "execute_result",
     "data": {
      "text/plain": [
       "array([['AWSSecretKey=EufkhN6s6JeUiJdvYSDtheVxaof5lH0asQvA5VlQ']],\n",
       "      dtype=object)"
      ]
     },
     "metadata": {},
     "execution_count": 3
    }
   ],
   "source": [
    "df_cred = pd.read_csv(\"/Users/mmiyazaki/Documents/AWS/access keys/rootkey.csv\")\n",
    "df_cred.values"
   ]
  },
  {
   "cell_type": "code",
   "execution_count": 4,
   "metadata": {},
   "outputs": [],
   "source": [
    "filename = \"raw_data/test.csv\"\n",
    "bucketName = \"jpx-future-bucket\""
   ]
  },
  {
   "cell_type": "code",
   "execution_count": 12,
   "metadata": {},
   "outputs": [],
   "source": [
    "csv_buffer = StringIO()\n",
    "df.to_csv(csv_buffer)\n",
    "client = boto3.client('s3')\n",
    "response = client.put_object(\n",
    "    ACL = 'private',\n",
    "    Body = csv_buffer.getvalue(),\n",
    "    Bucket=bucketName,\n",
    "    Key=filename\n",
    ")"
   ]
  },
  {
   "cell_type": "code",
   "execution_count": 8,
   "metadata": {},
   "outputs": [
    {
     "output_type": "execute_result",
     "data": {
      "text/plain": [
       "{'ResponseMetadata': {'RequestId': '03D884B9026EA44F',\n",
       "  'HostId': 'pMT5f9BV7pWpnljEbXi+DogMcfLDMoNM8quj+gOM4ODwsDVovjHyXkwRW0pEhgOtsvYZB6pO9r8=',\n",
       "  'HTTPStatusCode': 200,\n",
       "  'HTTPHeaders': {'x-amz-id-2': 'pMT5f9BV7pWpnljEbXi+DogMcfLDMoNM8quj+gOM4ODwsDVovjHyXkwRW0pEhgOtsvYZB6pO9r8=',\n",
       "   'x-amz-request-id': '03D884B9026EA44F',\n",
       "   'date': 'Wed, 20 Jan 2021 21:51:24 GMT',\n",
       "   'etag': '\"9626787b13efe16a3703f4cc70e762fb\"',\n",
       "   'content-length': '0',\n",
       "   'server': 'AmazonS3'},\n",
       "  'RetryAttempts': 0},\n",
       " 'ETag': '\"9626787b13efe16a3703f4cc70e762fb\"'}"
      ]
     },
     "metadata": {},
     "execution_count": 8
    }
   ],
   "source": [
    "response"
   ]
  },
  {
   "cell_type": "code",
   "execution_count": 20,
   "metadata": {},
   "outputs": [
    {
     "output_type": "execute_result",
     "data": {
      "text/plain": [
       "{'ResponseMetadata': {'RequestId': 'A85ABEC3061100C7',\n",
       "  'HostId': 'fSnpTCxH4KiWt2JO74cjZdqGtDFY0K+N0SqMqEwqdC8f72ejAlS7o+euKOn1i/Ydkw5yPQn6fLs=',\n",
       "  'HTTPStatusCode': 200,\n",
       "  'HTTPHeaders': {'x-amz-id-2': 'fSnpTCxH4KiWt2JO74cjZdqGtDFY0K+N0SqMqEwqdC8f72ejAlS7o+euKOn1i/Ydkw5yPQn6fLs=',\n",
       "   'x-amz-request-id': 'A85ABEC3061100C7',\n",
       "   'date': 'Wed, 20 Jan 2021 21:43:54 GMT',\n",
       "   'etag': '\"9626787b13efe16a3703f4cc70e762fb\"',\n",
       "   'content-length': '0',\n",
       "   'server': 'AmazonS3'},\n",
       "  'RetryAttempts': 1},\n",
       " 'ETag': '\"9626787b13efe16a3703f4cc70e762fb\"'}"
      ]
     },
     "metadata": {},
     "execution_count": 20
    }
   ],
   "source": [
    "from io import StringIO  # python3 (or BytesIO for python2)\n",
    "import boto3\n",
    "\n",
    "bucket = 'jpx-future-bucket'  # already created on S3\n",
    "csv_buffer = StringIO()\n",
    "df.to_csv(csv_buffer)\n",
    "\n",
    "s3_resource = boto3.resource('s3')\n",
    "s3_resource.Object(bucket, '/raw_data/test.csv').put(Body=csv_buffer.getvalue())"
   ]
  },
  {
   "cell_type": "code",
   "execution_count": 14,
   "metadata": {},
   "outputs": [],
   "source": [
    "df_hist = pd.read_excel(\"/Users/mmiyazaki/Documents/LANCERS/JPX先物取引/JPX_Future_final_dep/完成データ/時系列データ.xlsx\", header=[0, 1, 2])\n",
    "df_hist.to_csv(\"完成データ/時系列データ.csv\")"
   ]
  },
  {
   "cell_type": "code",
   "execution_count": 15,
   "metadata": {},
   "outputs": [
    {
     "output_type": "execute_result",
     "data": {
      "text/plain": [
       "   Unnamed: 0 アメリカ系合計 アメリカ系合計.1 アメリカ系合計.2          アメリカ系合計.3  \\\n",
       "0          銘柄   Topix     Topix     Topix            日経225合計   \n",
       "1          売買      売り        買い        差引                 売り   \n",
       "2  2020-08-07    5077      7530     -2532             4761.4   \n",
       "3  2020-08-11   11841     13035     -1194             7776.5   \n",
       "4  2020-08-12    9305     16916     -7611             8667.8   \n",
       "5  2020-08-13   10687     12246      -665            12014.8   \n",
       "6  2020-08-14   10636     12278     -1642             8251.0   \n",
       "7  2020-08-20   13068     27482    -13700            12470.2   \n",
       "8  2020-08-21    4410      4869      -459  5532.799999999999   \n",
       "\n",
       "           アメリカ系合計.4           アメリカ系合計.5 アメリカ系合計.6 アメリカ系合計.7  \\\n",
       "0            日経225合計             日経225合計       総合計       総合計   \n",
       "1                 買い                  差引        売り        買い   \n",
       "2             5229.7  -468.2999999999998    6947.4    8440.7   \n",
       "3            11434.5             -2796.0   13394.5   17952.0   \n",
       "4  9255.300000000001  -587.5000000000007   11837.3   14514.3   \n",
       "5            15135.7  -469.3000000000002   16058.3   21258.7   \n",
       "6             8968.4   450.8999999999999   12318.0   15107.4   \n",
       "7            12975.2   1558.399999999999   15697.2   22295.2   \n",
       "8             4755.0   777.7999999999998    7433.3    6651.0   \n",
       "\n",
       "            アメリカ系合計.8         ...                  ヨーロッパ系合計.8 国内大手合計 国内大手合計.1  \\\n",
       "0                 総合計         ...                         総合計  Topix    Topix   \n",
       "1                  差引         ...                          差引     売り       買い   \n",
       "2             -1493.3         ...           3212.099999999997   6282     6223   \n",
       "3             -3406.0         ...           899.2999999999956  11378     4875   \n",
       "4             -2677.0         ...          -4802.200000000007  13838     7870   \n",
       "5             -1475.3         ...                     -1487.0  10776     6864   \n",
       "6  -372.5999999999999         ...          -3237.500000000001   4800     4167   \n",
       "7  -584.6000000000017         ...           637.5999999999858  10396     6244   \n",
       "8   782.2999999999997         ...                        26.5   3242     1969   \n",
       "\n",
       "  国内大手合計.2           国内大手合計.3 国内大手合計.4            国内大手合計.5 国内大手合計.6 国内大手合計.7  \\\n",
       "0    Topix            日経225合計  日経225合計             日経225合計      総合計      総合計   \n",
       "1       差引                 売り       買い                  差引       売り       買い   \n",
       "2       59             2314.8   2594.5  -279.7000000000003   4839.3   5238.5   \n",
       "3     2876             5741.5   6810.3             -2167.9  10653.5   8285.0   \n",
       "4     4827             7894.6   2223.7              2845.8  11247.6   3530.2   \n",
       "5     3912            16934.3   7174.4              5863.6  22322.3  10248.4   \n",
       "6      633             8308.3   4996.9              5954.9   9755.3   6671.4   \n",
       "7     2718  5907.799999999999   3024.8   1155.599999999999   8276.4   4408.8   \n",
       "8     1273             2832.8   4438.9             -1580.0   3743.3   4917.4   \n",
       "\n",
       "             国内大手合計.8  \n",
       "0                 総合計  \n",
       "1                  差引  \n",
       "2  -399.1999999999998  \n",
       "3             -1002.2  \n",
       "4              4712.8  \n",
       "5   7794.600000000001  \n",
       "6              6727.9  \n",
       "7   2539.599999999999  \n",
       "8             -1513.5  \n",
       "\n",
       "[9 rows x 37 columns]"
      ],
      "text/html": "<div>\n<style scoped>\n    .dataframe tbody tr th:only-of-type {\n        vertical-align: middle;\n    }\n\n    .dataframe tbody tr th {\n        vertical-align: top;\n    }\n\n    .dataframe thead th {\n        text-align: right;\n    }\n</style>\n<table border=\"1\" class=\"dataframe\">\n  <thead>\n    <tr style=\"text-align: right;\">\n      <th></th>\n      <th>Unnamed: 0</th>\n      <th>アメリカ系合計</th>\n      <th>アメリカ系合計.1</th>\n      <th>アメリカ系合計.2</th>\n      <th>アメリカ系合計.3</th>\n      <th>アメリカ系合計.4</th>\n      <th>アメリカ系合計.5</th>\n      <th>アメリカ系合計.6</th>\n      <th>アメリカ系合計.7</th>\n      <th>アメリカ系合計.8</th>\n      <th>...</th>\n      <th>ヨーロッパ系合計.8</th>\n      <th>国内大手合計</th>\n      <th>国内大手合計.1</th>\n      <th>国内大手合計.2</th>\n      <th>国内大手合計.3</th>\n      <th>国内大手合計.4</th>\n      <th>国内大手合計.5</th>\n      <th>国内大手合計.6</th>\n      <th>国内大手合計.7</th>\n      <th>国内大手合計.8</th>\n    </tr>\n  </thead>\n  <tbody>\n    <tr>\n      <th>0</th>\n      <td>銘柄</td>\n      <td>Topix</td>\n      <td>Topix</td>\n      <td>Topix</td>\n      <td>日経225合計</td>\n      <td>日経225合計</td>\n      <td>日経225合計</td>\n      <td>総合計</td>\n      <td>総合計</td>\n      <td>総合計</td>\n      <td>...</td>\n      <td>総合計</td>\n      <td>Topix</td>\n      <td>Topix</td>\n      <td>Topix</td>\n      <td>日経225合計</td>\n      <td>日経225合計</td>\n      <td>日経225合計</td>\n      <td>総合計</td>\n      <td>総合計</td>\n      <td>総合計</td>\n    </tr>\n    <tr>\n      <th>1</th>\n      <td>売買</td>\n      <td>売り</td>\n      <td>買い</td>\n      <td>差引</td>\n      <td>売り</td>\n      <td>買い</td>\n      <td>差引</td>\n      <td>売り</td>\n      <td>買い</td>\n      <td>差引</td>\n      <td>...</td>\n      <td>差引</td>\n      <td>売り</td>\n      <td>買い</td>\n      <td>差引</td>\n      <td>売り</td>\n      <td>買い</td>\n      <td>差引</td>\n      <td>売り</td>\n      <td>買い</td>\n      <td>差引</td>\n    </tr>\n    <tr>\n      <th>2</th>\n      <td>2020-08-07</td>\n      <td>5077</td>\n      <td>7530</td>\n      <td>-2532</td>\n      <td>4761.4</td>\n      <td>5229.7</td>\n      <td>-468.2999999999998</td>\n      <td>6947.4</td>\n      <td>8440.7</td>\n      <td>-1493.3</td>\n      <td>...</td>\n      <td>3212.099999999997</td>\n      <td>6282</td>\n      <td>6223</td>\n      <td>59</td>\n      <td>2314.8</td>\n      <td>2594.5</td>\n      <td>-279.7000000000003</td>\n      <td>4839.3</td>\n      <td>5238.5</td>\n      <td>-399.1999999999998</td>\n    </tr>\n    <tr>\n      <th>3</th>\n      <td>2020-08-11</td>\n      <td>11841</td>\n      <td>13035</td>\n      <td>-1194</td>\n      <td>7776.5</td>\n      <td>11434.5</td>\n      <td>-2796.0</td>\n      <td>13394.5</td>\n      <td>17952.0</td>\n      <td>-3406.0</td>\n      <td>...</td>\n      <td>899.2999999999956</td>\n      <td>11378</td>\n      <td>4875</td>\n      <td>2876</td>\n      <td>5741.5</td>\n      <td>6810.3</td>\n      <td>-2167.9</td>\n      <td>10653.5</td>\n      <td>8285.0</td>\n      <td>-1002.2</td>\n    </tr>\n    <tr>\n      <th>4</th>\n      <td>2020-08-12</td>\n      <td>9305</td>\n      <td>16916</td>\n      <td>-7611</td>\n      <td>8667.8</td>\n      <td>9255.300000000001</td>\n      <td>-587.5000000000007</td>\n      <td>11837.3</td>\n      <td>14514.3</td>\n      <td>-2677.0</td>\n      <td>...</td>\n      <td>-4802.200000000007</td>\n      <td>13838</td>\n      <td>7870</td>\n      <td>4827</td>\n      <td>7894.6</td>\n      <td>2223.7</td>\n      <td>2845.8</td>\n      <td>11247.6</td>\n      <td>3530.2</td>\n      <td>4712.8</td>\n    </tr>\n    <tr>\n      <th>5</th>\n      <td>2020-08-13</td>\n      <td>10687</td>\n      <td>12246</td>\n      <td>-665</td>\n      <td>12014.8</td>\n      <td>15135.7</td>\n      <td>-469.3000000000002</td>\n      <td>16058.3</td>\n      <td>21258.7</td>\n      <td>-1475.3</td>\n      <td>...</td>\n      <td>-1487.0</td>\n      <td>10776</td>\n      <td>6864</td>\n      <td>3912</td>\n      <td>16934.3</td>\n      <td>7174.4</td>\n      <td>5863.6</td>\n      <td>22322.3</td>\n      <td>10248.4</td>\n      <td>7794.600000000001</td>\n    </tr>\n    <tr>\n      <th>6</th>\n      <td>2020-08-14</td>\n      <td>10636</td>\n      <td>12278</td>\n      <td>-1642</td>\n      <td>8251.0</td>\n      <td>8968.4</td>\n      <td>450.8999999999999</td>\n      <td>12318.0</td>\n      <td>15107.4</td>\n      <td>-372.5999999999999</td>\n      <td>...</td>\n      <td>-3237.500000000001</td>\n      <td>4800</td>\n      <td>4167</td>\n      <td>633</td>\n      <td>8308.3</td>\n      <td>4996.9</td>\n      <td>5954.9</td>\n      <td>9755.3</td>\n      <td>6671.4</td>\n      <td>6727.9</td>\n    </tr>\n    <tr>\n      <th>7</th>\n      <td>2020-08-20</td>\n      <td>13068</td>\n      <td>27482</td>\n      <td>-13700</td>\n      <td>12470.2</td>\n      <td>12975.2</td>\n      <td>1558.399999999999</td>\n      <td>15697.2</td>\n      <td>22295.2</td>\n      <td>-584.6000000000017</td>\n      <td>...</td>\n      <td>637.5999999999858</td>\n      <td>10396</td>\n      <td>6244</td>\n      <td>2718</td>\n      <td>5907.799999999999</td>\n      <td>3024.8</td>\n      <td>1155.599999999999</td>\n      <td>8276.4</td>\n      <td>4408.8</td>\n      <td>2539.599999999999</td>\n    </tr>\n    <tr>\n      <th>8</th>\n      <td>2020-08-21</td>\n      <td>4410</td>\n      <td>4869</td>\n      <td>-459</td>\n      <td>5532.799999999999</td>\n      <td>4755.0</td>\n      <td>777.7999999999998</td>\n      <td>7433.3</td>\n      <td>6651.0</td>\n      <td>782.2999999999997</td>\n      <td>...</td>\n      <td>26.5</td>\n      <td>3242</td>\n      <td>1969</td>\n      <td>1273</td>\n      <td>2832.8</td>\n      <td>4438.9</td>\n      <td>-1580.0</td>\n      <td>3743.3</td>\n      <td>4917.4</td>\n      <td>-1513.5</td>\n    </tr>\n  </tbody>\n</table>\n<p>9 rows × 37 columns</p>\n</div>"
     },
     "metadata": {},
     "execution_count": 15
    }
   ],
   "source": [
    "pd.read_csv(\"完成データ/時系列データ.csv\")"
   ]
  },
  {
   "cell_type": "code",
   "execution_count": 7,
   "metadata": {},
   "outputs": [
    {
     "output_type": "error",
     "ename": "XLRDError",
     "evalue": "Unsupported format, or corrupt file: Expected BOF record; found b',\\xe3\\x82\\xa2\\xe3\\x83\\xa1\\xe3'",
     "traceback": [
      "\u001b[0;31m---------------------------------------------------------------------------\u001b[0m",
      "\u001b[0;31mXLRDError\u001b[0m                                 Traceback (most recent call last)",
      "\u001b[0;32m<ipython-input-7-1c835e749fcd>\u001b[0m in \u001b[0;36m<module>\u001b[0;34m\u001b[0m\n\u001b[1;32m      1\u001b[0m \u001b[0mclient\u001b[0m \u001b[0;34m=\u001b[0m \u001b[0mboto3\u001b[0m\u001b[0;34m.\u001b[0m\u001b[0mclient\u001b[0m\u001b[0;34m(\u001b[0m\u001b[0;34m's3'\u001b[0m\u001b[0;34m)\u001b[0m\u001b[0;34m\u001b[0m\u001b[0;34m\u001b[0m\u001b[0m\n\u001b[0;32m----> 2\u001b[0;31m \u001b[0mpd\u001b[0m\u001b[0;34m.\u001b[0m\u001b[0mread_excel\u001b[0m\u001b[0;34m(\u001b[0m\u001b[0;34m's3://jpx-future-bucket/final_data/時系列データ.xlsx'\u001b[0m\u001b[0;34m)\u001b[0m\u001b[0;34m\u001b[0m\u001b[0;34m\u001b[0m\u001b[0m\n\u001b[0m",
      "\u001b[0;32m~/opt/anaconda3/envs/jpx_env/lib/python3.6/site-packages/pandas/util/_decorators.py\u001b[0m in \u001b[0;36mwrapper\u001b[0;34m(*args, **kwargs)\u001b[0m\n\u001b[1;32m    176\u001b[0m                 \u001b[0;32melse\u001b[0m\u001b[0;34m:\u001b[0m\u001b[0;34m\u001b[0m\u001b[0;34m\u001b[0m\u001b[0m\n\u001b[1;32m    177\u001b[0m                     \u001b[0mkwargs\u001b[0m\u001b[0;34m[\u001b[0m\u001b[0mnew_arg_name\u001b[0m\u001b[0;34m]\u001b[0m \u001b[0;34m=\u001b[0m \u001b[0mnew_arg_value\u001b[0m\u001b[0;34m\u001b[0m\u001b[0;34m\u001b[0m\u001b[0m\n\u001b[0;32m--> 178\u001b[0;31m             \u001b[0;32mreturn\u001b[0m \u001b[0mfunc\u001b[0m\u001b[0;34m(\u001b[0m\u001b[0;34m*\u001b[0m\u001b[0margs\u001b[0m\u001b[0;34m,\u001b[0m \u001b[0;34m**\u001b[0m\u001b[0mkwargs\u001b[0m\u001b[0;34m)\u001b[0m\u001b[0;34m\u001b[0m\u001b[0;34m\u001b[0m\u001b[0m\n\u001b[0m\u001b[1;32m    179\u001b[0m         \u001b[0;32mreturn\u001b[0m \u001b[0mwrapper\u001b[0m\u001b[0;34m\u001b[0m\u001b[0;34m\u001b[0m\u001b[0m\n\u001b[1;32m    180\u001b[0m     \u001b[0;32mreturn\u001b[0m \u001b[0m_deprecate_kwarg\u001b[0m\u001b[0;34m\u001b[0m\u001b[0;34m\u001b[0m\u001b[0m\n",
      "\u001b[0;32m~/opt/anaconda3/envs/jpx_env/lib/python3.6/site-packages/pandas/util/_decorators.py\u001b[0m in \u001b[0;36mwrapper\u001b[0;34m(*args, **kwargs)\u001b[0m\n\u001b[1;32m    176\u001b[0m                 \u001b[0;32melse\u001b[0m\u001b[0;34m:\u001b[0m\u001b[0;34m\u001b[0m\u001b[0;34m\u001b[0m\u001b[0m\n\u001b[1;32m    177\u001b[0m                     \u001b[0mkwargs\u001b[0m\u001b[0;34m[\u001b[0m\u001b[0mnew_arg_name\u001b[0m\u001b[0;34m]\u001b[0m \u001b[0;34m=\u001b[0m \u001b[0mnew_arg_value\u001b[0m\u001b[0;34m\u001b[0m\u001b[0;34m\u001b[0m\u001b[0m\n\u001b[0;32m--> 178\u001b[0;31m             \u001b[0;32mreturn\u001b[0m \u001b[0mfunc\u001b[0m\u001b[0;34m(\u001b[0m\u001b[0;34m*\u001b[0m\u001b[0margs\u001b[0m\u001b[0;34m,\u001b[0m \u001b[0;34m**\u001b[0m\u001b[0mkwargs\u001b[0m\u001b[0;34m)\u001b[0m\u001b[0;34m\u001b[0m\u001b[0;34m\u001b[0m\u001b[0m\n\u001b[0m\u001b[1;32m    179\u001b[0m         \u001b[0;32mreturn\u001b[0m \u001b[0mwrapper\u001b[0m\u001b[0;34m\u001b[0m\u001b[0;34m\u001b[0m\u001b[0m\n\u001b[1;32m    180\u001b[0m     \u001b[0;32mreturn\u001b[0m \u001b[0m_deprecate_kwarg\u001b[0m\u001b[0;34m\u001b[0m\u001b[0;34m\u001b[0m\u001b[0m\n",
      "\u001b[0;32m~/opt/anaconda3/envs/jpx_env/lib/python3.6/site-packages/pandas/io/excel.py\u001b[0m in \u001b[0;36mread_excel\u001b[0;34m(io, sheet_name, header, names, index_col, usecols, squeeze, dtype, engine, converters, true_values, false_values, skiprows, nrows, na_values, parse_dates, date_parser, thousands, comment, skipfooter, convert_float, **kwds)\u001b[0m\n\u001b[1;32m    305\u001b[0m \u001b[0;34m\u001b[0m\u001b[0m\n\u001b[1;32m    306\u001b[0m     \u001b[0;32mif\u001b[0m \u001b[0;32mnot\u001b[0m \u001b[0misinstance\u001b[0m\u001b[0;34m(\u001b[0m\u001b[0mio\u001b[0m\u001b[0;34m,\u001b[0m \u001b[0mExcelFile\u001b[0m\u001b[0;34m)\u001b[0m\u001b[0;34m:\u001b[0m\u001b[0;34m\u001b[0m\u001b[0;34m\u001b[0m\u001b[0m\n\u001b[0;32m--> 307\u001b[0;31m         \u001b[0mio\u001b[0m \u001b[0;34m=\u001b[0m \u001b[0mExcelFile\u001b[0m\u001b[0;34m(\u001b[0m\u001b[0mio\u001b[0m\u001b[0;34m,\u001b[0m \u001b[0mengine\u001b[0m\u001b[0;34m=\u001b[0m\u001b[0mengine\u001b[0m\u001b[0;34m)\u001b[0m\u001b[0;34m\u001b[0m\u001b[0;34m\u001b[0m\u001b[0m\n\u001b[0m\u001b[1;32m    308\u001b[0m \u001b[0;34m\u001b[0m\u001b[0m\n\u001b[1;32m    309\u001b[0m     return io.parse(\n",
      "\u001b[0;32m~/opt/anaconda3/envs/jpx_env/lib/python3.6/site-packages/pandas/io/excel.py\u001b[0m in \u001b[0;36m__init__\u001b[0;34m(self, io, **kwds)\u001b[0m\n\u001b[1;32m    390\u001b[0m \u001b[0;34m\u001b[0m\u001b[0m\n\u001b[1;32m    391\u001b[0m             \u001b[0mdata\u001b[0m \u001b[0;34m=\u001b[0m \u001b[0mio\u001b[0m\u001b[0;34m.\u001b[0m\u001b[0mread\u001b[0m\u001b[0;34m(\u001b[0m\u001b[0;34m)\u001b[0m\u001b[0;34m\u001b[0m\u001b[0;34m\u001b[0m\u001b[0m\n\u001b[0;32m--> 392\u001b[0;31m             \u001b[0mself\u001b[0m\u001b[0;34m.\u001b[0m\u001b[0mbook\u001b[0m \u001b[0;34m=\u001b[0m \u001b[0mxlrd\u001b[0m\u001b[0;34m.\u001b[0m\u001b[0mopen_workbook\u001b[0m\u001b[0;34m(\u001b[0m\u001b[0mfile_contents\u001b[0m\u001b[0;34m=\u001b[0m\u001b[0mdata\u001b[0m\u001b[0;34m)\u001b[0m\u001b[0;34m\u001b[0m\u001b[0;34m\u001b[0m\u001b[0m\n\u001b[0m\u001b[1;32m    393\u001b[0m         \u001b[0;32melif\u001b[0m \u001b[0misinstance\u001b[0m\u001b[0;34m(\u001b[0m\u001b[0mself\u001b[0m\u001b[0;34m.\u001b[0m\u001b[0m_io\u001b[0m\u001b[0;34m,\u001b[0m \u001b[0mcompat\u001b[0m\u001b[0;34m.\u001b[0m\u001b[0mstring_types\u001b[0m\u001b[0;34m)\u001b[0m\u001b[0;34m:\u001b[0m\u001b[0;34m\u001b[0m\u001b[0;34m\u001b[0m\u001b[0m\n\u001b[1;32m    394\u001b[0m             \u001b[0mself\u001b[0m\u001b[0;34m.\u001b[0m\u001b[0mbook\u001b[0m \u001b[0;34m=\u001b[0m \u001b[0mxlrd\u001b[0m\u001b[0;34m.\u001b[0m\u001b[0mopen_workbook\u001b[0m\u001b[0;34m(\u001b[0m\u001b[0mself\u001b[0m\u001b[0;34m.\u001b[0m\u001b[0m_io\u001b[0m\u001b[0;34m)\u001b[0m\u001b[0;34m\u001b[0m\u001b[0;34m\u001b[0m\u001b[0m\n",
      "\u001b[0;32m~/opt/anaconda3/envs/jpx_env/lib/python3.6/site-packages/xlrd/__init__.py\u001b[0m in \u001b[0;36mopen_workbook\u001b[0;34m(filename, logfile, verbosity, use_mmap, file_contents, encoding_override, formatting_info, on_demand, ragged_rows)\u001b[0m\n\u001b[1;32m    155\u001b[0m         \u001b[0mformatting_info\u001b[0m\u001b[0;34m=\u001b[0m\u001b[0mformatting_info\u001b[0m\u001b[0;34m,\u001b[0m\u001b[0;34m\u001b[0m\u001b[0;34m\u001b[0m\u001b[0m\n\u001b[1;32m    156\u001b[0m         \u001b[0mon_demand\u001b[0m\u001b[0;34m=\u001b[0m\u001b[0mon_demand\u001b[0m\u001b[0;34m,\u001b[0m\u001b[0;34m\u001b[0m\u001b[0;34m\u001b[0m\u001b[0m\n\u001b[0;32m--> 157\u001b[0;31m         \u001b[0mragged_rows\u001b[0m\u001b[0;34m=\u001b[0m\u001b[0mragged_rows\u001b[0m\u001b[0;34m,\u001b[0m\u001b[0;34m\u001b[0m\u001b[0;34m\u001b[0m\u001b[0m\n\u001b[0m\u001b[1;32m    158\u001b[0m     )\n\u001b[1;32m    159\u001b[0m     \u001b[0;32mreturn\u001b[0m \u001b[0mbk\u001b[0m\u001b[0;34m\u001b[0m\u001b[0;34m\u001b[0m\u001b[0m\n",
      "\u001b[0;32m~/opt/anaconda3/envs/jpx_env/lib/python3.6/site-packages/xlrd/book.py\u001b[0m in \u001b[0;36mopen_workbook_xls\u001b[0;34m(filename, logfile, verbosity, use_mmap, file_contents, encoding_override, formatting_info, on_demand, ragged_rows)\u001b[0m\n\u001b[1;32m     90\u001b[0m         \u001b[0mt1\u001b[0m \u001b[0;34m=\u001b[0m \u001b[0mperf_counter\u001b[0m\u001b[0;34m(\u001b[0m\u001b[0;34m)\u001b[0m\u001b[0;34m\u001b[0m\u001b[0;34m\u001b[0m\u001b[0m\n\u001b[1;32m     91\u001b[0m         \u001b[0mbk\u001b[0m\u001b[0;34m.\u001b[0m\u001b[0mload_time_stage_1\u001b[0m \u001b[0;34m=\u001b[0m \u001b[0mt1\u001b[0m \u001b[0;34m-\u001b[0m \u001b[0mt0\u001b[0m\u001b[0;34m\u001b[0m\u001b[0;34m\u001b[0m\u001b[0m\n\u001b[0;32m---> 92\u001b[0;31m         \u001b[0mbiff_version\u001b[0m \u001b[0;34m=\u001b[0m \u001b[0mbk\u001b[0m\u001b[0;34m.\u001b[0m\u001b[0mgetbof\u001b[0m\u001b[0;34m(\u001b[0m\u001b[0mXL_WORKBOOK_GLOBALS\u001b[0m\u001b[0;34m)\u001b[0m\u001b[0;34m\u001b[0m\u001b[0;34m\u001b[0m\u001b[0m\n\u001b[0m\u001b[1;32m     93\u001b[0m         \u001b[0;32mif\u001b[0m \u001b[0;32mnot\u001b[0m \u001b[0mbiff_version\u001b[0m\u001b[0;34m:\u001b[0m\u001b[0;34m\u001b[0m\u001b[0;34m\u001b[0m\u001b[0m\n\u001b[1;32m     94\u001b[0m             \u001b[0;32mraise\u001b[0m \u001b[0mXLRDError\u001b[0m\u001b[0;34m(\u001b[0m\u001b[0;34m\"Can't determine file's BIFF version\"\u001b[0m\u001b[0;34m)\u001b[0m\u001b[0;34m\u001b[0m\u001b[0;34m\u001b[0m\u001b[0m\n",
      "\u001b[0;32m~/opt/anaconda3/envs/jpx_env/lib/python3.6/site-packages/xlrd/book.py\u001b[0m in \u001b[0;36mgetbof\u001b[0;34m(self, rqd_stream)\u001b[0m\n\u001b[1;32m   1276\u001b[0m             \u001b[0mbof_error\u001b[0m\u001b[0;34m(\u001b[0m\u001b[0;34m'Expected BOF record; met end of file'\u001b[0m\u001b[0;34m)\u001b[0m\u001b[0;34m\u001b[0m\u001b[0;34m\u001b[0m\u001b[0m\n\u001b[1;32m   1277\u001b[0m         \u001b[0;32mif\u001b[0m \u001b[0mopcode\u001b[0m \u001b[0;32mnot\u001b[0m \u001b[0;32min\u001b[0m \u001b[0mbofcodes\u001b[0m\u001b[0;34m:\u001b[0m\u001b[0;34m\u001b[0m\u001b[0;34m\u001b[0m\u001b[0m\n\u001b[0;32m-> 1278\u001b[0;31m             \u001b[0mbof_error\u001b[0m\u001b[0;34m(\u001b[0m\u001b[0;34m'Expected BOF record; found %r'\u001b[0m \u001b[0;34m%\u001b[0m \u001b[0mself\u001b[0m\u001b[0;34m.\u001b[0m\u001b[0mmem\u001b[0m\u001b[0;34m[\u001b[0m\u001b[0msavpos\u001b[0m\u001b[0;34m:\u001b[0m\u001b[0msavpos\u001b[0m\u001b[0;34m+\u001b[0m\u001b[0;36m8\u001b[0m\u001b[0;34m]\u001b[0m\u001b[0;34m)\u001b[0m\u001b[0;34m\u001b[0m\u001b[0;34m\u001b[0m\u001b[0m\n\u001b[0m\u001b[1;32m   1279\u001b[0m         \u001b[0mlength\u001b[0m \u001b[0;34m=\u001b[0m \u001b[0mself\u001b[0m\u001b[0;34m.\u001b[0m\u001b[0mget2bytes\u001b[0m\u001b[0;34m(\u001b[0m\u001b[0;34m)\u001b[0m\u001b[0;34m\u001b[0m\u001b[0;34m\u001b[0m\u001b[0m\n\u001b[1;32m   1280\u001b[0m         \u001b[0;32mif\u001b[0m \u001b[0mlength\u001b[0m \u001b[0;34m==\u001b[0m \u001b[0mMY_EOF\u001b[0m\u001b[0;34m:\u001b[0m\u001b[0;34m\u001b[0m\u001b[0;34m\u001b[0m\u001b[0m\n",
      "\u001b[0;32m~/opt/anaconda3/envs/jpx_env/lib/python3.6/site-packages/xlrd/book.py\u001b[0m in \u001b[0;36mbof_error\u001b[0;34m(msg)\u001b[0m\n\u001b[1;32m   1270\u001b[0m \u001b[0;34m\u001b[0m\u001b[0m\n\u001b[1;32m   1271\u001b[0m         \u001b[0;32mdef\u001b[0m \u001b[0mbof_error\u001b[0m\u001b[0;34m(\u001b[0m\u001b[0mmsg\u001b[0m\u001b[0;34m)\u001b[0m\u001b[0;34m:\u001b[0m\u001b[0;34m\u001b[0m\u001b[0;34m\u001b[0m\u001b[0m\n\u001b[0;32m-> 1272\u001b[0;31m             \u001b[0;32mraise\u001b[0m \u001b[0mXLRDError\u001b[0m\u001b[0;34m(\u001b[0m\u001b[0;34m'Unsupported format, or corrupt file: '\u001b[0m \u001b[0;34m+\u001b[0m \u001b[0mmsg\u001b[0m\u001b[0;34m)\u001b[0m\u001b[0;34m\u001b[0m\u001b[0;34m\u001b[0m\u001b[0m\n\u001b[0m\u001b[1;32m   1273\u001b[0m         \u001b[0msavpos\u001b[0m \u001b[0;34m=\u001b[0m \u001b[0mself\u001b[0m\u001b[0;34m.\u001b[0m\u001b[0m_position\u001b[0m\u001b[0;34m\u001b[0m\u001b[0;34m\u001b[0m\u001b[0m\n\u001b[1;32m   1274\u001b[0m         \u001b[0mopcode\u001b[0m \u001b[0;34m=\u001b[0m \u001b[0mself\u001b[0m\u001b[0;34m.\u001b[0m\u001b[0mget2bytes\u001b[0m\u001b[0;34m(\u001b[0m\u001b[0;34m)\u001b[0m\u001b[0;34m\u001b[0m\u001b[0;34m\u001b[0m\u001b[0m\n",
      "\u001b[0;31mXLRDError\u001b[0m: Unsupported format, or corrupt file: Expected BOF record; found b',\\xe3\\x82\\xa2\\xe3\\x83\\xa1\\xe3'"
     ]
    }
   ],
   "source": [
    "client = boto3.client('s3')\n",
    "pd.read_excel('s3://jpx-future-bucket/final_data/時系列データ.xlsx', header=[0, 1, 2])"
   ]
  },
  {
   "cell_type": "code",
   "execution_count": 26,
   "metadata": {},
   "outputs": [
    {
     "output_type": "error",
     "ename": "AttributeError",
     "evalue": "'numpy.ndarray' object has no attribute 'delete'",
     "traceback": [
      "\u001b[0;31m---------------------------------------------------------------------------\u001b[0m",
      "\u001b[0;31mAttributeError\u001b[0m                            Traceback (most recent call last)",
      "\u001b[0;32m<ipython-input-26-c2c8b0cf1c63>\u001b[0m in \u001b[0;36m<module>\u001b[0;34m\u001b[0m\n\u001b[0;32m----> 1\u001b[0;31m \u001b[0marr\u001b[0m\u001b[0;34m=\u001b[0m\u001b[0mdf\u001b[0m\u001b[0;34m[\u001b[0m\u001b[0mdf\u001b[0m\u001b[0;34m[\u001b[0m\u001b[0;34m\"売り買い\"\u001b[0m\u001b[0;34m]\u001b[0m\u001b[0;34m==\u001b[0m\u001b[0;34m\"BofA証券\"\u001b[0m\u001b[0;34m]\u001b[0m\u001b[0;34m.\u001b[0m\u001b[0mvalues\u001b[0m\u001b[0;34m.\u001b[0m\u001b[0mdelete\u001b[0m\u001b[0;34m(\u001b[0m\u001b[0;36m0\u001b[0m\u001b[0;34m)\u001b[0m\u001b[0;34m\u001b[0m\u001b[0;34m\u001b[0m\u001b[0m\n\u001b[0m\u001b[1;32m      2\u001b[0m \u001b[0mnp\u001b[0m\u001b[0;34m.\u001b[0m\u001b[0mdelete\u001b[0m\u001b[0;34m(\u001b[0m\u001b[0marr\u001b[0m\u001b[0;34m,\u001b[0m \u001b[0;36m0\u001b[0m\u001b[0;34m)\u001b[0m\u001b[0;34m\u001b[0m\u001b[0;34m\u001b[0m\u001b[0m\n",
      "\u001b[0;31mAttributeError\u001b[0m: 'numpy.ndarray' object has no attribute 'delete'"
     ]
    }
   ],
   "source": [
    "arr=df[df[\"売り買い\"]==\"BofA証券\"].values\n",
    "np.delete(arr, 0)"
   ]
  },
  {
   "cell_type": "code",
   "execution_count": null,
   "metadata": {},
   "outputs": [],
   "source": [
    "x = [\"第１限月　売り\", \"第１限月　買い\", \"第２限月　売り\", \"第２限月　買い\", \"第３限月　売り\", \"第３限月　買い\",]\n",
    "needed_list = [{'x': x, 'y': np.delete(df[df[\"売り買い\"]==i].values, 0), 'type': 'bar', 'name': i} for i in df[\"売り買い\"].unique()]"
   ]
  },
  {
   "cell_type": "code",
   "execution_count": 30,
   "metadata": {},
   "outputs": [
    {
     "output_type": "execute_result",
     "data": {
      "text/plain": [
       "          売り買い       売り       買い      差引   売り.1   買い.1   差引.1     売り.2  \\\n",
       "1       BofA証券   1691.0    944.0  -747.0    NaN    NaN    NaN   1691.0   \n",
       "2        みずほ証券   2003.0    496.0 -1507.0    NaN    NaN    NaN   2003.0   \n",
       "3   クレディ・スイス証券    792.0    595.0  -197.0    NaN    NaN    NaN    792.0   \n",
       "4   ゴールドマンサックス   3515.0   1786.0 -1729.0    NaN    NaN    NaN   3515.0   \n",
       "5    シティグループ証券   2495.0      NaN     NaN    NaN    NaN    NaN   2495.0   \n",
       "6   ソシエテ・ジェネラル  11826.0  13615.0  1789.0  103.0   73.0  -30.0  11929.0   \n",
       "7        ドイツ証券    193.0      NaN     NaN    NaN    NaN    NaN    193.0   \n",
       "8     バークレイズ証券    530.0    825.0   295.0    NaN    NaN    NaN    530.0   \n",
       "9      マネックス証券     46.0    226.0   180.0    4.0   13.0    9.0     50.0   \n",
       "10   モルガンスタンレー   1463.0   1523.0    60.0    NaN    NaN    NaN   1463.0   \n",
       "11   三菱ＵＦＪモルガン      NaN    770.0     NaN    NaN    NaN    NaN      0.0   \n",
       "12        光世証券      NaN      NaN     NaN    1.0    NaN    NaN      1.0   \n",
       "13        大和証券    284.0      NaN     NaN    NaN    NaN    NaN    284.0   \n",
       "14        岡三証券      NaN      NaN     NaN    2.0    2.0    0.0      2.0   \n",
       "15     岩井コスモ証券      NaN      NaN     NaN    NaN    1.0    NaN      0.0   \n",
       "16        日産証券    570.0    855.0   285.0    9.0    2.0   -7.0    579.0   \n",
       "17        松井証券    553.0    746.0   193.0   23.0    5.0  -18.0    576.0   \n",
       "18        楽天証券    733.0    820.0    87.0    4.0    9.0    5.0    737.0   \n",
       "19        野村證券   2572.0   3388.0   816.0    NaN    NaN    NaN   2572.0   \n",
       "20   ＡＢＮアムロクリア  17512.0  18388.0   876.0   30.0  356.0  326.0  17542.0   \n",
       "21    ＢＮＰパリバ証券    300.0    297.0    -3.0    NaN    NaN    NaN    300.0   \n",
       "22   ＧＭＯクリック証券     34.0    203.0   169.0    2.0    2.0    0.0     36.0   \n",
       "23    ＪＰモルガン証券   2115.0   1222.0  -893.0    NaN    NaN    NaN   2115.0   \n",
       "24   ＳＢＩネオトレード      NaN      NaN     NaN    3.0    3.0    0.0      3.0   \n",
       "25       ＳＢＩ証券   2123.0   3049.0   926.0    6.0    9.0    3.0   2129.0   \n",
       "26    ＳＭＢＣ日興証券    312.0      NaN     NaN    NaN    1.0    NaN    312.0   \n",
       "27       ＵＢＳ証券      NaN    796.0     NaN    NaN    NaN    NaN      0.0   \n",
       "28    ａｕカブコム証券    267.0    327.0    60.0    9.0   12.0    3.0    276.0   \n",
       "\n",
       "       買い.2    差引.2  \n",
       "1     944.0  -747.0  \n",
       "2     496.0 -1507.0  \n",
       "3     595.0  -197.0  \n",
       "4    1786.0 -1729.0  \n",
       "5       0.0     0.0  \n",
       "6   13688.0  1759.0  \n",
       "7       0.0     0.0  \n",
       "8     825.0   295.0  \n",
       "9     239.0   189.0  \n",
       "10   1523.0    60.0  \n",
       "11    770.0     0.0  \n",
       "12      0.0     0.0  \n",
       "13      0.0     0.0  \n",
       "14      2.0     0.0  \n",
       "15      1.0     0.0  \n",
       "16    857.0   278.0  \n",
       "17    751.0   175.0  \n",
       "18    829.0    92.0  \n",
       "19   3388.0   816.0  \n",
       "20  18744.0  1202.0  \n",
       "21    297.0    -3.0  \n",
       "22    205.0   169.0  \n",
       "23   1222.0  -893.0  \n",
       "24      3.0     0.0  \n",
       "25   3058.0   929.0  \n",
       "26      1.0     0.0  \n",
       "27    796.0     0.0  \n",
       "28    339.0    63.0  "
      ],
      "text/html": "<div>\n<style scoped>\n    .dataframe tbody tr th:only-of-type {\n        vertical-align: middle;\n    }\n\n    .dataframe tbody tr th {\n        vertical-align: top;\n    }\n\n    .dataframe thead th {\n        text-align: right;\n    }\n</style>\n<table border=\"1\" class=\"dataframe\">\n  <thead>\n    <tr style=\"text-align: right;\">\n      <th></th>\n      <th>売り買い</th>\n      <th>売り</th>\n      <th>買い</th>\n      <th>差引</th>\n      <th>売り.1</th>\n      <th>買い.1</th>\n      <th>差引.1</th>\n      <th>売り.2</th>\n      <th>買い.2</th>\n      <th>差引.2</th>\n    </tr>\n  </thead>\n  <tbody>\n    <tr>\n      <td>1</td>\n      <td>BofA証券</td>\n      <td>1691.0</td>\n      <td>944.0</td>\n      <td>-747.0</td>\n      <td>NaN</td>\n      <td>NaN</td>\n      <td>NaN</td>\n      <td>1691.0</td>\n      <td>944.0</td>\n      <td>-747.0</td>\n    </tr>\n    <tr>\n      <td>2</td>\n      <td>みずほ証券</td>\n      <td>2003.0</td>\n      <td>496.0</td>\n      <td>-1507.0</td>\n      <td>NaN</td>\n      <td>NaN</td>\n      <td>NaN</td>\n      <td>2003.0</td>\n      <td>496.0</td>\n      <td>-1507.0</td>\n    </tr>\n    <tr>\n      <td>3</td>\n      <td>クレディ・スイス証券</td>\n      <td>792.0</td>\n      <td>595.0</td>\n      <td>-197.0</td>\n      <td>NaN</td>\n      <td>NaN</td>\n      <td>NaN</td>\n      <td>792.0</td>\n      <td>595.0</td>\n      <td>-197.0</td>\n    </tr>\n    <tr>\n      <td>4</td>\n      <td>ゴールドマンサックス</td>\n      <td>3515.0</td>\n      <td>1786.0</td>\n      <td>-1729.0</td>\n      <td>NaN</td>\n      <td>NaN</td>\n      <td>NaN</td>\n      <td>3515.0</td>\n      <td>1786.0</td>\n      <td>-1729.0</td>\n    </tr>\n    <tr>\n      <td>5</td>\n      <td>シティグループ証券</td>\n      <td>2495.0</td>\n      <td>NaN</td>\n      <td>NaN</td>\n      <td>NaN</td>\n      <td>NaN</td>\n      <td>NaN</td>\n      <td>2495.0</td>\n      <td>0.0</td>\n      <td>0.0</td>\n    </tr>\n    <tr>\n      <td>6</td>\n      <td>ソシエテ・ジェネラル</td>\n      <td>11826.0</td>\n      <td>13615.0</td>\n      <td>1789.0</td>\n      <td>103.0</td>\n      <td>73.0</td>\n      <td>-30.0</td>\n      <td>11929.0</td>\n      <td>13688.0</td>\n      <td>1759.0</td>\n    </tr>\n    <tr>\n      <td>7</td>\n      <td>ドイツ証券</td>\n      <td>193.0</td>\n      <td>NaN</td>\n      <td>NaN</td>\n      <td>NaN</td>\n      <td>NaN</td>\n      <td>NaN</td>\n      <td>193.0</td>\n      <td>0.0</td>\n      <td>0.0</td>\n    </tr>\n    <tr>\n      <td>8</td>\n      <td>バークレイズ証券</td>\n      <td>530.0</td>\n      <td>825.0</td>\n      <td>295.0</td>\n      <td>NaN</td>\n      <td>NaN</td>\n      <td>NaN</td>\n      <td>530.0</td>\n      <td>825.0</td>\n      <td>295.0</td>\n    </tr>\n    <tr>\n      <td>9</td>\n      <td>マネックス証券</td>\n      <td>46.0</td>\n      <td>226.0</td>\n      <td>180.0</td>\n      <td>4.0</td>\n      <td>13.0</td>\n      <td>9.0</td>\n      <td>50.0</td>\n      <td>239.0</td>\n      <td>189.0</td>\n    </tr>\n    <tr>\n      <td>10</td>\n      <td>モルガンスタンレー</td>\n      <td>1463.0</td>\n      <td>1523.0</td>\n      <td>60.0</td>\n      <td>NaN</td>\n      <td>NaN</td>\n      <td>NaN</td>\n      <td>1463.0</td>\n      <td>1523.0</td>\n      <td>60.0</td>\n    </tr>\n    <tr>\n      <td>11</td>\n      <td>三菱ＵＦＪモルガン</td>\n      <td>NaN</td>\n      <td>770.0</td>\n      <td>NaN</td>\n      <td>NaN</td>\n      <td>NaN</td>\n      <td>NaN</td>\n      <td>0.0</td>\n      <td>770.0</td>\n      <td>0.0</td>\n    </tr>\n    <tr>\n      <td>12</td>\n      <td>光世証券</td>\n      <td>NaN</td>\n      <td>NaN</td>\n      <td>NaN</td>\n      <td>1.0</td>\n      <td>NaN</td>\n      <td>NaN</td>\n      <td>1.0</td>\n      <td>0.0</td>\n      <td>0.0</td>\n    </tr>\n    <tr>\n      <td>13</td>\n      <td>大和証券</td>\n      <td>284.0</td>\n      <td>NaN</td>\n      <td>NaN</td>\n      <td>NaN</td>\n      <td>NaN</td>\n      <td>NaN</td>\n      <td>284.0</td>\n      <td>0.0</td>\n      <td>0.0</td>\n    </tr>\n    <tr>\n      <td>14</td>\n      <td>岡三証券</td>\n      <td>NaN</td>\n      <td>NaN</td>\n      <td>NaN</td>\n      <td>2.0</td>\n      <td>2.0</td>\n      <td>0.0</td>\n      <td>2.0</td>\n      <td>2.0</td>\n      <td>0.0</td>\n    </tr>\n    <tr>\n      <td>15</td>\n      <td>岩井コスモ証券</td>\n      <td>NaN</td>\n      <td>NaN</td>\n      <td>NaN</td>\n      <td>NaN</td>\n      <td>1.0</td>\n      <td>NaN</td>\n      <td>0.0</td>\n      <td>1.0</td>\n      <td>0.0</td>\n    </tr>\n    <tr>\n      <td>16</td>\n      <td>日産証券</td>\n      <td>570.0</td>\n      <td>855.0</td>\n      <td>285.0</td>\n      <td>9.0</td>\n      <td>2.0</td>\n      <td>-7.0</td>\n      <td>579.0</td>\n      <td>857.0</td>\n      <td>278.0</td>\n    </tr>\n    <tr>\n      <td>17</td>\n      <td>松井証券</td>\n      <td>553.0</td>\n      <td>746.0</td>\n      <td>193.0</td>\n      <td>23.0</td>\n      <td>5.0</td>\n      <td>-18.0</td>\n      <td>576.0</td>\n      <td>751.0</td>\n      <td>175.0</td>\n    </tr>\n    <tr>\n      <td>18</td>\n      <td>楽天証券</td>\n      <td>733.0</td>\n      <td>820.0</td>\n      <td>87.0</td>\n      <td>4.0</td>\n      <td>9.0</td>\n      <td>5.0</td>\n      <td>737.0</td>\n      <td>829.0</td>\n      <td>92.0</td>\n    </tr>\n    <tr>\n      <td>19</td>\n      <td>野村證券</td>\n      <td>2572.0</td>\n      <td>3388.0</td>\n      <td>816.0</td>\n      <td>NaN</td>\n      <td>NaN</td>\n      <td>NaN</td>\n      <td>2572.0</td>\n      <td>3388.0</td>\n      <td>816.0</td>\n    </tr>\n    <tr>\n      <td>20</td>\n      <td>ＡＢＮアムロクリア</td>\n      <td>17512.0</td>\n      <td>18388.0</td>\n      <td>876.0</td>\n      <td>30.0</td>\n      <td>356.0</td>\n      <td>326.0</td>\n      <td>17542.0</td>\n      <td>18744.0</td>\n      <td>1202.0</td>\n    </tr>\n    <tr>\n      <td>21</td>\n      <td>ＢＮＰパリバ証券</td>\n      <td>300.0</td>\n      <td>297.0</td>\n      <td>-3.0</td>\n      <td>NaN</td>\n      <td>NaN</td>\n      <td>NaN</td>\n      <td>300.0</td>\n      <td>297.0</td>\n      <td>-3.0</td>\n    </tr>\n    <tr>\n      <td>22</td>\n      <td>ＧＭＯクリック証券</td>\n      <td>34.0</td>\n      <td>203.0</td>\n      <td>169.0</td>\n      <td>2.0</td>\n      <td>2.0</td>\n      <td>0.0</td>\n      <td>36.0</td>\n      <td>205.0</td>\n      <td>169.0</td>\n    </tr>\n    <tr>\n      <td>23</td>\n      <td>ＪＰモルガン証券</td>\n      <td>2115.0</td>\n      <td>1222.0</td>\n      <td>-893.0</td>\n      <td>NaN</td>\n      <td>NaN</td>\n      <td>NaN</td>\n      <td>2115.0</td>\n      <td>1222.0</td>\n      <td>-893.0</td>\n    </tr>\n    <tr>\n      <td>24</td>\n      <td>ＳＢＩネオトレード</td>\n      <td>NaN</td>\n      <td>NaN</td>\n      <td>NaN</td>\n      <td>3.0</td>\n      <td>3.0</td>\n      <td>0.0</td>\n      <td>3.0</td>\n      <td>3.0</td>\n      <td>0.0</td>\n    </tr>\n    <tr>\n      <td>25</td>\n      <td>ＳＢＩ証券</td>\n      <td>2123.0</td>\n      <td>3049.0</td>\n      <td>926.0</td>\n      <td>6.0</td>\n      <td>9.0</td>\n      <td>3.0</td>\n      <td>2129.0</td>\n      <td>3058.0</td>\n      <td>929.0</td>\n    </tr>\n    <tr>\n      <td>26</td>\n      <td>ＳＭＢＣ日興証券</td>\n      <td>312.0</td>\n      <td>NaN</td>\n      <td>NaN</td>\n      <td>NaN</td>\n      <td>1.0</td>\n      <td>NaN</td>\n      <td>312.0</td>\n      <td>1.0</td>\n      <td>0.0</td>\n    </tr>\n    <tr>\n      <td>27</td>\n      <td>ＵＢＳ証券</td>\n      <td>NaN</td>\n      <td>796.0</td>\n      <td>NaN</td>\n      <td>NaN</td>\n      <td>NaN</td>\n      <td>NaN</td>\n      <td>0.0</td>\n      <td>796.0</td>\n      <td>0.0</td>\n    </tr>\n    <tr>\n      <td>28</td>\n      <td>ａｕカブコム証券</td>\n      <td>267.0</td>\n      <td>327.0</td>\n      <td>60.0</td>\n      <td>9.0</td>\n      <td>12.0</td>\n      <td>3.0</td>\n      <td>276.0</td>\n      <td>339.0</td>\n      <td>63.0</td>\n    </tr>\n  </tbody>\n</table>\n</div>"
     },
     "metadata": {},
     "execution_count": 30
    }
   ],
   "source": [
    "df[(df[\"売り買い\"] != \"総合計\")&(df[\"売り買い\"] != \"取引参加者\")]"
   ]
  },
  {
   "cell_type": "code",
   "execution_count": 9,
   "metadata": {},
   "outputs": [],
   "source": [
    "import boto3\n",
    "\n",
    "# reading s3 bucket\n",
    "client = boto3.client('s3')\n",
    "path='s3://jpx-future-bucket/完成データ/先物2021-1-15.xlsx'"
   ]
  },
  {
   "cell_type": "code",
   "execution_count": 14,
   "metadata": {},
   "outputs": [
    {
     "output_type": "error",
     "ename": "NoCredentialsError",
     "evalue": "Unable to locate credentials",
     "traceback": [
      "\u001b[0;31m---------------------------------------------------------------------------\u001b[0m",
      "\u001b[0;31mNoCredentialsError\u001b[0m                        Traceback (most recent call last)",
      "\u001b[0;32m<ipython-input-14-076ee5c4668e>\u001b[0m in \u001b[0;36m<module>\u001b[0;34m\u001b[0m\n\u001b[0;32m----> 1\u001b[0;31m \u001b[0mobj\u001b[0m \u001b[0;34m=\u001b[0m \u001b[0mclient\u001b[0m\u001b[0;34m.\u001b[0m\u001b[0mget_object\u001b[0m\u001b[0;34m(\u001b[0m\u001b[0mBucket\u001b[0m\u001b[0;34m=\u001b[0m\u001b[0;34m'jpx-future-bucket'\u001b[0m\u001b[0;34m,\u001b[0m \u001b[0mKey\u001b[0m\u001b[0;34m=\u001b[0m\u001b[0;34m'/完成データ/先物2021-1-15.xlsx'\u001b[0m\u001b[0;34m)\u001b[0m\u001b[0;34m\u001b[0m\u001b[0;34m\u001b[0m\u001b[0m\n\u001b[0m\u001b[1;32m      2\u001b[0m \u001b[0mobj\u001b[0m\u001b[0;34m\u001b[0m\u001b[0;34m\u001b[0m\u001b[0m\n",
      "\u001b[0;32m~/opt/anaconda3/envs/jpx_env/lib/python3.6/site-packages/botocore/client.py\u001b[0m in \u001b[0;36m_api_call\u001b[0;34m(self, *args, **kwargs)\u001b[0m\n\u001b[1;32m    355\u001b[0m                     \"%s() only accepts keyword arguments.\" % py_operation_name)\n\u001b[1;32m    356\u001b[0m             \u001b[0;31m# The \"self\" in this scope is referring to the BaseClient.\u001b[0m\u001b[0;34m\u001b[0m\u001b[0;34m\u001b[0m\u001b[0;34m\u001b[0m\u001b[0m\n\u001b[0;32m--> 357\u001b[0;31m             \u001b[0;32mreturn\u001b[0m \u001b[0mself\u001b[0m\u001b[0;34m.\u001b[0m\u001b[0m_make_api_call\u001b[0m\u001b[0;34m(\u001b[0m\u001b[0moperation_name\u001b[0m\u001b[0;34m,\u001b[0m \u001b[0mkwargs\u001b[0m\u001b[0;34m)\u001b[0m\u001b[0;34m\u001b[0m\u001b[0;34m\u001b[0m\u001b[0m\n\u001b[0m\u001b[1;32m    358\u001b[0m \u001b[0;34m\u001b[0m\u001b[0m\n\u001b[1;32m    359\u001b[0m         \u001b[0m_api_call\u001b[0m\u001b[0;34m.\u001b[0m\u001b[0m__name__\u001b[0m \u001b[0;34m=\u001b[0m \u001b[0mstr\u001b[0m\u001b[0;34m(\u001b[0m\u001b[0mpy_operation_name\u001b[0m\u001b[0;34m)\u001b[0m\u001b[0;34m\u001b[0m\u001b[0;34m\u001b[0m\u001b[0m\n",
      "\u001b[0;32m~/opt/anaconda3/envs/jpx_env/lib/python3.6/site-packages/botocore/client.py\u001b[0m in \u001b[0;36m_make_api_call\u001b[0;34m(self, operation_name, api_params)\u001b[0m\n\u001b[1;32m    661\u001b[0m         \u001b[0;32melse\u001b[0m\u001b[0;34m:\u001b[0m\u001b[0;34m\u001b[0m\u001b[0;34m\u001b[0m\u001b[0m\n\u001b[1;32m    662\u001b[0m             http, parsed_response = self._make_request(\n\u001b[0;32m--> 663\u001b[0;31m                 operation_model, request_dict, request_context)\n\u001b[0m\u001b[1;32m    664\u001b[0m \u001b[0;34m\u001b[0m\u001b[0m\n\u001b[1;32m    665\u001b[0m         self.meta.events.emit(\n",
      "\u001b[0;32m~/opt/anaconda3/envs/jpx_env/lib/python3.6/site-packages/botocore/client.py\u001b[0m in \u001b[0;36m_make_request\u001b[0;34m(self, operation_model, request_dict, request_context)\u001b[0m\n\u001b[1;32m    680\u001b[0m     \u001b[0;32mdef\u001b[0m \u001b[0m_make_request\u001b[0m\u001b[0;34m(\u001b[0m\u001b[0mself\u001b[0m\u001b[0;34m,\u001b[0m \u001b[0moperation_model\u001b[0m\u001b[0;34m,\u001b[0m \u001b[0mrequest_dict\u001b[0m\u001b[0;34m,\u001b[0m \u001b[0mrequest_context\u001b[0m\u001b[0;34m)\u001b[0m\u001b[0;34m:\u001b[0m\u001b[0;34m\u001b[0m\u001b[0;34m\u001b[0m\u001b[0m\n\u001b[1;32m    681\u001b[0m         \u001b[0;32mtry\u001b[0m\u001b[0;34m:\u001b[0m\u001b[0;34m\u001b[0m\u001b[0;34m\u001b[0m\u001b[0m\n\u001b[0;32m--> 682\u001b[0;31m             \u001b[0;32mreturn\u001b[0m \u001b[0mself\u001b[0m\u001b[0;34m.\u001b[0m\u001b[0m_endpoint\u001b[0m\u001b[0;34m.\u001b[0m\u001b[0mmake_request\u001b[0m\u001b[0;34m(\u001b[0m\u001b[0moperation_model\u001b[0m\u001b[0;34m,\u001b[0m \u001b[0mrequest_dict\u001b[0m\u001b[0;34m)\u001b[0m\u001b[0;34m\u001b[0m\u001b[0;34m\u001b[0m\u001b[0m\n\u001b[0m\u001b[1;32m    683\u001b[0m         \u001b[0;32mexcept\u001b[0m \u001b[0mException\u001b[0m \u001b[0;32mas\u001b[0m \u001b[0me\u001b[0m\u001b[0;34m:\u001b[0m\u001b[0;34m\u001b[0m\u001b[0;34m\u001b[0m\u001b[0m\n\u001b[1;32m    684\u001b[0m             self.meta.events.emit(\n",
      "\u001b[0;32m~/opt/anaconda3/envs/jpx_env/lib/python3.6/site-packages/botocore/endpoint.py\u001b[0m in \u001b[0;36mmake_request\u001b[0;34m(self, operation_model, request_dict)\u001b[0m\n\u001b[1;32m    100\u001b[0m         logger.debug(\"Making request for %s with params: %s\",\n\u001b[1;32m    101\u001b[0m                      operation_model, request_dict)\n\u001b[0;32m--> 102\u001b[0;31m         \u001b[0;32mreturn\u001b[0m \u001b[0mself\u001b[0m\u001b[0;34m.\u001b[0m\u001b[0m_send_request\u001b[0m\u001b[0;34m(\u001b[0m\u001b[0mrequest_dict\u001b[0m\u001b[0;34m,\u001b[0m \u001b[0moperation_model\u001b[0m\u001b[0;34m)\u001b[0m\u001b[0;34m\u001b[0m\u001b[0;34m\u001b[0m\u001b[0m\n\u001b[0m\u001b[1;32m    103\u001b[0m \u001b[0;34m\u001b[0m\u001b[0m\n\u001b[1;32m    104\u001b[0m     \u001b[0;32mdef\u001b[0m \u001b[0mcreate_request\u001b[0m\u001b[0;34m(\u001b[0m\u001b[0mself\u001b[0m\u001b[0;34m,\u001b[0m \u001b[0mparams\u001b[0m\u001b[0;34m,\u001b[0m \u001b[0moperation_model\u001b[0m\u001b[0;34m=\u001b[0m\u001b[0;32mNone\u001b[0m\u001b[0;34m)\u001b[0m\u001b[0;34m:\u001b[0m\u001b[0;34m\u001b[0m\u001b[0;34m\u001b[0m\u001b[0m\n",
      "\u001b[0;32m~/opt/anaconda3/envs/jpx_env/lib/python3.6/site-packages/botocore/endpoint.py\u001b[0m in \u001b[0;36m_send_request\u001b[0;34m(self, request_dict, operation_model)\u001b[0m\n\u001b[1;32m    130\u001b[0m     \u001b[0;32mdef\u001b[0m \u001b[0m_send_request\u001b[0m\u001b[0;34m(\u001b[0m\u001b[0mself\u001b[0m\u001b[0;34m,\u001b[0m \u001b[0mrequest_dict\u001b[0m\u001b[0;34m,\u001b[0m \u001b[0moperation_model\u001b[0m\u001b[0;34m)\u001b[0m\u001b[0;34m:\u001b[0m\u001b[0;34m\u001b[0m\u001b[0;34m\u001b[0m\u001b[0m\n\u001b[1;32m    131\u001b[0m         \u001b[0mattempts\u001b[0m \u001b[0;34m=\u001b[0m \u001b[0;36m1\u001b[0m\u001b[0;34m\u001b[0m\u001b[0;34m\u001b[0m\u001b[0m\n\u001b[0;32m--> 132\u001b[0;31m         \u001b[0mrequest\u001b[0m \u001b[0;34m=\u001b[0m \u001b[0mself\u001b[0m\u001b[0;34m.\u001b[0m\u001b[0mcreate_request\u001b[0m\u001b[0;34m(\u001b[0m\u001b[0mrequest_dict\u001b[0m\u001b[0;34m,\u001b[0m \u001b[0moperation_model\u001b[0m\u001b[0;34m)\u001b[0m\u001b[0;34m\u001b[0m\u001b[0;34m\u001b[0m\u001b[0m\n\u001b[0m\u001b[1;32m    133\u001b[0m         \u001b[0mcontext\u001b[0m \u001b[0;34m=\u001b[0m \u001b[0mrequest_dict\u001b[0m\u001b[0;34m[\u001b[0m\u001b[0;34m'context'\u001b[0m\u001b[0;34m]\u001b[0m\u001b[0;34m\u001b[0m\u001b[0;34m\u001b[0m\u001b[0m\n\u001b[1;32m    134\u001b[0m         success_response, exception = self._get_response(\n",
      "\u001b[0;32m~/opt/anaconda3/envs/jpx_env/lib/python3.6/site-packages/botocore/endpoint.py\u001b[0m in \u001b[0;36mcreate_request\u001b[0;34m(self, params, operation_model)\u001b[0m\n\u001b[1;32m    114\u001b[0m                 op_name=operation_model.name)\n\u001b[1;32m    115\u001b[0m             self._event_emitter.emit(event_name, request=request,\n\u001b[0;32m--> 116\u001b[0;31m                                      operation_name=operation_model.name)\n\u001b[0m\u001b[1;32m    117\u001b[0m         \u001b[0mprepared_request\u001b[0m \u001b[0;34m=\u001b[0m \u001b[0mself\u001b[0m\u001b[0;34m.\u001b[0m\u001b[0mprepare_request\u001b[0m\u001b[0;34m(\u001b[0m\u001b[0mrequest\u001b[0m\u001b[0;34m)\u001b[0m\u001b[0;34m\u001b[0m\u001b[0;34m\u001b[0m\u001b[0m\n\u001b[1;32m    118\u001b[0m         \u001b[0;32mreturn\u001b[0m \u001b[0mprepared_request\u001b[0m\u001b[0;34m\u001b[0m\u001b[0;34m\u001b[0m\u001b[0m\n",
      "\u001b[0;32m~/opt/anaconda3/envs/jpx_env/lib/python3.6/site-packages/botocore/hooks.py\u001b[0m in \u001b[0;36memit\u001b[0;34m(self, event_name, **kwargs)\u001b[0m\n\u001b[1;32m    354\u001b[0m     \u001b[0;32mdef\u001b[0m \u001b[0memit\u001b[0m\u001b[0;34m(\u001b[0m\u001b[0mself\u001b[0m\u001b[0;34m,\u001b[0m \u001b[0mevent_name\u001b[0m\u001b[0;34m,\u001b[0m \u001b[0;34m**\u001b[0m\u001b[0mkwargs\u001b[0m\u001b[0;34m)\u001b[0m\u001b[0;34m:\u001b[0m\u001b[0;34m\u001b[0m\u001b[0;34m\u001b[0m\u001b[0m\n\u001b[1;32m    355\u001b[0m         \u001b[0maliased_event_name\u001b[0m \u001b[0;34m=\u001b[0m \u001b[0mself\u001b[0m\u001b[0;34m.\u001b[0m\u001b[0m_alias_event_name\u001b[0m\u001b[0;34m(\u001b[0m\u001b[0mevent_name\u001b[0m\u001b[0;34m)\u001b[0m\u001b[0;34m\u001b[0m\u001b[0;34m\u001b[0m\u001b[0m\n\u001b[0;32m--> 356\u001b[0;31m         \u001b[0;32mreturn\u001b[0m \u001b[0mself\u001b[0m\u001b[0;34m.\u001b[0m\u001b[0m_emitter\u001b[0m\u001b[0;34m.\u001b[0m\u001b[0memit\u001b[0m\u001b[0;34m(\u001b[0m\u001b[0maliased_event_name\u001b[0m\u001b[0;34m,\u001b[0m \u001b[0;34m**\u001b[0m\u001b[0mkwargs\u001b[0m\u001b[0;34m)\u001b[0m\u001b[0;34m\u001b[0m\u001b[0;34m\u001b[0m\u001b[0m\n\u001b[0m\u001b[1;32m    357\u001b[0m \u001b[0;34m\u001b[0m\u001b[0m\n\u001b[1;32m    358\u001b[0m     \u001b[0;32mdef\u001b[0m \u001b[0memit_until_response\u001b[0m\u001b[0;34m(\u001b[0m\u001b[0mself\u001b[0m\u001b[0;34m,\u001b[0m \u001b[0mevent_name\u001b[0m\u001b[0;34m,\u001b[0m \u001b[0;34m**\u001b[0m\u001b[0mkwargs\u001b[0m\u001b[0;34m)\u001b[0m\u001b[0;34m:\u001b[0m\u001b[0;34m\u001b[0m\u001b[0;34m\u001b[0m\u001b[0m\n",
      "\u001b[0;32m~/opt/anaconda3/envs/jpx_env/lib/python3.6/site-packages/botocore/hooks.py\u001b[0m in \u001b[0;36memit\u001b[0;34m(self, event_name, **kwargs)\u001b[0m\n\u001b[1;32m    226\u001b[0m                  \u001b[0mhandlers\u001b[0m\u001b[0;34m.\u001b[0m\u001b[0;34m\u001b[0m\u001b[0;34m\u001b[0m\u001b[0m\n\u001b[1;32m    227\u001b[0m         \"\"\"\n\u001b[0;32m--> 228\u001b[0;31m         \u001b[0;32mreturn\u001b[0m \u001b[0mself\u001b[0m\u001b[0;34m.\u001b[0m\u001b[0m_emit\u001b[0m\u001b[0;34m(\u001b[0m\u001b[0mevent_name\u001b[0m\u001b[0;34m,\u001b[0m \u001b[0mkwargs\u001b[0m\u001b[0;34m)\u001b[0m\u001b[0;34m\u001b[0m\u001b[0;34m\u001b[0m\u001b[0m\n\u001b[0m\u001b[1;32m    229\u001b[0m \u001b[0;34m\u001b[0m\u001b[0m\n\u001b[1;32m    230\u001b[0m     \u001b[0;32mdef\u001b[0m \u001b[0memit_until_response\u001b[0m\u001b[0;34m(\u001b[0m\u001b[0mself\u001b[0m\u001b[0;34m,\u001b[0m \u001b[0mevent_name\u001b[0m\u001b[0;34m,\u001b[0m \u001b[0;34m**\u001b[0m\u001b[0mkwargs\u001b[0m\u001b[0;34m)\u001b[0m\u001b[0;34m:\u001b[0m\u001b[0;34m\u001b[0m\u001b[0;34m\u001b[0m\u001b[0m\n",
      "\u001b[0;32m~/opt/anaconda3/envs/jpx_env/lib/python3.6/site-packages/botocore/hooks.py\u001b[0m in \u001b[0;36m_emit\u001b[0;34m(self, event_name, kwargs, stop_on_response)\u001b[0m\n\u001b[1;32m    209\u001b[0m         \u001b[0;32mfor\u001b[0m \u001b[0mhandler\u001b[0m \u001b[0;32min\u001b[0m \u001b[0mhandlers_to_call\u001b[0m\u001b[0;34m:\u001b[0m\u001b[0;34m\u001b[0m\u001b[0;34m\u001b[0m\u001b[0m\n\u001b[1;32m    210\u001b[0m             \u001b[0mlogger\u001b[0m\u001b[0;34m.\u001b[0m\u001b[0mdebug\u001b[0m\u001b[0;34m(\u001b[0m\u001b[0;34m'Event %s: calling handler %s'\u001b[0m\u001b[0;34m,\u001b[0m \u001b[0mevent_name\u001b[0m\u001b[0;34m,\u001b[0m \u001b[0mhandler\u001b[0m\u001b[0;34m)\u001b[0m\u001b[0;34m\u001b[0m\u001b[0;34m\u001b[0m\u001b[0m\n\u001b[0;32m--> 211\u001b[0;31m             \u001b[0mresponse\u001b[0m \u001b[0;34m=\u001b[0m \u001b[0mhandler\u001b[0m\u001b[0;34m(\u001b[0m\u001b[0;34m**\u001b[0m\u001b[0mkwargs\u001b[0m\u001b[0;34m)\u001b[0m\u001b[0;34m\u001b[0m\u001b[0;34m\u001b[0m\u001b[0m\n\u001b[0m\u001b[1;32m    212\u001b[0m             \u001b[0mresponses\u001b[0m\u001b[0;34m.\u001b[0m\u001b[0mappend\u001b[0m\u001b[0;34m(\u001b[0m\u001b[0;34m(\u001b[0m\u001b[0mhandler\u001b[0m\u001b[0;34m,\u001b[0m \u001b[0mresponse\u001b[0m\u001b[0;34m)\u001b[0m\u001b[0;34m)\u001b[0m\u001b[0;34m\u001b[0m\u001b[0;34m\u001b[0m\u001b[0m\n\u001b[1;32m    213\u001b[0m             \u001b[0;32mif\u001b[0m \u001b[0mstop_on_response\u001b[0m \u001b[0;32mand\u001b[0m \u001b[0mresponse\u001b[0m \u001b[0;32mis\u001b[0m \u001b[0;32mnot\u001b[0m \u001b[0;32mNone\u001b[0m\u001b[0;34m:\u001b[0m\u001b[0;34m\u001b[0m\u001b[0;34m\u001b[0m\u001b[0m\n",
      "\u001b[0;32m~/opt/anaconda3/envs/jpx_env/lib/python3.6/site-packages/botocore/signers.py\u001b[0m in \u001b[0;36mhandler\u001b[0;34m(self, operation_name, request, **kwargs)\u001b[0m\n\u001b[1;32m     88\u001b[0m         \u001b[0;31m# this method is invoked to sign the request.\u001b[0m\u001b[0;34m\u001b[0m\u001b[0;34m\u001b[0m\u001b[0;34m\u001b[0m\u001b[0m\n\u001b[1;32m     89\u001b[0m         \u001b[0;31m# Don't call this method directly.\u001b[0m\u001b[0;34m\u001b[0m\u001b[0;34m\u001b[0m\u001b[0;34m\u001b[0m\u001b[0m\n\u001b[0;32m---> 90\u001b[0;31m         \u001b[0;32mreturn\u001b[0m \u001b[0mself\u001b[0m\u001b[0;34m.\u001b[0m\u001b[0msign\u001b[0m\u001b[0;34m(\u001b[0m\u001b[0moperation_name\u001b[0m\u001b[0;34m,\u001b[0m \u001b[0mrequest\u001b[0m\u001b[0;34m)\u001b[0m\u001b[0;34m\u001b[0m\u001b[0;34m\u001b[0m\u001b[0m\n\u001b[0m\u001b[1;32m     91\u001b[0m \u001b[0;34m\u001b[0m\u001b[0m\n\u001b[1;32m     92\u001b[0m     def sign(self, operation_name, request, region_name=None,\n",
      "\u001b[0;32m~/opt/anaconda3/envs/jpx_env/lib/python3.6/site-packages/botocore/signers.py\u001b[0m in \u001b[0;36msign\u001b[0;34m(self, operation_name, request, region_name, signing_type, expires_in, signing_name)\u001b[0m\n\u001b[1;32m    160\u001b[0m                     \u001b[0;32mraise\u001b[0m \u001b[0me\u001b[0m\u001b[0;34m\u001b[0m\u001b[0;34m\u001b[0m\u001b[0m\n\u001b[1;32m    161\u001b[0m \u001b[0;34m\u001b[0m\u001b[0m\n\u001b[0;32m--> 162\u001b[0;31m             \u001b[0mauth\u001b[0m\u001b[0;34m.\u001b[0m\u001b[0madd_auth\u001b[0m\u001b[0;34m(\u001b[0m\u001b[0mrequest\u001b[0m\u001b[0;34m)\u001b[0m\u001b[0;34m\u001b[0m\u001b[0;34m\u001b[0m\u001b[0m\n\u001b[0m\u001b[1;32m    163\u001b[0m \u001b[0;34m\u001b[0m\u001b[0m\n\u001b[1;32m    164\u001b[0m     \u001b[0;32mdef\u001b[0m \u001b[0m_choose_signer\u001b[0m\u001b[0;34m(\u001b[0m\u001b[0mself\u001b[0m\u001b[0;34m,\u001b[0m \u001b[0moperation_name\u001b[0m\u001b[0;34m,\u001b[0m \u001b[0msigning_type\u001b[0m\u001b[0;34m,\u001b[0m \u001b[0mcontext\u001b[0m\u001b[0;34m)\u001b[0m\u001b[0;34m:\u001b[0m\u001b[0;34m\u001b[0m\u001b[0;34m\u001b[0m\u001b[0m\n",
      "\u001b[0;32m~/opt/anaconda3/envs/jpx_env/lib/python3.6/site-packages/botocore/auth.py\u001b[0m in \u001b[0;36madd_auth\u001b[0;34m(self, request)\u001b[0m\n\u001b[1;32m    355\u001b[0m     \u001b[0;32mdef\u001b[0m \u001b[0madd_auth\u001b[0m\u001b[0;34m(\u001b[0m\u001b[0mself\u001b[0m\u001b[0;34m,\u001b[0m \u001b[0mrequest\u001b[0m\u001b[0;34m)\u001b[0m\u001b[0;34m:\u001b[0m\u001b[0;34m\u001b[0m\u001b[0;34m\u001b[0m\u001b[0m\n\u001b[1;32m    356\u001b[0m         \u001b[0;32mif\u001b[0m \u001b[0mself\u001b[0m\u001b[0;34m.\u001b[0m\u001b[0mcredentials\u001b[0m \u001b[0;32mis\u001b[0m \u001b[0;32mNone\u001b[0m\u001b[0;34m:\u001b[0m\u001b[0;34m\u001b[0m\u001b[0;34m\u001b[0m\u001b[0m\n\u001b[0;32m--> 357\u001b[0;31m             \u001b[0;32mraise\u001b[0m \u001b[0mNoCredentialsError\u001b[0m\u001b[0;34m\u001b[0m\u001b[0;34m\u001b[0m\u001b[0m\n\u001b[0m\u001b[1;32m    358\u001b[0m         \u001b[0mdatetime_now\u001b[0m \u001b[0;34m=\u001b[0m \u001b[0mdatetime\u001b[0m\u001b[0;34m.\u001b[0m\u001b[0mdatetime\u001b[0m\u001b[0;34m.\u001b[0m\u001b[0mutcnow\u001b[0m\u001b[0;34m(\u001b[0m\u001b[0;34m)\u001b[0m\u001b[0;34m\u001b[0m\u001b[0;34m\u001b[0m\u001b[0m\n\u001b[1;32m    359\u001b[0m         \u001b[0mrequest\u001b[0m\u001b[0;34m.\u001b[0m\u001b[0mcontext\u001b[0m\u001b[0;34m[\u001b[0m\u001b[0;34m'timestamp'\u001b[0m\u001b[0;34m]\u001b[0m \u001b[0;34m=\u001b[0m \u001b[0mdatetime_now\u001b[0m\u001b[0;34m.\u001b[0m\u001b[0mstrftime\u001b[0m\u001b[0;34m(\u001b[0m\u001b[0mSIGV4_TIMESTAMP\u001b[0m\u001b[0;34m)\u001b[0m\u001b[0;34m\u001b[0m\u001b[0;34m\u001b[0m\u001b[0m\n",
      "\u001b[0;31mNoCredentialsError\u001b[0m: Unable to locate credentials"
     ]
    }
   ],
   "source": [
    "obj = client.get_object(Bucket='jpx-future-bucket', Key='完成データ/先物2021-1-15.xlsx')\n",
    "obj"
   ]
  },
  {
   "cell_type": "code",
   "execution_count": 11,
   "metadata": {},
   "outputs": [
    {
     "output_type": "error",
     "ename": "NameError",
     "evalue": "name 'obj' is not defined",
     "traceback": [
      "\u001b[0;31m---------------------------------------------------------------------------\u001b[0m",
      "\u001b[0;31mNameError\u001b[0m                                 Traceback (most recent call last)",
      "\u001b[0;32m<ipython-input-11-212c0e7c75f3>\u001b[0m in \u001b[0;36m<module>\u001b[0;34m\u001b[0m\n\u001b[0;32m----> 1\u001b[0;31m \u001b[0mdf\u001b[0m \u001b[0;34m=\u001b[0m \u001b[0mpd\u001b[0m\u001b[0;34m.\u001b[0m\u001b[0mread_excel\u001b[0m\u001b[0;34m(\u001b[0m\u001b[0mobj\u001b[0m\u001b[0;34m[\u001b[0m\u001b[0;34m'Body'\u001b[0m\u001b[0;34m]\u001b[0m\u001b[0;34m)\u001b[0m\u001b[0;34m\u001b[0m\u001b[0;34m\u001b[0m\u001b[0m\n\u001b[0m",
      "\u001b[0;31mNameError\u001b[0m: name 'obj' is not defined"
     ]
    }
   ],
   "source": [
    "df = pd.read_excel(obj['Body'])"
   ]
  },
  {
   "cell_type": "code",
   "execution_count": 10,
   "metadata": {},
   "outputs": [],
   "source": [
    "df = pd.read_excel(path, header=1)"
   ]
  },
  {
   "cell_type": "code",
   "execution_count": 11,
   "metadata": {},
   "outputs": [
    {
     "output_type": "execute_result",
     "data": {
      "text/plain": [
       "          売り買い       売り       買い      差引   売り.1   買い.1   差引.1     売り.2  \\\n",
       "0        取引参加者      NaN      NaN     NaN    NaN    NaN    NaN      NaN   \n",
       "1       BofA証券   1691.0    944.0  -747.0    NaN    NaN    NaN   1691.0   \n",
       "2        みずほ証券   2003.0    496.0 -1507.0    NaN    NaN    NaN   2003.0   \n",
       "3   クレディ・スイス証券    792.0    595.0  -197.0    NaN    NaN    NaN    792.0   \n",
       "4   ゴールドマンサックス   3515.0   1786.0 -1729.0    NaN    NaN    NaN   3515.0   \n",
       "5    シティグループ証券   2495.0      NaN     NaN    NaN    NaN    NaN   2495.0   \n",
       "6   ソシエテ・ジェネラル  11826.0  13615.0  1789.0  103.0   73.0  -30.0  11929.0   \n",
       "7        ドイツ証券    193.0      NaN     NaN    NaN    NaN    NaN    193.0   \n",
       "8     バークレイズ証券    530.0    825.0   295.0    NaN    NaN    NaN    530.0   \n",
       "9      マネックス証券     46.0    226.0   180.0    4.0   13.0    9.0     50.0   \n",
       "10   モルガンスタンレー   1463.0   1523.0    60.0    NaN    NaN    NaN   1463.0   \n",
       "11   三菱ＵＦＪモルガン      NaN    770.0     NaN    NaN    NaN    NaN      0.0   \n",
       "12        光世証券      NaN      NaN     NaN    1.0    NaN    NaN      1.0   \n",
       "13        大和証券    284.0      NaN     NaN    NaN    NaN    NaN    284.0   \n",
       "14        岡三証券      NaN      NaN     NaN    2.0    2.0    0.0      2.0   \n",
       "15     岩井コスモ証券      NaN      NaN     NaN    NaN    1.0    NaN      0.0   \n",
       "16        日産証券    570.0    855.0   285.0    9.0    2.0   -7.0    579.0   \n",
       "17        松井証券    553.0    746.0   193.0   23.0    5.0  -18.0    576.0   \n",
       "18        楽天証券    733.0    820.0    87.0    4.0    9.0    5.0    737.0   \n",
       "19        野村證券   2572.0   3388.0   816.0    NaN    NaN    NaN   2572.0   \n",
       "20   ＡＢＮアムロクリア  17512.0  18388.0   876.0   30.0  356.0  326.0  17542.0   \n",
       "21    ＢＮＰパリバ証券    300.0    297.0    -3.0    NaN    NaN    NaN    300.0   \n",
       "22   ＧＭＯクリック証券     34.0    203.0   169.0    2.0    2.0    0.0     36.0   \n",
       "23    ＪＰモルガン証券   2115.0   1222.0  -893.0    NaN    NaN    NaN   2115.0   \n",
       "24   ＳＢＩネオトレード      NaN      NaN     NaN    3.0    3.0    0.0      3.0   \n",
       "25       ＳＢＩ証券   2123.0   3049.0   926.0    6.0    9.0    3.0   2129.0   \n",
       "26    ＳＭＢＣ日興証券    312.0      NaN     NaN    NaN    1.0    NaN    312.0   \n",
       "27       ＵＢＳ証券      NaN    796.0     NaN    NaN    NaN    NaN      0.0   \n",
       "28    ａｕカブコム証券    267.0    327.0    60.0    9.0   12.0    3.0    276.0   \n",
       "29         総合計  51929.0  50871.0   660.0  196.0  488.0  291.0  52125.0   \n",
       "\n",
       "       買い.2    差引.2  \n",
       "0       NaN     NaN  \n",
       "1     944.0  -747.0  \n",
       "2     496.0 -1507.0  \n",
       "3     595.0  -197.0  \n",
       "4    1786.0 -1729.0  \n",
       "5       0.0     0.0  \n",
       "6   13688.0  1759.0  \n",
       "7       0.0     0.0  \n",
       "8     825.0   295.0  \n",
       "9     239.0   189.0  \n",
       "10   1523.0    60.0  \n",
       "11    770.0     0.0  \n",
       "12      0.0     0.0  \n",
       "13      0.0     0.0  \n",
       "14      2.0     0.0  \n",
       "15      1.0     0.0  \n",
       "16    857.0   278.0  \n",
       "17    751.0   175.0  \n",
       "18    829.0    92.0  \n",
       "19   3388.0   816.0  \n",
       "20  18744.0  1202.0  \n",
       "21    297.0    -3.0  \n",
       "22    205.0   169.0  \n",
       "23   1222.0  -893.0  \n",
       "24      3.0     0.0  \n",
       "25   3058.0   929.0  \n",
       "26      1.0     0.0  \n",
       "27    796.0     0.0  \n",
       "28    339.0    63.0  \n",
       "29  51359.0   951.0  "
      ],
      "text/html": "<div>\n<style scoped>\n    .dataframe tbody tr th:only-of-type {\n        vertical-align: middle;\n    }\n\n    .dataframe tbody tr th {\n        vertical-align: top;\n    }\n\n    .dataframe thead th {\n        text-align: right;\n    }\n</style>\n<table border=\"1\" class=\"dataframe\">\n  <thead>\n    <tr style=\"text-align: right;\">\n      <th></th>\n      <th>売り買い</th>\n      <th>売り</th>\n      <th>買い</th>\n      <th>差引</th>\n      <th>売り.1</th>\n      <th>買い.1</th>\n      <th>差引.1</th>\n      <th>売り.2</th>\n      <th>買い.2</th>\n      <th>差引.2</th>\n    </tr>\n  </thead>\n  <tbody>\n    <tr>\n      <th>0</th>\n      <td>取引参加者</td>\n      <td>NaN</td>\n      <td>NaN</td>\n      <td>NaN</td>\n      <td>NaN</td>\n      <td>NaN</td>\n      <td>NaN</td>\n      <td>NaN</td>\n      <td>NaN</td>\n      <td>NaN</td>\n    </tr>\n    <tr>\n      <th>1</th>\n      <td>BofA証券</td>\n      <td>1691.0</td>\n      <td>944.0</td>\n      <td>-747.0</td>\n      <td>NaN</td>\n      <td>NaN</td>\n      <td>NaN</td>\n      <td>1691.0</td>\n      <td>944.0</td>\n      <td>-747.0</td>\n    </tr>\n    <tr>\n      <th>2</th>\n      <td>みずほ証券</td>\n      <td>2003.0</td>\n      <td>496.0</td>\n      <td>-1507.0</td>\n      <td>NaN</td>\n      <td>NaN</td>\n      <td>NaN</td>\n      <td>2003.0</td>\n      <td>496.0</td>\n      <td>-1507.0</td>\n    </tr>\n    <tr>\n      <th>3</th>\n      <td>クレディ・スイス証券</td>\n      <td>792.0</td>\n      <td>595.0</td>\n      <td>-197.0</td>\n      <td>NaN</td>\n      <td>NaN</td>\n      <td>NaN</td>\n      <td>792.0</td>\n      <td>595.0</td>\n      <td>-197.0</td>\n    </tr>\n    <tr>\n      <th>4</th>\n      <td>ゴールドマンサックス</td>\n      <td>3515.0</td>\n      <td>1786.0</td>\n      <td>-1729.0</td>\n      <td>NaN</td>\n      <td>NaN</td>\n      <td>NaN</td>\n      <td>3515.0</td>\n      <td>1786.0</td>\n      <td>-1729.0</td>\n    </tr>\n    <tr>\n      <th>5</th>\n      <td>シティグループ証券</td>\n      <td>2495.0</td>\n      <td>NaN</td>\n      <td>NaN</td>\n      <td>NaN</td>\n      <td>NaN</td>\n      <td>NaN</td>\n      <td>2495.0</td>\n      <td>0.0</td>\n      <td>0.0</td>\n    </tr>\n    <tr>\n      <th>6</th>\n      <td>ソシエテ・ジェネラル</td>\n      <td>11826.0</td>\n      <td>13615.0</td>\n      <td>1789.0</td>\n      <td>103.0</td>\n      <td>73.0</td>\n      <td>-30.0</td>\n      <td>11929.0</td>\n      <td>13688.0</td>\n      <td>1759.0</td>\n    </tr>\n    <tr>\n      <th>7</th>\n      <td>ドイツ証券</td>\n      <td>193.0</td>\n      <td>NaN</td>\n      <td>NaN</td>\n      <td>NaN</td>\n      <td>NaN</td>\n      <td>NaN</td>\n      <td>193.0</td>\n      <td>0.0</td>\n      <td>0.0</td>\n    </tr>\n    <tr>\n      <th>8</th>\n      <td>バークレイズ証券</td>\n      <td>530.0</td>\n      <td>825.0</td>\n      <td>295.0</td>\n      <td>NaN</td>\n      <td>NaN</td>\n      <td>NaN</td>\n      <td>530.0</td>\n      <td>825.0</td>\n      <td>295.0</td>\n    </tr>\n    <tr>\n      <th>9</th>\n      <td>マネックス証券</td>\n      <td>46.0</td>\n      <td>226.0</td>\n      <td>180.0</td>\n      <td>4.0</td>\n      <td>13.0</td>\n      <td>9.0</td>\n      <td>50.0</td>\n      <td>239.0</td>\n      <td>189.0</td>\n    </tr>\n    <tr>\n      <th>10</th>\n      <td>モルガンスタンレー</td>\n      <td>1463.0</td>\n      <td>1523.0</td>\n      <td>60.0</td>\n      <td>NaN</td>\n      <td>NaN</td>\n      <td>NaN</td>\n      <td>1463.0</td>\n      <td>1523.0</td>\n      <td>60.0</td>\n    </tr>\n    <tr>\n      <th>11</th>\n      <td>三菱ＵＦＪモルガン</td>\n      <td>NaN</td>\n      <td>770.0</td>\n      <td>NaN</td>\n      <td>NaN</td>\n      <td>NaN</td>\n      <td>NaN</td>\n      <td>0.0</td>\n      <td>770.0</td>\n      <td>0.0</td>\n    </tr>\n    <tr>\n      <th>12</th>\n      <td>光世証券</td>\n      <td>NaN</td>\n      <td>NaN</td>\n      <td>NaN</td>\n      <td>1.0</td>\n      <td>NaN</td>\n      <td>NaN</td>\n      <td>1.0</td>\n      <td>0.0</td>\n      <td>0.0</td>\n    </tr>\n    <tr>\n      <th>13</th>\n      <td>大和証券</td>\n      <td>284.0</td>\n      <td>NaN</td>\n      <td>NaN</td>\n      <td>NaN</td>\n      <td>NaN</td>\n      <td>NaN</td>\n      <td>284.0</td>\n      <td>0.0</td>\n      <td>0.0</td>\n    </tr>\n    <tr>\n      <th>14</th>\n      <td>岡三証券</td>\n      <td>NaN</td>\n      <td>NaN</td>\n      <td>NaN</td>\n      <td>2.0</td>\n      <td>2.0</td>\n      <td>0.0</td>\n      <td>2.0</td>\n      <td>2.0</td>\n      <td>0.0</td>\n    </tr>\n    <tr>\n      <th>15</th>\n      <td>岩井コスモ証券</td>\n      <td>NaN</td>\n      <td>NaN</td>\n      <td>NaN</td>\n      <td>NaN</td>\n      <td>1.0</td>\n      <td>NaN</td>\n      <td>0.0</td>\n      <td>1.0</td>\n      <td>0.0</td>\n    </tr>\n    <tr>\n      <th>16</th>\n      <td>日産証券</td>\n      <td>570.0</td>\n      <td>855.0</td>\n      <td>285.0</td>\n      <td>9.0</td>\n      <td>2.0</td>\n      <td>-7.0</td>\n      <td>579.0</td>\n      <td>857.0</td>\n      <td>278.0</td>\n    </tr>\n    <tr>\n      <th>17</th>\n      <td>松井証券</td>\n      <td>553.0</td>\n      <td>746.0</td>\n      <td>193.0</td>\n      <td>23.0</td>\n      <td>5.0</td>\n      <td>-18.0</td>\n      <td>576.0</td>\n      <td>751.0</td>\n      <td>175.0</td>\n    </tr>\n    <tr>\n      <th>18</th>\n      <td>楽天証券</td>\n      <td>733.0</td>\n      <td>820.0</td>\n      <td>87.0</td>\n      <td>4.0</td>\n      <td>9.0</td>\n      <td>5.0</td>\n      <td>737.0</td>\n      <td>829.0</td>\n      <td>92.0</td>\n    </tr>\n    <tr>\n      <th>19</th>\n      <td>野村證券</td>\n      <td>2572.0</td>\n      <td>3388.0</td>\n      <td>816.0</td>\n      <td>NaN</td>\n      <td>NaN</td>\n      <td>NaN</td>\n      <td>2572.0</td>\n      <td>3388.0</td>\n      <td>816.0</td>\n    </tr>\n    <tr>\n      <th>20</th>\n      <td>ＡＢＮアムロクリア</td>\n      <td>17512.0</td>\n      <td>18388.0</td>\n      <td>876.0</td>\n      <td>30.0</td>\n      <td>356.0</td>\n      <td>326.0</td>\n      <td>17542.0</td>\n      <td>18744.0</td>\n      <td>1202.0</td>\n    </tr>\n    <tr>\n      <th>21</th>\n      <td>ＢＮＰパリバ証券</td>\n      <td>300.0</td>\n      <td>297.0</td>\n      <td>-3.0</td>\n      <td>NaN</td>\n      <td>NaN</td>\n      <td>NaN</td>\n      <td>300.0</td>\n      <td>297.0</td>\n      <td>-3.0</td>\n    </tr>\n    <tr>\n      <th>22</th>\n      <td>ＧＭＯクリック証券</td>\n      <td>34.0</td>\n      <td>203.0</td>\n      <td>169.0</td>\n      <td>2.0</td>\n      <td>2.0</td>\n      <td>0.0</td>\n      <td>36.0</td>\n      <td>205.0</td>\n      <td>169.0</td>\n    </tr>\n    <tr>\n      <th>23</th>\n      <td>ＪＰモルガン証券</td>\n      <td>2115.0</td>\n      <td>1222.0</td>\n      <td>-893.0</td>\n      <td>NaN</td>\n      <td>NaN</td>\n      <td>NaN</td>\n      <td>2115.0</td>\n      <td>1222.0</td>\n      <td>-893.0</td>\n    </tr>\n    <tr>\n      <th>24</th>\n      <td>ＳＢＩネオトレード</td>\n      <td>NaN</td>\n      <td>NaN</td>\n      <td>NaN</td>\n      <td>3.0</td>\n      <td>3.0</td>\n      <td>0.0</td>\n      <td>3.0</td>\n      <td>3.0</td>\n      <td>0.0</td>\n    </tr>\n    <tr>\n      <th>25</th>\n      <td>ＳＢＩ証券</td>\n      <td>2123.0</td>\n      <td>3049.0</td>\n      <td>926.0</td>\n      <td>6.0</td>\n      <td>9.0</td>\n      <td>3.0</td>\n      <td>2129.0</td>\n      <td>3058.0</td>\n      <td>929.0</td>\n    </tr>\n    <tr>\n      <th>26</th>\n      <td>ＳＭＢＣ日興証券</td>\n      <td>312.0</td>\n      <td>NaN</td>\n      <td>NaN</td>\n      <td>NaN</td>\n      <td>1.0</td>\n      <td>NaN</td>\n      <td>312.0</td>\n      <td>1.0</td>\n      <td>0.0</td>\n    </tr>\n    <tr>\n      <th>27</th>\n      <td>ＵＢＳ証券</td>\n      <td>NaN</td>\n      <td>796.0</td>\n      <td>NaN</td>\n      <td>NaN</td>\n      <td>NaN</td>\n      <td>NaN</td>\n      <td>0.0</td>\n      <td>796.0</td>\n      <td>0.0</td>\n    </tr>\n    <tr>\n      <th>28</th>\n      <td>ａｕカブコム証券</td>\n      <td>267.0</td>\n      <td>327.0</td>\n      <td>60.0</td>\n      <td>9.0</td>\n      <td>12.0</td>\n      <td>3.0</td>\n      <td>276.0</td>\n      <td>339.0</td>\n      <td>63.0</td>\n    </tr>\n    <tr>\n      <th>29</th>\n      <td>総合計</td>\n      <td>51929.0</td>\n      <td>50871.0</td>\n      <td>660.0</td>\n      <td>196.0</td>\n      <td>488.0</td>\n      <td>291.0</td>\n      <td>52125.0</td>\n      <td>51359.0</td>\n      <td>951.0</td>\n    </tr>\n  </tbody>\n</table>\n</div>"
     },
     "metadata": {},
     "execution_count": 11
    }
   ],
   "source": [
    "df"
   ]
  },
  {
   "cell_type": "code",
   "execution_count": null,
   "metadata": {},
   "outputs": [],
   "source": []
  }
 ]
}