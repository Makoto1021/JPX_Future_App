{
 "metadata": {
  "language_info": {
   "codemirror_mode": {
    "name": "ipython",
    "version": 3
   },
   "file_extension": ".py",
   "mimetype": "text/x-python",
   "name": "python",
   "nbconvert_exporter": "python",
   "pygments_lexer": "ipython3",
   "version": "3.6.10-final"
  },
  "orig_nbformat": 2,
  "kernelspec": {
   "name": "python3",
   "display_name": "Python 3.6.10 64-bit ('jpx_env': conda)",
   "metadata": {
    "interpreter": {
     "hash": "2e2390cd2c647d87e0c3f987ee04f9ab870c7ed9ffd5665fe27f3c2d915d739d"
    }
   }
  }
 },
 "nbformat": 4,
 "nbformat_minor": 2,
 "cells": [
  {
   "cell_type": "code",
   "execution_count": 24,
   "metadata": {},
   "outputs": [],
   "source": [
    "import pandas as pd\n",
    "import os\n",
    "from datetime import datetime as dt\n",
    "from datetime import timedelta\n",
    "import numpy as np"
   ]
  },
  {
   "cell_type": "code",
   "execution_count": 14,
   "metadata": {},
   "outputs": [],
   "source": [
    "day = dt.today() - timedelta(days=1)\n",
    "dirname = os.getcwd()\n",
    "filename = '完成データ/' + '先物' + str(day.year) +\"-\"+ str(day.month) +\"-\"+ str(day.day) + \".xlsx\"\n",
    "SAVED_DATA = os.path.join(dirname, filename)\n",
    "df = pd.read_excel(SAVED_DATA, header=1)"
   ]
  },
  {
   "cell_type": "code",
   "execution_count": 15,
   "metadata": {},
   "outputs": [
    {
     "output_type": "execute_result",
     "data": {
      "text/plain": [
       "         売り買い      売り      買い      差引  売り.1  買い.1  差引.1    売り.2    買い.2  \\\n",
       "0       取引参加者     NaN     NaN     NaN   NaN   NaN   NaN     NaN     NaN   \n",
       "1      BofA証券  1691.0   944.0  -747.0   NaN   NaN   NaN  1691.0   944.0   \n",
       "2       みずほ証券  2003.0   496.0 -1507.0   NaN   NaN   NaN  2003.0   496.0   \n",
       "3  クレディ・スイス証券   792.0   595.0  -197.0   NaN   NaN   NaN   792.0   595.0   \n",
       "4  ゴールドマンサックス  3515.0  1786.0 -1729.0   NaN   NaN   NaN  3515.0  1786.0   \n",
       "\n",
       "     差引.2  \n",
       "0     NaN  \n",
       "1  -747.0  \n",
       "2 -1507.0  \n",
       "3  -197.0  \n",
       "4 -1729.0  "
      ],
      "text/html": "<div>\n<style scoped>\n    .dataframe tbody tr th:only-of-type {\n        vertical-align: middle;\n    }\n\n    .dataframe tbody tr th {\n        vertical-align: top;\n    }\n\n    .dataframe thead th {\n        text-align: right;\n    }\n</style>\n<table border=\"1\" class=\"dataframe\">\n  <thead>\n    <tr style=\"text-align: right;\">\n      <th></th>\n      <th>売り買い</th>\n      <th>売り</th>\n      <th>買い</th>\n      <th>差引</th>\n      <th>売り.1</th>\n      <th>買い.1</th>\n      <th>差引.1</th>\n      <th>売り.2</th>\n      <th>買い.2</th>\n      <th>差引.2</th>\n    </tr>\n  </thead>\n  <tbody>\n    <tr>\n      <td>0</td>\n      <td>取引参加者</td>\n      <td>NaN</td>\n      <td>NaN</td>\n      <td>NaN</td>\n      <td>NaN</td>\n      <td>NaN</td>\n      <td>NaN</td>\n      <td>NaN</td>\n      <td>NaN</td>\n      <td>NaN</td>\n    </tr>\n    <tr>\n      <td>1</td>\n      <td>BofA証券</td>\n      <td>1691.0</td>\n      <td>944.0</td>\n      <td>-747.0</td>\n      <td>NaN</td>\n      <td>NaN</td>\n      <td>NaN</td>\n      <td>1691.0</td>\n      <td>944.0</td>\n      <td>-747.0</td>\n    </tr>\n    <tr>\n      <td>2</td>\n      <td>みずほ証券</td>\n      <td>2003.0</td>\n      <td>496.0</td>\n      <td>-1507.0</td>\n      <td>NaN</td>\n      <td>NaN</td>\n      <td>NaN</td>\n      <td>2003.0</td>\n      <td>496.0</td>\n      <td>-1507.0</td>\n    </tr>\n    <tr>\n      <td>3</td>\n      <td>クレディ・スイス証券</td>\n      <td>792.0</td>\n      <td>595.0</td>\n      <td>-197.0</td>\n      <td>NaN</td>\n      <td>NaN</td>\n      <td>NaN</td>\n      <td>792.0</td>\n      <td>595.0</td>\n      <td>-197.0</td>\n    </tr>\n    <tr>\n      <td>4</td>\n      <td>ゴールドマンサックス</td>\n      <td>3515.0</td>\n      <td>1786.0</td>\n      <td>-1729.0</td>\n      <td>NaN</td>\n      <td>NaN</td>\n      <td>NaN</td>\n      <td>3515.0</td>\n      <td>1786.0</td>\n      <td>-1729.0</td>\n    </tr>\n  </tbody>\n</table>\n</div>"
     },
     "metadata": {},
     "execution_count": 15
    }
   ],
   "source": [
    "df.head()"
   ]
  },
  {
   "cell_type": "code",
   "execution_count": 16,
   "metadata": {},
   "outputs": [
    {
     "output_type": "execute_result",
     "data": {
      "text/plain": [
       "   Rank       State Postal  Population\n",
       "0     1     Alabama     AL   4849377.0\n",
       "1     2      Alaska     AK    736732.0\n",
       "2     3     Arizona     AZ   6731484.0\n",
       "3     4    Arkansas     AR   2966369.0\n",
       "4     5  California     CA  38802500.0"
      ],
      "text/html": "<div>\n<style scoped>\n    .dataframe tbody tr th:only-of-type {\n        vertical-align: middle;\n    }\n\n    .dataframe tbody tr th {\n        vertical-align: top;\n    }\n\n    .dataframe thead th {\n        text-align: right;\n    }\n</style>\n<table border=\"1\" class=\"dataframe\">\n  <thead>\n    <tr style=\"text-align: right;\">\n      <th></th>\n      <th>Rank</th>\n      <th>State</th>\n      <th>Postal</th>\n      <th>Population</th>\n    </tr>\n  </thead>\n  <tbody>\n    <tr>\n      <td>0</td>\n      <td>1</td>\n      <td>Alabama</td>\n      <td>AL</td>\n      <td>4849377.0</td>\n    </tr>\n    <tr>\n      <td>1</td>\n      <td>2</td>\n      <td>Alaska</td>\n      <td>AK</td>\n      <td>736732.0</td>\n    </tr>\n    <tr>\n      <td>2</td>\n      <td>3</td>\n      <td>Arizona</td>\n      <td>AZ</td>\n      <td>6731484.0</td>\n    </tr>\n    <tr>\n      <td>3</td>\n      <td>4</td>\n      <td>Arkansas</td>\n      <td>AR</td>\n      <td>2966369.0</td>\n    </tr>\n    <tr>\n      <td>4</td>\n      <td>5</td>\n      <td>California</td>\n      <td>CA</td>\n      <td>38802500.0</td>\n    </tr>\n  </tbody>\n</table>\n</div>"
     },
     "metadata": {},
     "execution_count": 16
    }
   ],
   "source": [
    "data_url = 'https://raw.githubusercontent.com/plotly/datasets/master/2014_usa_states.csv'\n",
    "df_url = pd.read_csv(data_url)\n",
    "df_url.head()"
   ]
  },
  {
   "cell_type": "code",
   "execution_count": 17,
   "metadata": {},
   "outputs": [
    {
     "output_type": "execute_result",
     "data": {
      "text/plain": [
       "[{'name': 'Rank', 'id': 'Rank'},\n",
       " {'name': 'State', 'id': 'State'},\n",
       " {'name': 'Postal', 'id': 'Postal'},\n",
       " {'name': 'Population', 'id': 'Population'}]"
      ]
     },
     "metadata": {},
     "execution_count": 17
    }
   ],
   "source": [
    "[{\"name\": i, \"id\": i}  for i in df_url.columns]"
   ]
  },
  {
   "cell_type": "code",
   "execution_count": 26,
   "metadata": {},
   "outputs": [
    {
     "output_type": "error",
     "ename": "AttributeError",
     "evalue": "'numpy.ndarray' object has no attribute 'delete'",
     "traceback": [
      "\u001b[0;31m---------------------------------------------------------------------------\u001b[0m",
      "\u001b[0;31mAttributeError\u001b[0m                            Traceback (most recent call last)",
      "\u001b[0;32m<ipython-input-26-c2c8b0cf1c63>\u001b[0m in \u001b[0;36m<module>\u001b[0;34m\u001b[0m\n\u001b[0;32m----> 1\u001b[0;31m \u001b[0marr\u001b[0m\u001b[0;34m=\u001b[0m\u001b[0mdf\u001b[0m\u001b[0;34m[\u001b[0m\u001b[0mdf\u001b[0m\u001b[0;34m[\u001b[0m\u001b[0;34m\"売り買い\"\u001b[0m\u001b[0;34m]\u001b[0m\u001b[0;34m==\u001b[0m\u001b[0;34m\"BofA証券\"\u001b[0m\u001b[0;34m]\u001b[0m\u001b[0;34m.\u001b[0m\u001b[0mvalues\u001b[0m\u001b[0;34m.\u001b[0m\u001b[0mdelete\u001b[0m\u001b[0;34m(\u001b[0m\u001b[0;36m0\u001b[0m\u001b[0;34m)\u001b[0m\u001b[0;34m\u001b[0m\u001b[0;34m\u001b[0m\u001b[0m\n\u001b[0m\u001b[1;32m      2\u001b[0m \u001b[0mnp\u001b[0m\u001b[0;34m.\u001b[0m\u001b[0mdelete\u001b[0m\u001b[0;34m(\u001b[0m\u001b[0marr\u001b[0m\u001b[0;34m,\u001b[0m \u001b[0;36m0\u001b[0m\u001b[0;34m)\u001b[0m\u001b[0;34m\u001b[0m\u001b[0;34m\u001b[0m\u001b[0m\n",
      "\u001b[0;31mAttributeError\u001b[0m: 'numpy.ndarray' object has no attribute 'delete'"
     ]
    }
   ],
   "source": [
    "arr=df[df[\"売り買い\"]==\"BofA証券\"].values\n",
    "np.delete(arr, 0)"
   ]
  },
  {
   "cell_type": "code",
   "execution_count": null,
   "metadata": {},
   "outputs": [],
   "source": [
    "x = [\"第１限月　売り\", \"第１限月　買い\", \"第２限月　売り\", \"第２限月　買い\", \"第３限月　売り\", \"第３限月　買い\",]\n",
    "needed_list = [{'x': x, 'y': np.delete(df[df[\"売り買い\"]==i].values, 0), 'type': 'bar', 'name': i} for i in df[\"売り買い\"].unique()]"
   ]
  },
  {
   "cell_type": "code",
   "execution_count": 30,
   "metadata": {},
   "outputs": [
    {
     "output_type": "execute_result",
     "data": {
      "text/plain": [
       "          売り買い       売り       買い      差引   売り.1   買い.1   差引.1     売り.2  \\\n",
       "1       BofA証券   1691.0    944.0  -747.0    NaN    NaN    NaN   1691.0   \n",
       "2        みずほ証券   2003.0    496.0 -1507.0    NaN    NaN    NaN   2003.0   \n",
       "3   クレディ・スイス証券    792.0    595.0  -197.0    NaN    NaN    NaN    792.0   \n",
       "4   ゴールドマンサックス   3515.0   1786.0 -1729.0    NaN    NaN    NaN   3515.0   \n",
       "5    シティグループ証券   2495.0      NaN     NaN    NaN    NaN    NaN   2495.0   \n",
       "6   ソシエテ・ジェネラル  11826.0  13615.0  1789.0  103.0   73.0  -30.0  11929.0   \n",
       "7        ドイツ証券    193.0      NaN     NaN    NaN    NaN    NaN    193.0   \n",
       "8     バークレイズ証券    530.0    825.0   295.0    NaN    NaN    NaN    530.0   \n",
       "9      マネックス証券     46.0    226.0   180.0    4.0   13.0    9.0     50.0   \n",
       "10   モルガンスタンレー   1463.0   1523.0    60.0    NaN    NaN    NaN   1463.0   \n",
       "11   三菱ＵＦＪモルガン      NaN    770.0     NaN    NaN    NaN    NaN      0.0   \n",
       "12        光世証券      NaN      NaN     NaN    1.0    NaN    NaN      1.0   \n",
       "13        大和証券    284.0      NaN     NaN    NaN    NaN    NaN    284.0   \n",
       "14        岡三証券      NaN      NaN     NaN    2.0    2.0    0.0      2.0   \n",
       "15     岩井コスモ証券      NaN      NaN     NaN    NaN    1.0    NaN      0.0   \n",
       "16        日産証券    570.0    855.0   285.0    9.0    2.0   -7.0    579.0   \n",
       "17        松井証券    553.0    746.0   193.0   23.0    5.0  -18.0    576.0   \n",
       "18        楽天証券    733.0    820.0    87.0    4.0    9.0    5.0    737.0   \n",
       "19        野村證券   2572.0   3388.0   816.0    NaN    NaN    NaN   2572.0   \n",
       "20   ＡＢＮアムロクリア  17512.0  18388.0   876.0   30.0  356.0  326.0  17542.0   \n",
       "21    ＢＮＰパリバ証券    300.0    297.0    -3.0    NaN    NaN    NaN    300.0   \n",
       "22   ＧＭＯクリック証券     34.0    203.0   169.0    2.0    2.0    0.0     36.0   \n",
       "23    ＪＰモルガン証券   2115.0   1222.0  -893.0    NaN    NaN    NaN   2115.0   \n",
       "24   ＳＢＩネオトレード      NaN      NaN     NaN    3.0    3.0    0.0      3.0   \n",
       "25       ＳＢＩ証券   2123.0   3049.0   926.0    6.0    9.0    3.0   2129.0   \n",
       "26    ＳＭＢＣ日興証券    312.0      NaN     NaN    NaN    1.0    NaN    312.0   \n",
       "27       ＵＢＳ証券      NaN    796.0     NaN    NaN    NaN    NaN      0.0   \n",
       "28    ａｕカブコム証券    267.0    327.0    60.0    9.0   12.0    3.0    276.0   \n",
       "\n",
       "       買い.2    差引.2  \n",
       "1     944.0  -747.0  \n",
       "2     496.0 -1507.0  \n",
       "3     595.0  -197.0  \n",
       "4    1786.0 -1729.0  \n",
       "5       0.0     0.0  \n",
       "6   13688.0  1759.0  \n",
       "7       0.0     0.0  \n",
       "8     825.0   295.0  \n",
       "9     239.0   189.0  \n",
       "10   1523.0    60.0  \n",
       "11    770.0     0.0  \n",
       "12      0.0     0.0  \n",
       "13      0.0     0.0  \n",
       "14      2.0     0.0  \n",
       "15      1.0     0.0  \n",
       "16    857.0   278.0  \n",
       "17    751.0   175.0  \n",
       "18    829.0    92.0  \n",
       "19   3388.0   816.0  \n",
       "20  18744.0  1202.0  \n",
       "21    297.0    -3.0  \n",
       "22    205.0   169.0  \n",
       "23   1222.0  -893.0  \n",
       "24      3.0     0.0  \n",
       "25   3058.0   929.0  \n",
       "26      1.0     0.0  \n",
       "27    796.0     0.0  \n",
       "28    339.0    63.0  "
      ],
      "text/html": "<div>\n<style scoped>\n    .dataframe tbody tr th:only-of-type {\n        vertical-align: middle;\n    }\n\n    .dataframe tbody tr th {\n        vertical-align: top;\n    }\n\n    .dataframe thead th {\n        text-align: right;\n    }\n</style>\n<table border=\"1\" class=\"dataframe\">\n  <thead>\n    <tr style=\"text-align: right;\">\n      <th></th>\n      <th>売り買い</th>\n      <th>売り</th>\n      <th>買い</th>\n      <th>差引</th>\n      <th>売り.1</th>\n      <th>買い.1</th>\n      <th>差引.1</th>\n      <th>売り.2</th>\n      <th>買い.2</th>\n      <th>差引.2</th>\n    </tr>\n  </thead>\n  <tbody>\n    <tr>\n      <td>1</td>\n      <td>BofA証券</td>\n      <td>1691.0</td>\n      <td>944.0</td>\n      <td>-747.0</td>\n      <td>NaN</td>\n      <td>NaN</td>\n      <td>NaN</td>\n      <td>1691.0</td>\n      <td>944.0</td>\n      <td>-747.0</td>\n    </tr>\n    <tr>\n      <td>2</td>\n      <td>みずほ証券</td>\n      <td>2003.0</td>\n      <td>496.0</td>\n      <td>-1507.0</td>\n      <td>NaN</td>\n      <td>NaN</td>\n      <td>NaN</td>\n      <td>2003.0</td>\n      <td>496.0</td>\n      <td>-1507.0</td>\n    </tr>\n    <tr>\n      <td>3</td>\n      <td>クレディ・スイス証券</td>\n      <td>792.0</td>\n      <td>595.0</td>\n      <td>-197.0</td>\n      <td>NaN</td>\n      <td>NaN</td>\n      <td>NaN</td>\n      <td>792.0</td>\n      <td>595.0</td>\n      <td>-197.0</td>\n    </tr>\n    <tr>\n      <td>4</td>\n      <td>ゴールドマンサックス</td>\n      <td>3515.0</td>\n      <td>1786.0</td>\n      <td>-1729.0</td>\n      <td>NaN</td>\n      <td>NaN</td>\n      <td>NaN</td>\n      <td>3515.0</td>\n      <td>1786.0</td>\n      <td>-1729.0</td>\n    </tr>\n    <tr>\n      <td>5</td>\n      <td>シティグループ証券</td>\n      <td>2495.0</td>\n      <td>NaN</td>\n      <td>NaN</td>\n      <td>NaN</td>\n      <td>NaN</td>\n      <td>NaN</td>\n      <td>2495.0</td>\n      <td>0.0</td>\n      <td>0.0</td>\n    </tr>\n    <tr>\n      <td>6</td>\n      <td>ソシエテ・ジェネラル</td>\n      <td>11826.0</td>\n      <td>13615.0</td>\n      <td>1789.0</td>\n      <td>103.0</td>\n      <td>73.0</td>\n      <td>-30.0</td>\n      <td>11929.0</td>\n      <td>13688.0</td>\n      <td>1759.0</td>\n    </tr>\n    <tr>\n      <td>7</td>\n      <td>ドイツ証券</td>\n      <td>193.0</td>\n      <td>NaN</td>\n      <td>NaN</td>\n      <td>NaN</td>\n      <td>NaN</td>\n      <td>NaN</td>\n      <td>193.0</td>\n      <td>0.0</td>\n      <td>0.0</td>\n    </tr>\n    <tr>\n      <td>8</td>\n      <td>バークレイズ証券</td>\n      <td>530.0</td>\n      <td>825.0</td>\n      <td>295.0</td>\n      <td>NaN</td>\n      <td>NaN</td>\n      <td>NaN</td>\n      <td>530.0</td>\n      <td>825.0</td>\n      <td>295.0</td>\n    </tr>\n    <tr>\n      <td>9</td>\n      <td>マネックス証券</td>\n      <td>46.0</td>\n      <td>226.0</td>\n      <td>180.0</td>\n      <td>4.0</td>\n      <td>13.0</td>\n      <td>9.0</td>\n      <td>50.0</td>\n      <td>239.0</td>\n      <td>189.0</td>\n    </tr>\n    <tr>\n      <td>10</td>\n      <td>モルガンスタンレー</td>\n      <td>1463.0</td>\n      <td>1523.0</td>\n      <td>60.0</td>\n      <td>NaN</td>\n      <td>NaN</td>\n      <td>NaN</td>\n      <td>1463.0</td>\n      <td>1523.0</td>\n      <td>60.0</td>\n    </tr>\n    <tr>\n      <td>11</td>\n      <td>三菱ＵＦＪモルガン</td>\n      <td>NaN</td>\n      <td>770.0</td>\n      <td>NaN</td>\n      <td>NaN</td>\n      <td>NaN</td>\n      <td>NaN</td>\n      <td>0.0</td>\n      <td>770.0</td>\n      <td>0.0</td>\n    </tr>\n    <tr>\n      <td>12</td>\n      <td>光世証券</td>\n      <td>NaN</td>\n      <td>NaN</td>\n      <td>NaN</td>\n      <td>1.0</td>\n      <td>NaN</td>\n      <td>NaN</td>\n      <td>1.0</td>\n      <td>0.0</td>\n      <td>0.0</td>\n    </tr>\n    <tr>\n      <td>13</td>\n      <td>大和証券</td>\n      <td>284.0</td>\n      <td>NaN</td>\n      <td>NaN</td>\n      <td>NaN</td>\n      <td>NaN</td>\n      <td>NaN</td>\n      <td>284.0</td>\n      <td>0.0</td>\n      <td>0.0</td>\n    </tr>\n    <tr>\n      <td>14</td>\n      <td>岡三証券</td>\n      <td>NaN</td>\n      <td>NaN</td>\n      <td>NaN</td>\n      <td>2.0</td>\n      <td>2.0</td>\n      <td>0.0</td>\n      <td>2.0</td>\n      <td>2.0</td>\n      <td>0.0</td>\n    </tr>\n    <tr>\n      <td>15</td>\n      <td>岩井コスモ証券</td>\n      <td>NaN</td>\n      <td>NaN</td>\n      <td>NaN</td>\n      <td>NaN</td>\n      <td>1.0</td>\n      <td>NaN</td>\n      <td>0.0</td>\n      <td>1.0</td>\n      <td>0.0</td>\n    </tr>\n    <tr>\n      <td>16</td>\n      <td>日産証券</td>\n      <td>570.0</td>\n      <td>855.0</td>\n      <td>285.0</td>\n      <td>9.0</td>\n      <td>2.0</td>\n      <td>-7.0</td>\n      <td>579.0</td>\n      <td>857.0</td>\n      <td>278.0</td>\n    </tr>\n    <tr>\n      <td>17</td>\n      <td>松井証券</td>\n      <td>553.0</td>\n      <td>746.0</td>\n      <td>193.0</td>\n      <td>23.0</td>\n      <td>5.0</td>\n      <td>-18.0</td>\n      <td>576.0</td>\n      <td>751.0</td>\n      <td>175.0</td>\n    </tr>\n    <tr>\n      <td>18</td>\n      <td>楽天証券</td>\n      <td>733.0</td>\n      <td>820.0</td>\n      <td>87.0</td>\n      <td>4.0</td>\n      <td>9.0</td>\n      <td>5.0</td>\n      <td>737.0</td>\n      <td>829.0</td>\n      <td>92.0</td>\n    </tr>\n    <tr>\n      <td>19</td>\n      <td>野村證券</td>\n      <td>2572.0</td>\n      <td>3388.0</td>\n      <td>816.0</td>\n      <td>NaN</td>\n      <td>NaN</td>\n      <td>NaN</td>\n      <td>2572.0</td>\n      <td>3388.0</td>\n      <td>816.0</td>\n    </tr>\n    <tr>\n      <td>20</td>\n      <td>ＡＢＮアムロクリア</td>\n      <td>17512.0</td>\n      <td>18388.0</td>\n      <td>876.0</td>\n      <td>30.0</td>\n      <td>356.0</td>\n      <td>326.0</td>\n      <td>17542.0</td>\n      <td>18744.0</td>\n      <td>1202.0</td>\n    </tr>\n    <tr>\n      <td>21</td>\n      <td>ＢＮＰパリバ証券</td>\n      <td>300.0</td>\n      <td>297.0</td>\n      <td>-3.0</td>\n      <td>NaN</td>\n      <td>NaN</td>\n      <td>NaN</td>\n      <td>300.0</td>\n      <td>297.0</td>\n      <td>-3.0</td>\n    </tr>\n    <tr>\n      <td>22</td>\n      <td>ＧＭＯクリック証券</td>\n      <td>34.0</td>\n      <td>203.0</td>\n      <td>169.0</td>\n      <td>2.0</td>\n      <td>2.0</td>\n      <td>0.0</td>\n      <td>36.0</td>\n      <td>205.0</td>\n      <td>169.0</td>\n    </tr>\n    <tr>\n      <td>23</td>\n      <td>ＪＰモルガン証券</td>\n      <td>2115.0</td>\n      <td>1222.0</td>\n      <td>-893.0</td>\n      <td>NaN</td>\n      <td>NaN</td>\n      <td>NaN</td>\n      <td>2115.0</td>\n      <td>1222.0</td>\n      <td>-893.0</td>\n    </tr>\n    <tr>\n      <td>24</td>\n      <td>ＳＢＩネオトレード</td>\n      <td>NaN</td>\n      <td>NaN</td>\n      <td>NaN</td>\n      <td>3.0</td>\n      <td>3.0</td>\n      <td>0.0</td>\n      <td>3.0</td>\n      <td>3.0</td>\n      <td>0.0</td>\n    </tr>\n    <tr>\n      <td>25</td>\n      <td>ＳＢＩ証券</td>\n      <td>2123.0</td>\n      <td>3049.0</td>\n      <td>926.0</td>\n      <td>6.0</td>\n      <td>9.0</td>\n      <td>3.0</td>\n      <td>2129.0</td>\n      <td>3058.0</td>\n      <td>929.0</td>\n    </tr>\n    <tr>\n      <td>26</td>\n      <td>ＳＭＢＣ日興証券</td>\n      <td>312.0</td>\n      <td>NaN</td>\n      <td>NaN</td>\n      <td>NaN</td>\n      <td>1.0</td>\n      <td>NaN</td>\n      <td>312.0</td>\n      <td>1.0</td>\n      <td>0.0</td>\n    </tr>\n    <tr>\n      <td>27</td>\n      <td>ＵＢＳ証券</td>\n      <td>NaN</td>\n      <td>796.0</td>\n      <td>NaN</td>\n      <td>NaN</td>\n      <td>NaN</td>\n      <td>NaN</td>\n      <td>0.0</td>\n      <td>796.0</td>\n      <td>0.0</td>\n    </tr>\n    <tr>\n      <td>28</td>\n      <td>ａｕカブコム証券</td>\n      <td>267.0</td>\n      <td>327.0</td>\n      <td>60.0</td>\n      <td>9.0</td>\n      <td>12.0</td>\n      <td>3.0</td>\n      <td>276.0</td>\n      <td>339.0</td>\n      <td>63.0</td>\n    </tr>\n  </tbody>\n</table>\n</div>"
     },
     "metadata": {},
     "execution_count": 30
    }
   ],
   "source": [
    "df[(df[\"売り買い\"] != \"総合計\")&(df[\"売り買い\"] != \"取引参加者\")]"
   ]
  },
  {
   "cell_type": "code",
   "execution_count": null,
   "metadata": {},
   "outputs": [],
   "source": []
  },
  {
   "cell_type": "code",
   "execution_count": null,
   "metadata": {},
   "outputs": [],
   "source": []
  },
  {
   "cell_type": "code",
   "execution_count": null,
   "metadata": {},
   "outputs": [],
   "source": []
  }
 ]
}