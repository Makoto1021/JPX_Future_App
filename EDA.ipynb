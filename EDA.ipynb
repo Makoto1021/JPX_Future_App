{
 "metadata": {
  "language_info": {
   "codemirror_mode": {
    "name": "ipython",
    "version": 3
   },
   "file_extension": ".py",
   "mimetype": "text/x-python",
   "name": "python",
   "nbconvert_exporter": "python",
   "pygments_lexer": "ipython3",
   "version": "3.6.10-final"
  },
  "orig_nbformat": 2,
  "kernelspec": {
   "name": "python3",
   "display_name": "Python 3.6.10 64-bit ('jpx_env': conda)",
   "metadata": {
    "interpreter": {
     "hash": "2e2390cd2c647d87e0c3f987ee04f9ab870c7ed9ffd5665fe27f3c2d915d739d"
    }
   }
  }
 },
 "nbformat": 4,
 "nbformat_minor": 2,
 "cells": [
  {
   "cell_type": "code",
   "execution_count": 1,
   "metadata": {},
   "outputs": [],
   "source": [
    "import pandas as pd\n",
    "import os\n",
    "from datetime import datetime as dt\n",
    "from datetime import timedelta\n",
    "import numpy as np\n",
    "import boto3\n",
    "from io import StringIO\n",
    "from to_csv_on_s3 import to_csv_on_s3"
   ]
  },
  {
   "cell_type": "code",
   "execution_count": 21,
   "metadata": {},
   "outputs": [],
   "source": [
    "client = boto3.client('s3')\n",
    "BUCKET_NAME = 'jpx-future-bucket'\n",
    "FOLDER_RAW = \"raw_data/\"\n",
    "FOLDER_FINAL = \"final_data/\"\n",
    "PATH_GROUP = 's3://' + BUCKET_NAME + '/groups.xlsx'\n",
    "HISTORICAL_GROUP = 's3://' + BUCKET_NAME + '/' + FOLDER_FINAL + 'historical_by_group.csv'\n",
    "HISTORICAL_GROU_PRODUCT = 's3://' + BUCKET_NAME + '/' + FOLDER_FINAL + 'historical_by_group_product.csv'\n",
    "historical_by_group = pd.read_csv(HISTORICAL_GROUP)\n",
    "historical_by_group_product = pd.read_csv(HISTORICAL_GROU_PRODUCT)"
   ]
  },
  {
   "cell_type": "code",
   "execution_count": 19,
   "metadata": {},
   "outputs": [
    {
     "output_type": "execute_result",
     "data": {
      "text/plain": [
       "       product  group        date      buy     sell    diff\n",
       "60  Nikkei sum      1  2021-01-25   5080.8   5120.1   -39.3\n",
       "0   Nikkei sum      1  2021-01-28   6156.8  12130.2 -6413.4\n",
       "20  Nikkei sum      1  2021-01-28   6156.8  12130.2 -6413.4\n",
       "40  Nikkei sum      1  2021-01-28   6156.8  12130.2 -6413.4\n",
       "65  Nikkei sum      2  2021-01-25  42894.6  44846.2 -1781.0\n",
       "5   Nikkei sum      2  2021-01-28  94167.8  89890.0  3039.8\n",
       "25  Nikkei sum      2  2021-01-28  94167.8  89890.0  3039.8\n",
       "45  Nikkei sum      2  2021-01-28  94167.8  89890.0  3039.8\n",
       "70  Nikkei sum      3  2021-01-25   5388.5   3609.4  1468.1\n",
       "10  Nikkei sum      3  2021-01-28   6298.9   8460.2 -3032.2\n",
       "30  Nikkei sum      3  2021-01-28   6298.9   8460.2 -3032.2\n",
       "50  Nikkei sum      3  2021-01-28   6298.9   8460.2 -3032.2\n",
       "75  Nikkei sum      4  2021-01-25  13696.4  14488.4  -895.2\n",
       "15  Nikkei sum      4  2021-01-28  26359.3  25423.6  1704.5\n",
       "35  Nikkei sum      4  2021-01-28  26359.3  25423.6  1704.5\n",
       "55  Nikkei sum      4  2021-01-28  26359.3  25423.6  1704.5\n",
       "61       TOPIX      1  2021-01-25   5651.0   4142.0  1509.0\n",
       "1        TOPIX      1  2021-01-28   7802.0  10482.0 -2680.0\n",
       "21       TOPIX      1  2021-01-28   7802.0  10482.0 -2680.0\n",
       "41       TOPIX      1  2021-01-28   7802.0  10482.0 -2680.0\n",
       "66       TOPIX      2  2021-01-25  22801.0  21866.0   402.0\n",
       "6        TOPIX      2  2021-01-28  47550.0  47468.0    82.0\n",
       "26       TOPIX      2  2021-01-28  47550.0  47468.0    82.0\n",
       "46       TOPIX      2  2021-01-28  47550.0  47468.0    82.0\n",
       "71       TOPIX      3  2021-01-25   2862.0   5278.0 -2416.0\n",
       "11       TOPIX      3  2021-01-28   8192.0   6888.0  1304.0\n",
       "31       TOPIX      3  2021-01-28   8192.0   6888.0  1304.0\n",
       "51       TOPIX      3  2021-01-28   8192.0   6888.0  1304.0\n",
       "76       TOPIX      4  2021-01-25    464.0    481.0   -17.0\n",
       "16       TOPIX      4  2021-01-28    952.0    973.0   -21.0\n",
       "..         ...    ...         ...      ...      ...     ...\n",
       "23   日経225（ミニ）      1  2021-01-28   1382.8   1217.2   165.6\n",
       "43   日経225（ミニ）      1  2021-01-28   1382.8   1217.2   165.6\n",
       "68   日経225（ミニ）      2  2021-01-25  23787.6  23035.2  1097.0\n",
       "8    日経225（ミニ）      2  2021-01-28  48937.8  50326.0 -1388.2\n",
       "28   日経225（ミニ）      2  2021-01-28  48937.8  50326.0 -1388.2\n",
       "48   日経225（ミニ）      2  2021-01-28  48937.8  50326.0 -1388.2\n",
       "73   日経225（ミニ）      3  2021-01-25    638.5    626.4    13.1\n",
       "13   日経225（ミニ）      3  2021-01-28    978.9    928.2  -220.2\n",
       "33   日経225（ミニ）      3  2021-01-28    978.9    928.2  -220.2\n",
       "53   日経225（ミニ）      3  2021-01-28    978.9    928.2  -220.2\n",
       "78   日経225（ミニ）      4  2021-01-25  10587.4  10846.4  -362.2\n",
       "18   日経225（ミニ）      4  2021-01-28  17696.3  17454.6   584.5\n",
       "38   日経225（ミニ）      4  2021-01-28  17696.3  17454.6   584.5\n",
       "58   日経225（ミニ）      4  2021-01-28  17696.3  17454.6   584.5\n",
       "64  日経225（ラージ）      1  2021-01-25   4449.0   4184.0   265.0\n",
       "4   日経225（ラージ）      1  2021-01-28   4774.0  10913.0 -6579.0\n",
       "24  日経225（ラージ）      1  2021-01-28   4774.0  10913.0 -6579.0\n",
       "44  日経225（ラージ）      1  2021-01-28   4774.0  10913.0 -6579.0\n",
       "69  日経225（ラージ）      2  2021-01-25  19107.0  21811.0 -2878.0\n",
       "9   日経225（ラージ）      2  2021-01-28  45230.0  39564.0  4428.0\n",
       "29  日経225（ラージ）      2  2021-01-28  45230.0  39564.0  4428.0\n",
       "49  日経225（ラージ）      2  2021-01-28  45230.0  39564.0  4428.0\n",
       "74  日経225（ラージ）      3  2021-01-25   4750.0   2983.0  1455.0\n",
       "14  日経225（ラージ）      3  2021-01-28   5320.0   7532.0 -2812.0\n",
       "34  日経225（ラージ）      3  2021-01-28   5320.0   7532.0 -2812.0\n",
       "54  日経225（ラージ）      3  2021-01-28   5320.0   7532.0 -2812.0\n",
       "79  日経225（ラージ）      4  2021-01-25   3109.0   3642.0  -533.0\n",
       "19  日経225（ラージ）      4  2021-01-28   8663.0   7969.0  1120.0\n",
       "39  日経225（ラージ）      4  2021-01-28   8663.0   7969.0  1120.0\n",
       "59  日経225（ラージ）      4  2021-01-28   8663.0   7969.0  1120.0\n",
       "\n",
       "[80 rows x 6 columns]"
      ],
      "text/html": "<div>\n<style scoped>\n    .dataframe tbody tr th:only-of-type {\n        vertical-align: middle;\n    }\n\n    .dataframe tbody tr th {\n        vertical-align: top;\n    }\n\n    .dataframe thead th {\n        text-align: right;\n    }\n</style>\n<table border=\"1\" class=\"dataframe\">\n  <thead>\n    <tr style=\"text-align: right;\">\n      <th></th>\n      <th>product</th>\n      <th>group</th>\n      <th>date</th>\n      <th>buy</th>\n      <th>sell</th>\n      <th>diff</th>\n    </tr>\n  </thead>\n  <tbody>\n    <tr>\n      <th>60</th>\n      <td>Nikkei sum</td>\n      <td>1</td>\n      <td>2021-01-25</td>\n      <td>5080.8</td>\n      <td>5120.1</td>\n      <td>-39.3</td>\n    </tr>\n    <tr>\n      <th>0</th>\n      <td>Nikkei sum</td>\n      <td>1</td>\n      <td>2021-01-28</td>\n      <td>6156.8</td>\n      <td>12130.2</td>\n      <td>-6413.4</td>\n    </tr>\n    <tr>\n      <th>20</th>\n      <td>Nikkei sum</td>\n      <td>1</td>\n      <td>2021-01-28</td>\n      <td>6156.8</td>\n      <td>12130.2</td>\n      <td>-6413.4</td>\n    </tr>\n    <tr>\n      <th>40</th>\n      <td>Nikkei sum</td>\n      <td>1</td>\n      <td>2021-01-28</td>\n      <td>6156.8</td>\n      <td>12130.2</td>\n      <td>-6413.4</td>\n    </tr>\n    <tr>\n      <th>65</th>\n      <td>Nikkei sum</td>\n      <td>2</td>\n      <td>2021-01-25</td>\n      <td>42894.6</td>\n      <td>44846.2</td>\n      <td>-1781.0</td>\n    </tr>\n    <tr>\n      <th>5</th>\n      <td>Nikkei sum</td>\n      <td>2</td>\n      <td>2021-01-28</td>\n      <td>94167.8</td>\n      <td>89890.0</td>\n      <td>3039.8</td>\n    </tr>\n    <tr>\n      <th>25</th>\n      <td>Nikkei sum</td>\n      <td>2</td>\n      <td>2021-01-28</td>\n      <td>94167.8</td>\n      <td>89890.0</td>\n      <td>3039.8</td>\n    </tr>\n    <tr>\n      <th>45</th>\n      <td>Nikkei sum</td>\n      <td>2</td>\n      <td>2021-01-28</td>\n      <td>94167.8</td>\n      <td>89890.0</td>\n      <td>3039.8</td>\n    </tr>\n    <tr>\n      <th>70</th>\n      <td>Nikkei sum</td>\n      <td>3</td>\n      <td>2021-01-25</td>\n      <td>5388.5</td>\n      <td>3609.4</td>\n      <td>1468.1</td>\n    </tr>\n    <tr>\n      <th>10</th>\n      <td>Nikkei sum</td>\n      <td>3</td>\n      <td>2021-01-28</td>\n      <td>6298.9</td>\n      <td>8460.2</td>\n      <td>-3032.2</td>\n    </tr>\n    <tr>\n      <th>30</th>\n      <td>Nikkei sum</td>\n      <td>3</td>\n      <td>2021-01-28</td>\n      <td>6298.9</td>\n      <td>8460.2</td>\n      <td>-3032.2</td>\n    </tr>\n    <tr>\n      <th>50</th>\n      <td>Nikkei sum</td>\n      <td>3</td>\n      <td>2021-01-28</td>\n      <td>6298.9</td>\n      <td>8460.2</td>\n      <td>-3032.2</td>\n    </tr>\n    <tr>\n      <th>75</th>\n      <td>Nikkei sum</td>\n      <td>4</td>\n      <td>2021-01-25</td>\n      <td>13696.4</td>\n      <td>14488.4</td>\n      <td>-895.2</td>\n    </tr>\n    <tr>\n      <th>15</th>\n      <td>Nikkei sum</td>\n      <td>4</td>\n      <td>2021-01-28</td>\n      <td>26359.3</td>\n      <td>25423.6</td>\n      <td>1704.5</td>\n    </tr>\n    <tr>\n      <th>35</th>\n      <td>Nikkei sum</td>\n      <td>4</td>\n      <td>2021-01-28</td>\n      <td>26359.3</td>\n      <td>25423.6</td>\n      <td>1704.5</td>\n    </tr>\n    <tr>\n      <th>55</th>\n      <td>Nikkei sum</td>\n      <td>4</td>\n      <td>2021-01-28</td>\n      <td>26359.3</td>\n      <td>25423.6</td>\n      <td>1704.5</td>\n    </tr>\n    <tr>\n      <th>61</th>\n      <td>TOPIX</td>\n      <td>1</td>\n      <td>2021-01-25</td>\n      <td>5651.0</td>\n      <td>4142.0</td>\n      <td>1509.0</td>\n    </tr>\n    <tr>\n      <th>1</th>\n      <td>TOPIX</td>\n      <td>1</td>\n      <td>2021-01-28</td>\n      <td>7802.0</td>\n      <td>10482.0</td>\n      <td>-2680.0</td>\n    </tr>\n    <tr>\n      <th>21</th>\n      <td>TOPIX</td>\n      <td>1</td>\n      <td>2021-01-28</td>\n      <td>7802.0</td>\n      <td>10482.0</td>\n      <td>-2680.0</td>\n    </tr>\n    <tr>\n      <th>41</th>\n      <td>TOPIX</td>\n      <td>1</td>\n      <td>2021-01-28</td>\n      <td>7802.0</td>\n      <td>10482.0</td>\n      <td>-2680.0</td>\n    </tr>\n    <tr>\n      <th>66</th>\n      <td>TOPIX</td>\n      <td>2</td>\n      <td>2021-01-25</td>\n      <td>22801.0</td>\n      <td>21866.0</td>\n      <td>402.0</td>\n    </tr>\n    <tr>\n      <th>6</th>\n      <td>TOPIX</td>\n      <td>2</td>\n      <td>2021-01-28</td>\n      <td>47550.0</td>\n      <td>47468.0</td>\n      <td>82.0</td>\n    </tr>\n    <tr>\n      <th>26</th>\n      <td>TOPIX</td>\n      <td>2</td>\n      <td>2021-01-28</td>\n      <td>47550.0</td>\n      <td>47468.0</td>\n      <td>82.0</td>\n    </tr>\n    <tr>\n      <th>46</th>\n      <td>TOPIX</td>\n      <td>2</td>\n      <td>2021-01-28</td>\n      <td>47550.0</td>\n      <td>47468.0</td>\n      <td>82.0</td>\n    </tr>\n    <tr>\n      <th>71</th>\n      <td>TOPIX</td>\n      <td>3</td>\n      <td>2021-01-25</td>\n      <td>2862.0</td>\n      <td>5278.0</td>\n      <td>-2416.0</td>\n    </tr>\n    <tr>\n      <th>11</th>\n      <td>TOPIX</td>\n      <td>3</td>\n      <td>2021-01-28</td>\n      <td>8192.0</td>\n      <td>6888.0</td>\n      <td>1304.0</td>\n    </tr>\n    <tr>\n      <th>31</th>\n      <td>TOPIX</td>\n      <td>3</td>\n      <td>2021-01-28</td>\n      <td>8192.0</td>\n      <td>6888.0</td>\n      <td>1304.0</td>\n    </tr>\n    <tr>\n      <th>51</th>\n      <td>TOPIX</td>\n      <td>3</td>\n      <td>2021-01-28</td>\n      <td>8192.0</td>\n      <td>6888.0</td>\n      <td>1304.0</td>\n    </tr>\n    <tr>\n      <th>76</th>\n      <td>TOPIX</td>\n      <td>4</td>\n      <td>2021-01-25</td>\n      <td>464.0</td>\n      <td>481.0</td>\n      <td>-17.0</td>\n    </tr>\n    <tr>\n      <th>16</th>\n      <td>TOPIX</td>\n      <td>4</td>\n      <td>2021-01-28</td>\n      <td>952.0</td>\n      <td>973.0</td>\n      <td>-21.0</td>\n    </tr>\n    <tr>\n      <th>...</th>\n      <td>...</td>\n      <td>...</td>\n      <td>...</td>\n      <td>...</td>\n      <td>...</td>\n      <td>...</td>\n    </tr>\n    <tr>\n      <th>23</th>\n      <td>日経225（ミニ）</td>\n      <td>1</td>\n      <td>2021-01-28</td>\n      <td>1382.8</td>\n      <td>1217.2</td>\n      <td>165.6</td>\n    </tr>\n    <tr>\n      <th>43</th>\n      <td>日経225（ミニ）</td>\n      <td>1</td>\n      <td>2021-01-28</td>\n      <td>1382.8</td>\n      <td>1217.2</td>\n      <td>165.6</td>\n    </tr>\n    <tr>\n      <th>68</th>\n      <td>日経225（ミニ）</td>\n      <td>2</td>\n      <td>2021-01-25</td>\n      <td>23787.6</td>\n      <td>23035.2</td>\n      <td>1097.0</td>\n    </tr>\n    <tr>\n      <th>8</th>\n      <td>日経225（ミニ）</td>\n      <td>2</td>\n      <td>2021-01-28</td>\n      <td>48937.8</td>\n      <td>50326.0</td>\n      <td>-1388.2</td>\n    </tr>\n    <tr>\n      <th>28</th>\n      <td>日経225（ミニ）</td>\n      <td>2</td>\n      <td>2021-01-28</td>\n      <td>48937.8</td>\n      <td>50326.0</td>\n      <td>-1388.2</td>\n    </tr>\n    <tr>\n      <th>48</th>\n      <td>日経225（ミニ）</td>\n      <td>2</td>\n      <td>2021-01-28</td>\n      <td>48937.8</td>\n      <td>50326.0</td>\n      <td>-1388.2</td>\n    </tr>\n    <tr>\n      <th>73</th>\n      <td>日経225（ミニ）</td>\n      <td>3</td>\n      <td>2021-01-25</td>\n      <td>638.5</td>\n      <td>626.4</td>\n      <td>13.1</td>\n    </tr>\n    <tr>\n      <th>13</th>\n      <td>日経225（ミニ）</td>\n      <td>3</td>\n      <td>2021-01-28</td>\n      <td>978.9</td>\n      <td>928.2</td>\n      <td>-220.2</td>\n    </tr>\n    <tr>\n      <th>33</th>\n      <td>日経225（ミニ）</td>\n      <td>3</td>\n      <td>2021-01-28</td>\n      <td>978.9</td>\n      <td>928.2</td>\n      <td>-220.2</td>\n    </tr>\n    <tr>\n      <th>53</th>\n      <td>日経225（ミニ）</td>\n      <td>3</td>\n      <td>2021-01-28</td>\n      <td>978.9</td>\n      <td>928.2</td>\n      <td>-220.2</td>\n    </tr>\n    <tr>\n      <th>78</th>\n      <td>日経225（ミニ）</td>\n      <td>4</td>\n      <td>2021-01-25</td>\n      <td>10587.4</td>\n      <td>10846.4</td>\n      <td>-362.2</td>\n    </tr>\n    <tr>\n      <th>18</th>\n      <td>日経225（ミニ）</td>\n      <td>4</td>\n      <td>2021-01-28</td>\n      <td>17696.3</td>\n      <td>17454.6</td>\n      <td>584.5</td>\n    </tr>\n    <tr>\n      <th>38</th>\n      <td>日経225（ミニ）</td>\n      <td>4</td>\n      <td>2021-01-28</td>\n      <td>17696.3</td>\n      <td>17454.6</td>\n      <td>584.5</td>\n    </tr>\n    <tr>\n      <th>58</th>\n      <td>日経225（ミニ）</td>\n      <td>4</td>\n      <td>2021-01-28</td>\n      <td>17696.3</td>\n      <td>17454.6</td>\n      <td>584.5</td>\n    </tr>\n    <tr>\n      <th>64</th>\n      <td>日経225（ラージ）</td>\n      <td>1</td>\n      <td>2021-01-25</td>\n      <td>4449.0</td>\n      <td>4184.0</td>\n      <td>265.0</td>\n    </tr>\n    <tr>\n      <th>4</th>\n      <td>日経225（ラージ）</td>\n      <td>1</td>\n      <td>2021-01-28</td>\n      <td>4774.0</td>\n      <td>10913.0</td>\n      <td>-6579.0</td>\n    </tr>\n    <tr>\n      <th>24</th>\n      <td>日経225（ラージ）</td>\n      <td>1</td>\n      <td>2021-01-28</td>\n      <td>4774.0</td>\n      <td>10913.0</td>\n      <td>-6579.0</td>\n    </tr>\n    <tr>\n      <th>44</th>\n      <td>日経225（ラージ）</td>\n      <td>1</td>\n      <td>2021-01-28</td>\n      <td>4774.0</td>\n      <td>10913.0</td>\n      <td>-6579.0</td>\n    </tr>\n    <tr>\n      <th>69</th>\n      <td>日経225（ラージ）</td>\n      <td>2</td>\n      <td>2021-01-25</td>\n      <td>19107.0</td>\n      <td>21811.0</td>\n      <td>-2878.0</td>\n    </tr>\n    <tr>\n      <th>9</th>\n      <td>日経225（ラージ）</td>\n      <td>2</td>\n      <td>2021-01-28</td>\n      <td>45230.0</td>\n      <td>39564.0</td>\n      <td>4428.0</td>\n    </tr>\n    <tr>\n      <th>29</th>\n      <td>日経225（ラージ）</td>\n      <td>2</td>\n      <td>2021-01-28</td>\n      <td>45230.0</td>\n      <td>39564.0</td>\n      <td>4428.0</td>\n    </tr>\n    <tr>\n      <th>49</th>\n      <td>日経225（ラージ）</td>\n      <td>2</td>\n      <td>2021-01-28</td>\n      <td>45230.0</td>\n      <td>39564.0</td>\n      <td>4428.0</td>\n    </tr>\n    <tr>\n      <th>74</th>\n      <td>日経225（ラージ）</td>\n      <td>3</td>\n      <td>2021-01-25</td>\n      <td>4750.0</td>\n      <td>2983.0</td>\n      <td>1455.0</td>\n    </tr>\n    <tr>\n      <th>14</th>\n      <td>日経225（ラージ）</td>\n      <td>3</td>\n      <td>2021-01-28</td>\n      <td>5320.0</td>\n      <td>7532.0</td>\n      <td>-2812.0</td>\n    </tr>\n    <tr>\n      <th>34</th>\n      <td>日経225（ラージ）</td>\n      <td>3</td>\n      <td>2021-01-28</td>\n      <td>5320.0</td>\n      <td>7532.0</td>\n      <td>-2812.0</td>\n    </tr>\n    <tr>\n      <th>54</th>\n      <td>日経225（ラージ）</td>\n      <td>3</td>\n      <td>2021-01-28</td>\n      <td>5320.0</td>\n      <td>7532.0</td>\n      <td>-2812.0</td>\n    </tr>\n    <tr>\n      <th>79</th>\n      <td>日経225（ラージ）</td>\n      <td>4</td>\n      <td>2021-01-25</td>\n      <td>3109.0</td>\n      <td>3642.0</td>\n      <td>-533.0</td>\n    </tr>\n    <tr>\n      <th>19</th>\n      <td>日経225（ラージ）</td>\n      <td>4</td>\n      <td>2021-01-28</td>\n      <td>8663.0</td>\n      <td>7969.0</td>\n      <td>1120.0</td>\n    </tr>\n    <tr>\n      <th>39</th>\n      <td>日経225（ラージ）</td>\n      <td>4</td>\n      <td>2021-01-28</td>\n      <td>8663.0</td>\n      <td>7969.0</td>\n      <td>1120.0</td>\n    </tr>\n    <tr>\n      <th>59</th>\n      <td>日経225（ラージ）</td>\n      <td>4</td>\n      <td>2021-01-28</td>\n      <td>8663.0</td>\n      <td>7969.0</td>\n      <td>1120.0</td>\n    </tr>\n  </tbody>\n</table>\n<p>80 rows × 6 columns</p>\n</div>"
     },
     "metadata": {},
     "execution_count": 19
    }
   ],
   "source": [
    "historical_by_group_product = historical_by_group_product[[\"product\", \"group\", \"date\", \"buy\", \"sell\", \"diff\"]]\n",
    "historical_by_group_product = historical_by_group_product.sort_values([\"product\", \"group\", \"date\"])\n",
    "historical_by_group_product"
   ]
  },
  {
   "cell_type": "code",
   "execution_count": 9,
   "metadata": {},
   "outputs": [
    {
     "output_type": "execute_result",
     "data": {
      "text/plain": [
       "          date  group       buy      sell     diff\n",
       "12  2021-01-25      1   26544.4   23644.3   2900.1\n",
       "0   2021-01-28      1   34074.4   57354.6 -24600.2\n",
       "4   2021-01-28      1   34074.4   57354.6 -24600.2\n",
       "8   2021-01-28      1   34074.4   57354.6 -24600.2\n",
       "13  2021-01-25      2  174285.8  178270.6  -4539.0\n",
       "1   2021-01-28      2  377603.4  364606.0   9283.4\n",
       "5   2021-01-28      2  377603.4  364606.0   9283.4\n",
       "9   2021-01-28      2  377603.4  364606.0   9283.4\n",
       "14  2021-01-25      3   21889.5   21384.2   -427.7\n",
       "2   2021-01-28      3   35280.7   39156.6  -6488.6\n",
       "6   2021-01-28      3   35280.7   39156.6  -6488.6\n",
       "10  2021-01-28      3   35280.7   39156.6  -6488.6\n",
       "15  2021-01-25      4   42017.2   44427.2  -2719.6\n",
       "3   2021-01-28      4   80981.9   78216.8   5071.5\n",
       "7   2021-01-28      4   80981.9   78216.8   5071.5\n",
       "11  2021-01-28      4   80981.9   78216.8   5071.5"
      ],
      "text/html": "<div>\n<style scoped>\n    .dataframe tbody tr th:only-of-type {\n        vertical-align: middle;\n    }\n\n    .dataframe tbody tr th {\n        vertical-align: top;\n    }\n\n    .dataframe thead th {\n        text-align: right;\n    }\n</style>\n<table border=\"1\" class=\"dataframe\">\n  <thead>\n    <tr style=\"text-align: right;\">\n      <th></th>\n      <th>date</th>\n      <th>group</th>\n      <th>buy</th>\n      <th>sell</th>\n      <th>diff</th>\n    </tr>\n  </thead>\n  <tbody>\n    <tr>\n      <th>12</th>\n      <td>2021-01-25</td>\n      <td>1</td>\n      <td>26544.4</td>\n      <td>23644.3</td>\n      <td>2900.1</td>\n    </tr>\n    <tr>\n      <th>0</th>\n      <td>2021-01-28</td>\n      <td>1</td>\n      <td>34074.4</td>\n      <td>57354.6</td>\n      <td>-24600.2</td>\n    </tr>\n    <tr>\n      <th>4</th>\n      <td>2021-01-28</td>\n      <td>1</td>\n      <td>34074.4</td>\n      <td>57354.6</td>\n      <td>-24600.2</td>\n    </tr>\n    <tr>\n      <th>8</th>\n      <td>2021-01-28</td>\n      <td>1</td>\n      <td>34074.4</td>\n      <td>57354.6</td>\n      <td>-24600.2</td>\n    </tr>\n    <tr>\n      <th>13</th>\n      <td>2021-01-25</td>\n      <td>2</td>\n      <td>174285.8</td>\n      <td>178270.6</td>\n      <td>-4539.0</td>\n    </tr>\n    <tr>\n      <th>1</th>\n      <td>2021-01-28</td>\n      <td>2</td>\n      <td>377603.4</td>\n      <td>364606.0</td>\n      <td>9283.4</td>\n    </tr>\n    <tr>\n      <th>5</th>\n      <td>2021-01-28</td>\n      <td>2</td>\n      <td>377603.4</td>\n      <td>364606.0</td>\n      <td>9283.4</td>\n    </tr>\n    <tr>\n      <th>9</th>\n      <td>2021-01-28</td>\n      <td>2</td>\n      <td>377603.4</td>\n      <td>364606.0</td>\n      <td>9283.4</td>\n    </tr>\n    <tr>\n      <th>14</th>\n      <td>2021-01-25</td>\n      <td>3</td>\n      <td>21889.5</td>\n      <td>21384.2</td>\n      <td>-427.7</td>\n    </tr>\n    <tr>\n      <th>2</th>\n      <td>2021-01-28</td>\n      <td>3</td>\n      <td>35280.7</td>\n      <td>39156.6</td>\n      <td>-6488.6</td>\n    </tr>\n    <tr>\n      <th>6</th>\n      <td>2021-01-28</td>\n      <td>3</td>\n      <td>35280.7</td>\n      <td>39156.6</td>\n      <td>-6488.6</td>\n    </tr>\n    <tr>\n      <th>10</th>\n      <td>2021-01-28</td>\n      <td>3</td>\n      <td>35280.7</td>\n      <td>39156.6</td>\n      <td>-6488.6</td>\n    </tr>\n    <tr>\n      <th>15</th>\n      <td>2021-01-25</td>\n      <td>4</td>\n      <td>42017.2</td>\n      <td>44427.2</td>\n      <td>-2719.6</td>\n    </tr>\n    <tr>\n      <th>3</th>\n      <td>2021-01-28</td>\n      <td>4</td>\n      <td>80981.9</td>\n      <td>78216.8</td>\n      <td>5071.5</td>\n    </tr>\n    <tr>\n      <th>7</th>\n      <td>2021-01-28</td>\n      <td>4</td>\n      <td>80981.9</td>\n      <td>78216.8</td>\n      <td>5071.5</td>\n    </tr>\n    <tr>\n      <th>11</th>\n      <td>2021-01-28</td>\n      <td>4</td>\n      <td>80981.9</td>\n      <td>78216.8</td>\n      <td>5071.5</td>\n    </tr>\n  </tbody>\n</table>\n</div>"
     },
     "metadata": {},
     "execution_count": 9
    }
   ],
   "source": [
    "historical_by_group.sort_values([\"group\", \"date\"])"
   ]
  },
  {
   "cell_type": "code",
   "execution_count": 4,
   "metadata": {},
   "outputs": [],
   "source": [
    "historical_by_group = historical_by_group[[\"date\", \"group\", \"buy\", \"sell\", \"diff\"]]"
   ]
  },
  {
   "cell_type": "code",
   "execution_count": 5,
   "metadata": {},
   "outputs": [],
   "source": [
    "filename = FOLDER_FINAL + \"historical_by_group.csv\"\n",
    "to_csv_on_s3(historical_by_group, bucketName=BUCKET_NAME, fileName=filename)"
   ]
  },
  {
   "cell_type": "code",
   "execution_count": 20,
   "metadata": {},
   "outputs": [],
   "source": [
    "filename = FOLDER_FINAL + \"historical_by_group_product.csv\"\n",
    "to_csv_on_s3(historical_by_group_product, bucketName=BUCKET_NAME, fileName=filename)"
   ]
  },
  {
   "cell_type": "code",
   "execution_count": 2,
   "metadata": {},
   "outputs": [],
   "source": [
    "df = pd.DataFrame({\"a\":[1, 2, 3], \"b\":[4, 5, 6]})"
   ]
  },
  {
   "cell_type": "code",
   "execution_count": 3,
   "metadata": {},
   "outputs": [
    {
     "output_type": "execute_result",
     "data": {
      "text/plain": [
       "array([['AWSSecretKey=EufkhN6s6JeUiJdvYSDtheVxaof5lH0asQvA5VlQ']],\n",
       "      dtype=object)"
      ]
     },
     "metadata": {},
     "execution_count": 3
    }
   ],
   "source": [
    "df_cred = pd.read_csv(\"/Users/mmiyazaki/Documents/AWS/access keys/rootkey.csv\")\n",
    "df_cred.values"
   ]
  },
  {
   "cell_type": "code",
   "execution_count": 4,
   "metadata": {},
   "outputs": [],
   "source": [
    "filename = \"raw_data/test.csv\"\n",
    "bucketName = \"jpx-future-bucket\""
   ]
  },
  {
   "cell_type": "code",
   "execution_count": 12,
   "metadata": {},
   "outputs": [],
   "source": [
    "csv_buffer = StringIO()\n",
    "df.to_csv(csv_buffer)\n",
    "client = boto3.client('s3')\n",
    "response = client.put_object(\n",
    "    ACL = 'private',\n",
    "    Body = csv_buffer.getvalue(),\n",
    "    Bucket=bucketName,\n",
    "    Key=filename\n",
    ")"
   ]
  },
  {
   "cell_type": "code",
   "execution_count": 8,
   "metadata": {},
   "outputs": [
    {
     "output_type": "execute_result",
     "data": {
      "text/plain": [
       "{'ResponseMetadata': {'RequestId': '03D884B9026EA44F',\n",
       "  'HostId': 'pMT5f9BV7pWpnljEbXi+DogMcfLDMoNM8quj+gOM4ODwsDVovjHyXkwRW0pEhgOtsvYZB6pO9r8=',\n",
       "  'HTTPStatusCode': 200,\n",
       "  'HTTPHeaders': {'x-amz-id-2': 'pMT5f9BV7pWpnljEbXi+DogMcfLDMoNM8quj+gOM4ODwsDVovjHyXkwRW0pEhgOtsvYZB6pO9r8=',\n",
       "   'x-amz-request-id': '03D884B9026EA44F',\n",
       "   'date': 'Wed, 20 Jan 2021 21:51:24 GMT',\n",
       "   'etag': '\"9626787b13efe16a3703f4cc70e762fb\"',\n",
       "   'content-length': '0',\n",
       "   'server': 'AmazonS3'},\n",
       "  'RetryAttempts': 0},\n",
       " 'ETag': '\"9626787b13efe16a3703f4cc70e762fb\"'}"
      ]
     },
     "metadata": {},
     "execution_count": 8
    }
   ],
   "source": [
    "response"
   ]
  },
  {
   "cell_type": "code",
   "execution_count": 20,
   "metadata": {},
   "outputs": [
    {
     "output_type": "execute_result",
     "data": {
      "text/plain": [
       "{'ResponseMetadata': {'RequestId': 'A85ABEC3061100C7',\n",
       "  'HostId': 'fSnpTCxH4KiWt2JO74cjZdqGtDFY0K+N0SqMqEwqdC8f72ejAlS7o+euKOn1i/Ydkw5yPQn6fLs=',\n",
       "  'HTTPStatusCode': 200,\n",
       "  'HTTPHeaders': {'x-amz-id-2': 'fSnpTCxH4KiWt2JO74cjZdqGtDFY0K+N0SqMqEwqdC8f72ejAlS7o+euKOn1i/Ydkw5yPQn6fLs=',\n",
       "   'x-amz-request-id': 'A85ABEC3061100C7',\n",
       "   'date': 'Wed, 20 Jan 2021 21:43:54 GMT',\n",
       "   'etag': '\"9626787b13efe16a3703f4cc70e762fb\"',\n",
       "   'content-length': '0',\n",
       "   'server': 'AmazonS3'},\n",
       "  'RetryAttempts': 1},\n",
       " 'ETag': '\"9626787b13efe16a3703f4cc70e762fb\"'}"
      ]
     },
     "metadata": {},
     "execution_count": 20
    }
   ],
   "source": [
    "from io import StringIO  # python3 (or BytesIO for python2)\n",
    "import boto3\n",
    "\n",
    "bucket = 'jpx-future-bucket'  # already created on S3\n",
    "csv_buffer = StringIO()\n",
    "df.to_csv(csv_buffer)\n",
    "\n",
    "s3_resource = boto3.resource('s3')\n",
    "s3_resource.Object(bucket, '/raw_data/test.csv').put(Body=csv_buffer.getvalue())"
   ]
  },
  {
   "cell_type": "code",
   "execution_count": 14,
   "metadata": {},
   "outputs": [],
   "source": [
    "df_hist = pd.read_excel(\"/Users/mmiyazaki/Documents/LANCERS/JPX先物取引/JPX_Future_final_dep/完成データ/時系列データ.xlsx\", header=[0, 1, 2])\n",
    "df_hist.to_csv(\"完成データ/時系列データ.csv\")"
   ]
  },
  {
   "cell_type": "code",
   "execution_count": 15,
   "metadata": {},
   "outputs": [
    {
     "output_type": "execute_result",
     "data": {
      "text/plain": [
       "   Unnamed: 0 アメリカ系合計 アメリカ系合計.1 アメリカ系合計.2          アメリカ系合計.3  \\\n",
       "0          銘柄   Topix     Topix     Topix            日経225合計   \n",
       "1          売買      売り        買い        差引                 売り   \n",
       "2  2020-08-07    5077      7530     -2532             4761.4   \n",
       "3  2020-08-11   11841     13035     -1194             7776.5   \n",
       "4  2020-08-12    9305     16916     -7611             8667.8   \n",
       "5  2020-08-13   10687     12246      -665            12014.8   \n",
       "6  2020-08-14   10636     12278     -1642             8251.0   \n",
       "7  2020-08-20   13068     27482    -13700            12470.2   \n",
       "8  2020-08-21    4410      4869      -459  5532.799999999999   \n",
       "\n",
       "           アメリカ系合計.4           アメリカ系合計.5 アメリカ系合計.6 アメリカ系合計.7  \\\n",
       "0            日経225合計             日経225合計       総合計       総合計   \n",
       "1                 買い                  差引        売り        買い   \n",
       "2             5229.7  -468.2999999999998    6947.4    8440.7   \n",
       "3            11434.5             -2796.0   13394.5   17952.0   \n",
       "4  9255.300000000001  -587.5000000000007   11837.3   14514.3   \n",
       "5            15135.7  -469.3000000000002   16058.3   21258.7   \n",
       "6             8968.4   450.8999999999999   12318.0   15107.4   \n",
       "7            12975.2   1558.399999999999   15697.2   22295.2   \n",
       "8             4755.0   777.7999999999998    7433.3    6651.0   \n",
       "\n",
       "            アメリカ系合計.8         ...                  ヨーロッパ系合計.8 国内大手合計 国内大手合計.1  \\\n",
       "0                 総合計         ...                         総合計  Topix    Topix   \n",
       "1                  差引         ...                          差引     売り       買い   \n",
       "2             -1493.3         ...           3212.099999999997   6282     6223   \n",
       "3             -3406.0         ...           899.2999999999956  11378     4875   \n",
       "4             -2677.0         ...          -4802.200000000007  13838     7870   \n",
       "5             -1475.3         ...                     -1487.0  10776     6864   \n",
       "6  -372.5999999999999         ...          -3237.500000000001   4800     4167   \n",
       "7  -584.6000000000017         ...           637.5999999999858  10396     6244   \n",
       "8   782.2999999999997         ...                        26.5   3242     1969   \n",
       "\n",
       "  国内大手合計.2           国内大手合計.3 国内大手合計.4            国内大手合計.5 国内大手合計.6 国内大手合計.7  \\\n",
       "0    Topix            日経225合計  日経225合計             日経225合計      総合計      総合計   \n",
       "1       差引                 売り       買い                  差引       売り       買い   \n",
       "2       59             2314.8   2594.5  -279.7000000000003   4839.3   5238.5   \n",
       "3     2876             5741.5   6810.3             -2167.9  10653.5   8285.0   \n",
       "4     4827             7894.6   2223.7              2845.8  11247.6   3530.2   \n",
       "5     3912            16934.3   7174.4              5863.6  22322.3  10248.4   \n",
       "6      633             8308.3   4996.9              5954.9   9755.3   6671.4   \n",
       "7     2718  5907.799999999999   3024.8   1155.599999999999   8276.4   4408.8   \n",
       "8     1273             2832.8   4438.9             -1580.0   3743.3   4917.4   \n",
       "\n",
       "             国内大手合計.8  \n",
       "0                 総合計  \n",
       "1                  差引  \n",
       "2  -399.1999999999998  \n",
       "3             -1002.2  \n",
       "4              4712.8  \n",
       "5   7794.600000000001  \n",
       "6              6727.9  \n",
       "7   2539.599999999999  \n",
       "8             -1513.5  \n",
       "\n",
       "[9 rows x 37 columns]"
      ],
      "text/html": "<div>\n<style scoped>\n    .dataframe tbody tr th:only-of-type {\n        vertical-align: middle;\n    }\n\n    .dataframe tbody tr th {\n        vertical-align: top;\n    }\n\n    .dataframe thead th {\n        text-align: right;\n    }\n</style>\n<table border=\"1\" class=\"dataframe\">\n  <thead>\n    <tr style=\"text-align: right;\">\n      <th></th>\n      <th>Unnamed: 0</th>\n      <th>アメリカ系合計</th>\n      <th>アメリカ系合計.1</th>\n      <th>アメリカ系合計.2</th>\n      <th>アメリカ系合計.3</th>\n      <th>アメリカ系合計.4</th>\n      <th>アメリカ系合計.5</th>\n      <th>アメリカ系合計.6</th>\n      <th>アメリカ系合計.7</th>\n      <th>アメリカ系合計.8</th>\n      <th>...</th>\n      <th>ヨーロッパ系合計.8</th>\n      <th>国内大手合計</th>\n      <th>国内大手合計.1</th>\n      <th>国内大手合計.2</th>\n      <th>国内大手合計.3</th>\n      <th>国内大手合計.4</th>\n      <th>国内大手合計.5</th>\n      <th>国内大手合計.6</th>\n      <th>国内大手合計.7</th>\n      <th>国内大手合計.8</th>\n    </tr>\n  </thead>\n  <tbody>\n    <tr>\n      <th>0</th>\n      <td>銘柄</td>\n      <td>Topix</td>\n      <td>Topix</td>\n      <td>Topix</td>\n      <td>日経225合計</td>\n      <td>日経225合計</td>\n      <td>日経225合計</td>\n      <td>総合計</td>\n      <td>総合計</td>\n      <td>総合計</td>\n      <td>...</td>\n      <td>総合計</td>\n      <td>Topix</td>\n      <td>Topix</td>\n      <td>Topix</td>\n      <td>日経225合計</td>\n      <td>日経225合計</td>\n      <td>日経225合計</td>\n      <td>総合計</td>\n      <td>総合計</td>\n      <td>総合計</td>\n    </tr>\n    <tr>\n      <th>1</th>\n      <td>売買</td>\n      <td>売り</td>\n      <td>買い</td>\n      <td>差引</td>\n      <td>売り</td>\n      <td>買い</td>\n      <td>差引</td>\n      <td>売り</td>\n      <td>買い</td>\n      <td>差引</td>\n      <td>...</td>\n      <td>差引</td>\n      <td>売り</td>\n      <td>買い</td>\n      <td>差引</td>\n      <td>売り</td>\n      <td>買い</td>\n      <td>差引</td>\n      <td>売り</td>\n      <td>買い</td>\n      <td>差引</td>\n    </tr>\n    <tr>\n      <th>2</th>\n      <td>2020-08-07</td>\n      <td>5077</td>\n      <td>7530</td>\n      <td>-2532</td>\n      <td>4761.4</td>\n      <td>5229.7</td>\n      <td>-468.2999999999998</td>\n      <td>6947.4</td>\n      <td>8440.7</td>\n      <td>-1493.3</td>\n      <td>...</td>\n      <td>3212.099999999997</td>\n      <td>6282</td>\n      <td>6223</td>\n      <td>59</td>\n      <td>2314.8</td>\n      <td>2594.5</td>\n      <td>-279.7000000000003</td>\n      <td>4839.3</td>\n      <td>5238.5</td>\n      <td>-399.1999999999998</td>\n    </tr>\n    <tr>\n      <th>3</th>\n      <td>2020-08-11</td>\n      <td>11841</td>\n      <td>13035</td>\n      <td>-1194</td>\n      <td>7776.5</td>\n      <td>11434.5</td>\n      <td>-2796.0</td>\n      <td>13394.5</td>\n      <td>17952.0</td>\n      <td>-3406.0</td>\n      <td>...</td>\n      <td>899.2999999999956</td>\n      <td>11378</td>\n      <td>4875</td>\n      <td>2876</td>\n      <td>5741.5</td>\n      <td>6810.3</td>\n      <td>-2167.9</td>\n      <td>10653.5</td>\n      <td>8285.0</td>\n      <td>-1002.2</td>\n    </tr>\n    <tr>\n      <th>4</th>\n      <td>2020-08-12</td>\n      <td>9305</td>\n      <td>16916</td>\n      <td>-7611</td>\n      <td>8667.8</td>\n      <td>9255.300000000001</td>\n      <td>-587.5000000000007</td>\n      <td>11837.3</td>\n      <td>14514.3</td>\n      <td>-2677.0</td>\n      <td>...</td>\n      <td>-4802.200000000007</td>\n      <td>13838</td>\n      <td>7870</td>\n      <td>4827</td>\n      <td>7894.6</td>\n      <td>2223.7</td>\n      <td>2845.8</td>\n      <td>11247.6</td>\n      <td>3530.2</td>\n      <td>4712.8</td>\n    </tr>\n    <tr>\n      <th>5</th>\n      <td>2020-08-13</td>\n      <td>10687</td>\n      <td>12246</td>\n      <td>-665</td>\n      <td>12014.8</td>\n      <td>15135.7</td>\n      <td>-469.3000000000002</td>\n      <td>16058.3</td>\n      <td>21258.7</td>\n      <td>-1475.3</td>\n      <td>...</td>\n      <td>-1487.0</td>\n      <td>10776</td>\n      <td>6864</td>\n      <td>3912</td>\n      <td>16934.3</td>\n      <td>7174.4</td>\n      <td>5863.6</td>\n      <td>22322.3</td>\n      <td>10248.4</td>\n      <td>7794.600000000001</td>\n    </tr>\n    <tr>\n      <th>6</th>\n      <td>2020-08-14</td>\n      <td>10636</td>\n      <td>12278</td>\n      <td>-1642</td>\n      <td>8251.0</td>\n      <td>8968.4</td>\n      <td>450.8999999999999</td>\n      <td>12318.0</td>\n      <td>15107.4</td>\n      <td>-372.5999999999999</td>\n      <td>...</td>\n      <td>-3237.500000000001</td>\n      <td>4800</td>\n      <td>4167</td>\n      <td>633</td>\n      <td>8308.3</td>\n      <td>4996.9</td>\n      <td>5954.9</td>\n      <td>9755.3</td>\n      <td>6671.4</td>\n      <td>6727.9</td>\n    </tr>\n    <tr>\n      <th>7</th>\n      <td>2020-08-20</td>\n      <td>13068</td>\n      <td>27482</td>\n      <td>-13700</td>\n      <td>12470.2</td>\n      <td>12975.2</td>\n      <td>1558.399999999999</td>\n      <td>15697.2</td>\n      <td>22295.2</td>\n      <td>-584.6000000000017</td>\n      <td>...</td>\n      <td>637.5999999999858</td>\n      <td>10396</td>\n      <td>6244</td>\n      <td>2718</td>\n      <td>5907.799999999999</td>\n      <td>3024.8</td>\n      <td>1155.599999999999</td>\n      <td>8276.4</td>\n      <td>4408.8</td>\n      <td>2539.599999999999</td>\n    </tr>\n    <tr>\n      <th>8</th>\n      <td>2020-08-21</td>\n      <td>4410</td>\n      <td>4869</td>\n      <td>-459</td>\n      <td>5532.799999999999</td>\n      <td>4755.0</td>\n      <td>777.7999999999998</td>\n      <td>7433.3</td>\n      <td>6651.0</td>\n      <td>782.2999999999997</td>\n      <td>...</td>\n      <td>26.5</td>\n      <td>3242</td>\n      <td>1969</td>\n      <td>1273</td>\n      <td>2832.8</td>\n      <td>4438.9</td>\n      <td>-1580.0</td>\n      <td>3743.3</td>\n      <td>4917.4</td>\n      <td>-1513.5</td>\n    </tr>\n  </tbody>\n</table>\n<p>9 rows × 37 columns</p>\n</div>"
     },
     "metadata": {},
     "execution_count": 15
    }
   ],
   "source": [
    "pd.read_csv(\"完成データ/時系列データ.csv\")"
   ]
  },
  {
   "cell_type": "code",
   "execution_count": null,
   "metadata": {},
   "outputs": [],
   "source": []
  }
 ]
}