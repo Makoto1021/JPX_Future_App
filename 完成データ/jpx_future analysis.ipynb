{
 "metadata": {
  "language_info": {
   "codemirror_mode": {
    "name": "ipython",
    "version": 3
   },
   "file_extension": ".py",
   "mimetype": "text/x-python",
   "name": "python",
   "nbconvert_exporter": "python",
   "pygments_lexer": "ipython3",
   "version": "3.6.10-final"
  },
  "orig_nbformat": 2,
  "kernelspec": {
   "name": "python3",
   "display_name": "Python 3.6.10 64-bit ('jpx_env': conda)",
   "metadata": {
    "interpreter": {
     "hash": "2e2390cd2c647d87e0c3f987ee04f9ab870c7ed9ffd5665fe27f3c2d915d739d"
    }
   }
  }
 },
 "nbformat": 4,
 "nbformat_minor": 2,
 "cells": [
  {
   "cell_type": "code",
   "execution_count": 3,
   "metadata": {},
   "outputs": [
    {
     "output_type": "error",
     "ename": "ModuleNotFoundError",
     "evalue": "No module named 'download_data'",
     "traceback": [
      "\u001b[0;31m---------------------------------------------------------------------------\u001b[0m",
      "\u001b[0;31mModuleNotFoundError\u001b[0m                       Traceback (most recent call last)",
      "\u001b[0;32m<ipython-input-3-a352df766921>\u001b[0m in \u001b[0;36m<module>\u001b[0;34m\u001b[0m\n\u001b[1;32m      8\u001b[0m \u001b[0;32mfrom\u001b[0m \u001b[0mbs4\u001b[0m \u001b[0;32mimport\u001b[0m \u001b[0mBeautifulSoup\u001b[0m\u001b[0;34m\u001b[0m\u001b[0;34m\u001b[0m\u001b[0m\n\u001b[1;32m      9\u001b[0m \u001b[0;32mfrom\u001b[0m \u001b[0mfunctools\u001b[0m \u001b[0;32mimport\u001b[0m \u001b[0mpartial\u001b[0m\u001b[0;34m,\u001b[0m \u001b[0mreduce\u001b[0m\u001b[0;34m\u001b[0m\u001b[0;34m\u001b[0m\u001b[0m\n\u001b[0;32m---> 10\u001b[0;31m \u001b[0;32mfrom\u001b[0m \u001b[0mdownload_data\u001b[0m \u001b[0;32mimport\u001b[0m \u001b[0mget_url\u001b[0m\u001b[0;34m,\u001b[0m \u001b[0mclean_dataframe\u001b[0m\u001b[0;34m,\u001b[0m \u001b[0mget_csv\u001b[0m\u001b[0;34m\u001b[0m\u001b[0;34m\u001b[0m\u001b[0m\n\u001b[0m\u001b[1;32m     11\u001b[0m \u001b[0;32mfrom\u001b[0m \u001b[0mtransform_data\u001b[0m \u001b[0;32mimport\u001b[0m \u001b[0;34m*\u001b[0m\u001b[0;34m\u001b[0m\u001b[0;34m\u001b[0m\u001b[0m\n\u001b[1;32m     12\u001b[0m \u001b[0;32mimport\u001b[0m \u001b[0mos\u001b[0m\u001b[0;34m\u001b[0m\u001b[0;34m\u001b[0m\u001b[0m\n",
      "\u001b[0;31mModuleNotFoundError\u001b[0m: No module named 'download_data'"
     ]
    }
   ],
   "source": [
    "import pandas as pd\n",
    "import numpy as np\n",
    "from datetime import datetime as dt\n",
    "from datetime import timedelta\n",
    "import io\n",
    "import requests\n",
    "import re\n",
    "from bs4 import BeautifulSoup\n",
    "from functools import partial, reduce\n",
    "from download_data import get_url, clean_dataframe, get_csv\n",
    "from transform_data import *\n",
    "import os\n",
    "import glob\n",
    "import boto3\n",
    "from to_csv_on_s3 import to_csv_on_s3\n",
    "\n",
    "## 1-2. パラメーターの設定\n",
    "# 元データをダウンロードするためのフォルダ\n",
    "# reading s3 bucket\n",
    "client = boto3.client('s3')\n",
    "\n",
    "dirname = os.getcwd()\n",
    "# FOLDER_RAW = os.path.join(dirname, '元データ/')\n",
    "BUCKET_NAME = 'jpx-future-bucket'\n",
    "FOLDER_RAW = \"raw_data/\"\n",
    "\n",
    "# 完成したデータを保存するためのフォルダ\n",
    "# FOLDER_FINAL = os.path.join(dirname, '完成データ/')\n",
    "# FOLDER_FINAL = 's3://jpx-future-bucket/完成データ/'\n",
    "FOLDER_FINAL = \"final_data/\"\n",
    "\n",
    "# 企業のグループ分けに使うExcelファイル\n",
    "PATH_GROUP = os.path.join(dirname, '企業名グループ.xlsx')\n",
    "\n",
    "# TOPIXに掛ける係数（225合計と合わせて総合計を計算する際に使う）\n",
    "TOPIX_MULTI = 1.0"
   ]
  },
  {
   "cell_type": "code",
   "execution_count": 2,
   "metadata": {},
   "outputs": [
    {
     "output_type": "stream",
     "name": "stdout",
     "text": [
      "days 0\n"
     ]
    },
    {
     "output_type": "error",
     "ename": "NameError",
     "evalue": "name 'TOPIX_MULTI' is not defined",
     "traceback": [
      "\u001b[0;31m---------------------------------------------------------------------------\u001b[0m",
      "\u001b[0;31mNameError\u001b[0m                                 Traceback (most recent call last)",
      "\u001b[0;32m<ipython-input-2-4cf2b15c4be4>\u001b[0m in \u001b[0;36m<module>\u001b[0;34m\u001b[0m\n\u001b[1;32m      1\u001b[0m \u001b[0mdays\u001b[0m \u001b[0;34m=\u001b[0m \u001b[0;36m0\u001b[0m\u001b[0;34m\u001b[0m\u001b[0;34m\u001b[0m\u001b[0m\n\u001b[1;32m      2\u001b[0m \u001b[0mprint\u001b[0m\u001b[0;34m(\u001b[0m\u001b[0;34m\"days\"\u001b[0m\u001b[0;34m,\u001b[0m \u001b[0mdays\u001b[0m\u001b[0;34m)\u001b[0m\u001b[0;34m\u001b[0m\u001b[0;34m\u001b[0m\u001b[0m\n\u001b[0;32m----> 3\u001b[0;31m \u001b[0mprint\u001b[0m\u001b[0;34m(\u001b[0m\u001b[0;34m\"TOPIX_MULTI\"\u001b[0m\u001b[0;34m,\u001b[0m \u001b[0mTOPIX_MULTI\u001b[0m\u001b[0;34m)\u001b[0m\u001b[0;34m\u001b[0m\u001b[0;34m\u001b[0m\u001b[0m\n\u001b[0m\u001b[1;32m      4\u001b[0m \u001b[0;34m\u001b[0m\u001b[0m\n\u001b[1;32m      5\u001b[0m \u001b[0mday\u001b[0m \u001b[0;34m=\u001b[0m \u001b[0mdt\u001b[0m\u001b[0;34m.\u001b[0m\u001b[0mtoday\u001b[0m\u001b[0;34m(\u001b[0m\u001b[0;34m)\u001b[0m \u001b[0;34m-\u001b[0m \u001b[0mtimedelta\u001b[0m\u001b[0;34m(\u001b[0m\u001b[0mdays\u001b[0m\u001b[0;34m=\u001b[0m\u001b[0mdays\u001b[0m\u001b[0;34m)\u001b[0m\u001b[0;34m\u001b[0m\u001b[0;34m\u001b[0m\u001b[0m\n",
      "\u001b[0;31mNameError\u001b[0m: name 'TOPIX_MULTI' is not defined"
     ]
    }
   ],
   "source": [
    "days = 0\n",
    "print(\"days\", days)\n",
    "print(\"TOPIX_MULTI\", TOPIX_MULTI)\n",
    "\n",
    "day = dt.today() - timedelta(days=days)\n",
    "colnames = ['institutions_sell_code', 'institutions_sell', \n",
    "        'institutions_sell_eng', 'volume_sell', 'institutions_buy_code', \n",
    "        'institutions_buy', 'institutions_buy_eng', 'volume_buy']\n",
    "\n",
    "print(\"2. データのダウンロード\")\n",
    "\n",
    "### 2-2. 日中立会取引データのダウンロード\n",
    "url_wholeday = get_url(datatype=3, day=day)\n",
    "if url_wholeday == \"No data\":\n",
    "    # 休日などでファイルがない場合はエラーメッセージを返します\n",
    "    text = \"%s年%s月%s日の日中立会取引データが見つかりません\"%(day.year, day.month, day.day)\n",
    "    print(text)\n",
    "elif url_wholeday == \"No page\":\n",
    "    text = \"メインページが見つかりません。https://www.jpx.co.jp/markets/derivatives/participant-volume/index.html　を確認してください\"\n",
    "    print(text)\n",
    "elif requests.get(url_wholeday).ok:\n",
    "    s=requests.get(url_wholeday).content\n",
    "    df_wholeday = clean_dataframe(get_csv(s, colnames = colnames), day = day)\n",
    "    filename = FOLDER_RAW + \"日中立会取引\" + str(day.year) +\"-\"+ str(day.month) +\"-\"+ str(day.day) + \".csv\"\n",
    "    # df_wholeday.to_csv(filename)\n",
    "    to_csv_on_s3(df_wholeday, bucketName=BUCKET_NAME, fileName=filename)\n",
    "    text = \"%s年%s月%s日の日中立会取引データをダウンロードしました\"%(day.year, day.month, day.day)\n",
    "    print(text)\n",
    "else:\n",
    "    text = \"何らかの理由でデータが見つかりません\"\n",
    "    print(text)\n",
    "\n",
    "### 2-3. 日中JNET取引データのダウンロード\n",
    "url_wholeday_JNET = get_url(datatype=4, day=day)\n",
    "if url_wholeday == \"No data\":\n",
    "    # 休日などでファイルがない場合はエラーメッセージを返します\n",
    "    text = \"%s年%s月%s日の日中JNET取引データが見つかりません\"%(day.year, day.month, day.day)\n",
    "    print(text)\n",
    "elif url_wholeday == \"No page\":\n",
    "    text = \"メインページが見つかりません。https://www.jpx.co.jp/markets/derivatives/participant-volume/index.html　を確認してください\"\n",
    "    print(text)\n",
    "elif requests.get(url_wholeday_JNET).ok:\n",
    "    s=requests.get(url_wholeday_JNET).content\n",
    "    df_wholeday_JNET = clean_dataframe(get_csv(s, colnames = colnames), day = day)\n",
    "    filename = FOLDER_RAW + \"日中JNET取引\" + str(day.year) +\"-\"+ str(day.month) +\"-\"+ str(day.day) + \".csv\"\n",
    "    # df_wholeday_JNET.to_csv(filename)\n",
    "    to_csv_on_s3(df_wholeday_JNET, bucketName=BUCKET_NAME, fileName=filename)\n",
    "    text = \"%s年%s月%s日の日中JNET取引データをダウンロードしました\"%(day.year, day.month, day.day)\n",
    "    print(text)\n",
    "else:\n",
    "    text = \"何らかの理由でデータが見つかりません\"\n",
    "    print(text)\n",
    "\n",
    "### 2-4. ナイト立会取引データのダウンロード\n",
    "url_night = get_url(datatype=1, day=day)\n",
    "if url_wholeday == \"No data\":\n",
    "    # 休日などでファイルがない場合はエラーメッセージを返します\n",
    "    text = \"%s年%s月%s日のナイト立会取引データが見つかりません\"%(day.year, day.month, day.day)\n",
    "    print(text)\n",
    "elif url_wholeday == \"No page\":\n",
    "    text = \"メインページが見つかりません。https://www.jpx.co.jp/markets/derivatives/participant-volume/index.html　を確認してください\"\n",
    "    print(text)\n",
    "elif requests.get(url_night).ok:\n",
    "    s=requests.get(url_night).content\n",
    "    df_night = clean_dataframe(get_csv(s, colnames = colnames), day = day)\n",
    "    filename = FOLDER_RAW + \"ナイト立会取引\" + str(day.year) +\"-\"+ str(day.month) +\"-\"+ str(day.day) + \".csv\"\n",
    "    # df_night.to_csv(filename)\n",
    "    to_csv_on_s3(df_night, bucketName=BUCKET_NAME, fileName=filename)\n",
    "    text = \"%s年%s月%s日のナイト立会取引データをダウンロードしました\"%(day.year, day.month, day.day)\n",
    "    print(text)\n",
    "else:\n",
    "    text = \"何らかの理由でデータが見つかりません\"\n",
    "    print(text)\n",
    "\n",
    "### 2-5. ナイトJNET取引データのダウンロード\n",
    "url_night_JNET = get_url(datatype=2, day=day)\n",
    "if url_wholeday == \"No data\":\n",
    "    # 休日などでファイルがない場合はエラーメッセージを返します\n",
    "    text = \"%s年%s月%s日のナイトJNET取引データが見つかりません\"%(day.year, day.month, day.day)\n",
    "    print(text)\n",
    "elif url_wholeday == \"No page\":\n",
    "    text = \"メインページが見つかりません。https://www.jpx.co.jp/markets/derivatives/participant-volume/index.html　を確認してください\"\n",
    "    print(text)\n",
    "elif requests.get(url_night_JNET).ok:\n",
    "    s=requests.get(url_night_JNET).content\n",
    "    df_night_JNET = clean_dataframe(get_csv(s, colnames = colnames), day = day)\n",
    "    filename = FOLDER_RAW + \"ナイトJNET取引\" + str(day.year) +\"-\"+ str(day.month) +\"-\"+ str(day.day) + \".csv\"\n",
    "    # df_night_JNET.to_csv(filename)\n",
    "    to_csv_on_s3(df_night_JNET, bucketName=BUCKET_NAME, fileName=filename)\n",
    "    text = \"%s年%s月%s日のナイトJNET取引データをダウンロードしました\"%(day.year, day.month, day.day)\n",
    "    print(text)\n",
    "else:\n",
    "    text = \"何らかの理由でデータが見つかりません\"\n",
    "    print(text)"
   ]
  },
  {
   "cell_type": "code",
   "execution_count": null,
   "metadata": {},
   "outputs": [],
   "source": []
  }
 ]
}